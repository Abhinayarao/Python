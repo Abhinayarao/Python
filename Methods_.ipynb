{
  "nbformat": 4,
  "nbformat_minor": 0,
  "metadata": {
    "colab": {
      "provenance": [],
      "authorship_tag": "ABX9TyOYAgpUOw1ZNX8GpQVN+4JR",
      "include_colab_link": true
    },
    "kernelspec": {
      "name": "python3",
      "display_name": "Python 3"
    },
    "language_info": {
      "name": "python"
    }
  },
  "cells": [
    {
      "cell_type": "markdown",
      "metadata": {
        "id": "view-in-github",
        "colab_type": "text"
      },
      "source": [
        "<a href=\"https://colab.research.google.com/github/Abhinayarao/Python/blob/main/Methods_.ipynb\" target=\"_parent\"><img src=\"https://colab.research.google.com/assets/colab-badge.svg\" alt=\"Open In Colab\"/></a>"
      ]
    },
    {
      "cell_type": "markdown",
      "source": [
        "#String Methods"
      ],
      "metadata": {
        "id": "byhkRWqCUN9S"
      }
    },
    {
      "cell_type": "code",
      "source": [
        "A = [2,4,6,7,3,6]\n",
        "for a in A:\n",
        "  print(A.index(a))"
      ],
      "metadata": {
        "colab": {
          "base_uri": "https://localhost:8080/"
        },
        "id": "82OEM8GIUObB",
        "outputId": "b01ceb21-7eec-4198-ff79-e94e961fbc84"
      },
      "execution_count": null,
      "outputs": [
        {
          "output_type": "stream",
          "name": "stdout",
          "text": [
            "0\n",
            "1\n",
            "2\n",
            "3\n",
            "4\n",
            "2\n"
          ]
        }
      ]
    },
    {
      "cell_type": "code",
      "source": [
        "a = 'PYTHON.PY'\n",
        "print(a.casefold())"
      ],
      "metadata": {
        "colab": {
          "base_uri": "https://localhost:8080/"
        },
        "id": "ZRNohmca2nnJ",
        "outputId": "75b21aed-d770-4548-eddf-221b90e66fdf"
      },
      "execution_count": null,
      "outputs": [
        {
          "output_type": "stream",
          "name": "stdout",
          "text": [
            "python.py\n"
          ]
        }
      ]
    },
    {
      "cell_type": "code",
      "source": [
        "a = ('pencil')\n",
        "print(a.center(20))"
      ],
      "metadata": {
        "colab": {
          "base_uri": "https://localhost:8080/"
        },
        "id": "6qNtrzlW28VF",
        "outputId": "d4cbd847-2da5-4f32-bb08-c9769fee3f9b"
      },
      "execution_count": null,
      "outputs": [
        {
          "output_type": "stream",
          "name": "stdout",
          "text": [
            "       pencil       \n"
          ]
        }
      ]
    },
    {
      "cell_type": "code",
      "source": [
        "print(a.center(10, '1'))"
      ],
      "metadata": {
        "colab": {
          "base_uri": "https://localhost:8080/"
        },
        "id": "x0Fgu_8J4hE3",
        "outputId": "522146de-30de-4a16-e8d5-29e43b1d5765"
      },
      "execution_count": null,
      "outputs": [
        {
          "output_type": "stream",
          "name": "stdout",
          "text": [
            "11pencil11\n"
          ]
        }
      ]
    },
    {
      "cell_type": "code",
      "source": [
        "a=('python and sql and sql')\n",
        "i = a.count('sql')\n",
        "print(i)"
      ],
      "metadata": {
        "colab": {
          "base_uri": "https://localhost:8080/"
        },
        "id": "he7m-ZBi4tvL",
        "outputId": "ca4b426a-47ae-4206-d74d-204a991bea2f"
      },
      "execution_count": null,
      "outputs": [
        {
          "output_type": "stream",
          "name": "stdout",
          "text": [
            "2\n"
          ]
        }
      ]
    },
    {
      "cell_type": "code",
      "source": [
        "a = ('my name is abhi')\n",
        "i = a.encode()\n",
        "print(i)"
      ],
      "metadata": {
        "colab": {
          "base_uri": "https://localhost:8080/"
        },
        "id": "e_xl1wK36QpA",
        "outputId": "802ff731-e57d-4a88-d644-026eb16322a4"
      },
      "execution_count": null,
      "outputs": [
        {
          "output_type": "stream",
          "name": "stdout",
          "text": [
            "b'my name is abhi'\n"
          ]
        }
      ]
    },
    {
      "cell_type": "code",
      "source": [
        "a = 'Python'\n",
        "i = a.endswith('e')\n",
        "print(i)"
      ],
      "metadata": {
        "colab": {
          "base_uri": "https://localhost:8080/"
        },
        "id": "HtExyY799gG6",
        "outputId": "be292a10-b8cd-4765-fb6b-e9805321e717"
      },
      "execution_count": null,
      "outputs": [
        {
          "output_type": "stream",
          "name": "stdout",
          "text": [
            "False\n"
          ]
        }
      ]
    },
    {
      "cell_type": "code",
      "source": [
        "a = 'p\\ty\\tt\\th\\to\\tn'\n",
        "i = a.expandtabs(10)\n",
        "print(i)"
      ],
      "metadata": {
        "colab": {
          "base_uri": "https://localhost:8080/"
        },
        "id": "0Sg8gMpv96E1",
        "outputId": "00da7505-f5e7-40fd-b085-5e149702e46e"
      },
      "execution_count": null,
      "outputs": [
        {
          "output_type": "stream",
          "name": "stdout",
          "text": [
            "p         y         t         h         o         n\n"
          ]
        }
      ]
    },
    {
      "cell_type": "code",
      "source": [
        "a = 'Hello welcome to my channel'\n",
        "i = a.find('welcome')\n",
        "print(i)"
      ],
      "metadata": {
        "colab": {
          "base_uri": "https://localhost:8080/"
        },
        "id": "053IcKRi_aoY",
        "outputId": "63b6dc8e-08a2-4a21-bdf8-bb1dfd002020"
      },
      "execution_count": null,
      "outputs": [
        {
          "output_type": "stream",
          "name": "stdout",
          "text": [
            "6\n"
          ]
        }
      ]
    },
    {
      "cell_type": "code",
      "source": [
        "a = \"my name is {name}, and i'm {age} years old\".format(name='abhi', age = '23')\n",
        "print(a)"
      ],
      "metadata": {
        "colab": {
          "base_uri": "https://localhost:8080/"
        },
        "id": "bTAHME8JK3G6",
        "outputId": "284f8eb7-ad9b-479c-cd06-6321a9ee8223"
      },
      "execution_count": null,
      "outputs": [
        {
          "output_type": "stream",
          "name": "stdout",
          "text": [
            "my name is abhi, and i'm 23 years old\n"
          ]
        }
      ]
    },
    {
      "cell_type": "code",
      "source": [
        "person = 'name:Alice, age: 25'\n",
        "print(person)"
      ],
      "metadata": {
        "colab": {
          "base_uri": "https://localhost:8080/"
        },
        "id": "x97v54JKMxc4",
        "outputId": "e0b5c4f0-17be-4a76-8142-79c6ef1da0af"
      },
      "execution_count": null,
      "outputs": [
        {
          "output_type": "stream",
          "name": "stdout",
          "text": [
            "name:Alice, age: 25\n"
          ]
        }
      ]
    },
    {
      "cell_type": "code",
      "source": [
        "person = {'name': 'Alice', 'age': 25}\n",
        "template = \"Name: {name}, Age: {age}\"\n",
        "\n",
        "result = template.format_map(person)\n",
        "print(result)"
      ],
      "metadata": {
        "colab": {
          "base_uri": "https://localhost:8080/"
        },
        "id": "_8q1JewfPcDI",
        "outputId": "82ef9a22-8160-426f-c1aa-5a18b0f937c3"
      },
      "execution_count": null,
      "outputs": [
        {
          "output_type": "stream",
          "name": "stdout",
          "text": [
            "Name: Alice, Age: 25\n"
          ]
        }
      ]
    },
    {
      "cell_type": "code",
      "source": [
        "a = 'where are you'.index('are')\n",
        "print(a)"
      ],
      "metadata": {
        "colab": {
          "base_uri": "https://localhost:8080/"
        },
        "id": "pjoR60sTPgSg",
        "outputId": "08153ed7-e9bc-4e81-bd59-7a602a43a8b7"
      },
      "execution_count": null,
      "outputs": [
        {
          "output_type": "stream",
          "name": "stdout",
          "text": [
            "6\n"
          ]
        }
      ]
    },
    {
      "cell_type": "code",
      "source": [
        "a= 'where is my hometown'.rindex('h')\n",
        "print(a)"
      ],
      "metadata": {
        "colab": {
          "base_uri": "https://localhost:8080/"
        },
        "id": "VaTLsEkEWVxL",
        "outputId": "5d3dc24c-c54e-4bbe-f862-ae12a3d2b6b3"
      },
      "execution_count": null,
      "outputs": [
        {
          "output_type": "stream",
          "name": "stdout",
          "text": [
            "12\n"
          ]
        }
      ]
    },
    {
      "cell_type": "code",
      "source": [
        "a = 'python3'.isalnum() #returns true or false if string is in between alphabet letter (a-z) and numbers (0-9).\n",
        "print(a)"
      ],
      "metadata": {
        "colab": {
          "base_uri": "https://localhost:8080/"
        },
        "id": "UmRkU3-aQFnK",
        "outputId": "c82b76e1-c954-4377-b736-b216b63540b9"
      },
      "execution_count": null,
      "outputs": [
        {
          "output_type": "stream",
          "name": "stdout",
          "text": [
            "True\n"
          ]
        }
      ]
    },
    {
      "cell_type": "code",
      "source": [
        "a = 'python'.isalpha() #returns true or false if string is in between alphabet letter (a-z)\n",
        "print(a)"
      ],
      "metadata": {
        "colab": {
          "base_uri": "https://localhost:8080/"
        },
        "id": "g3t3fdvUQTYU",
        "outputId": "60c8f865-667a-42d8-c8ef-916c9ab90b8d"
      },
      "execution_count": null,
      "outputs": [
        {
          "output_type": "stream",
          "name": "stdout",
          "text": [
            "True\n"
          ]
        }
      ]
    },
    {
      "cell_type": "code",
      "source": [
        "a = '3.0'.isdecimal()\n",
        "print(a)"
      ],
      "metadata": {
        "colab": {
          "base_uri": "https://localhost:8080/"
        },
        "id": "brhI86txRtyx",
        "outputId": "38ca00dd-b19a-4d73-face-25b101c018fa"
      },
      "execution_count": null,
      "outputs": [
        {
          "output_type": "stream",
          "name": "stdout",
          "text": [
            "False\n"
          ]
        }
      ]
    },
    {
      "cell_type": "code",
      "source": [
        "a = '3'.isdigit()\n",
        "print(a)"
      ],
      "metadata": {
        "colab": {
          "base_uri": "https://localhost:8080/"
        },
        "id": "T0jxGdSyZ5qD",
        "outputId": "4aab1595-9264-455b-c7df-3558ae64205b"
      },
      "execution_count": null,
      "outputs": [
        {
          "output_type": "stream",
          "name": "stdout",
          "text": [
            "True\n"
          ]
        }
      ]
    },
    {
      "cell_type": "code",
      "source": [
        "a = 'python'.isidentifier() #It contains alphanumeric letters (a-z) and (0-9), or underscores (_). A identifier cannot start with a number, or contain any spaces.\n",
        "print(a)"
      ],
      "metadata": {
        "id": "NbICbiqqaOhW",
        "colab": {
          "base_uri": "https://localhost:8080/"
        },
        "outputId": "72c12de8-1a5d-4064-ad8a-4066e82c1efb"
      },
      "execution_count": null,
      "outputs": [
        {
          "output_type": "stream",
          "name": "stdout",
          "text": [
            "True\n"
          ]
        }
      ]
    },
    {
      "cell_type": "code",
      "source": [
        "a = 'Python'.islower()\n",
        "print(a)"
      ],
      "metadata": {
        "id": "g76s50wa42sO",
        "colab": {
          "base_uri": "https://localhost:8080/"
        },
        "outputId": "144ccfac-7721-4151-9c16-68658a3088f8"
      },
      "execution_count": null,
      "outputs": [
        {
          "output_type": "stream",
          "name": "stdout",
          "text": [
            "False\n"
          ]
        }
      ]
    },
    {
      "cell_type": "code",
      "source": [
        "i = 'python'.isnumeric()\n",
        "print(i)"
      ],
      "metadata": {
        "colab": {
          "base_uri": "https://localhost:8080/"
        },
        "id": "TT9b9DDU6Nda",
        "outputId": "a49581a8-64ed-4abd-d8ec-c3bead43d785"
      },
      "execution_count": null,
      "outputs": [
        {
          "output_type": "stream",
          "name": "stdout",
          "text": [
            "False\n"
          ]
        }
      ]
    },
    {
      "cell_type": "code",
      "source": [
        "a = 'python'.isprintable()\n",
        "print(a)"
      ],
      "metadata": {
        "colab": {
          "base_uri": "https://localhost:8080/"
        },
        "id": "UcNWhXC-6dnW",
        "outputId": "98387cbc-7f3b-46a1-f4b4-65ef21268a3d"
      },
      "execution_count": null,
      "outputs": [
        {
          "output_type": "stream",
          "name": "stdout",
          "text": [
            "True\n"
          ]
        }
      ]
    },
    {
      "cell_type": "code",
      "source": [
        "a = ' '.isspace()\n",
        "print(a)"
      ],
      "metadata": {
        "colab": {
          "base_uri": "https://localhost:8080/"
        },
        "id": "TbYNidTc63DU",
        "outputId": "bfca7536-370c-4a9f-c93c-5f9112d236a5"
      },
      "execution_count": null,
      "outputs": [
        {
          "output_type": "stream",
          "name": "stdout",
          "text": [
            "True\n"
          ]
        }
      ]
    },
    {
      "cell_type": "code",
      "source": [
        "a = 'python version 3'.title() #text start with a upper case letter, AND the rest of the word are lower case letters,\n",
        "print(a)"
      ],
      "metadata": {
        "colab": {
          "base_uri": "https://localhost:8080/"
        },
        "id": "eROzMzY9R4iW",
        "outputId": "964fa7d7-e56a-41d5-c64f-344ee90d34b5"
      },
      "execution_count": null,
      "outputs": [
        {
          "output_type": "stream",
          "name": "stdout",
          "text": [
            "Python Version 3\n"
          ]
        }
      ]
    },
    {
      "cell_type": "code",
      "source": [
        "a = 'PYTHON'.istitle() #True if all words in a text start with a upper case letter, AND the rest of the word are lower case letters,\n",
        "print(a)"
      ],
      "metadata": {
        "colab": {
          "base_uri": "https://localhost:8080/"
        },
        "id": "AER_Gs2C7B_B",
        "outputId": "26068714-f283-40b8-8956-03c0795172ad"
      },
      "execution_count": null,
      "outputs": [
        {
          "output_type": "stream",
          "name": "stdout",
          "text": [
            "False\n"
          ]
        }
      ]
    },
    {
      "cell_type": "code",
      "source": [
        "a = 'python version 3'.upper()\n",
        "print(a)"
      ],
      "metadata": {
        "colab": {
          "base_uri": "https://localhost:8080/"
        },
        "id": "_npl1_7pRTWf",
        "outputId": "3ec2f6a3-2f7e-4659-9409-9016624bd23a"
      },
      "execution_count": null,
      "outputs": [
        {
          "output_type": "stream",
          "name": "stdout",
          "text": [
            "PYTHON VERSION 3\n"
          ]
        }
      ]
    },
    {
      "cell_type": "code",
      "source": [
        "a = 'PYTHON'.isupper()\n",
        "print(a)"
      ],
      "metadata": {
        "colab": {
          "base_uri": "https://localhost:8080/"
        },
        "id": "BjscyoYE7QLN",
        "outputId": "c195cb64-0721-4705-a313-7c7915bf1543"
      },
      "execution_count": null,
      "outputs": [
        {
          "output_type": "stream",
          "name": "stdout",
          "text": [
            "True\n"
          ]
        }
      ]
    },
    {
      "cell_type": "code",
      "source": [
        "a = ('Four', 'Five', 'Six')\n",
        "i = \"@\".join(a)\n",
        "print(i)"
      ],
      "metadata": {
        "colab": {
          "base_uri": "https://localhost:8080/"
        },
        "id": "nlfeTBVE7fDi",
        "outputId": "abd8a760-c17b-4cc4-8b2b-b346d38a671d"
      },
      "execution_count": null,
      "outputs": [
        {
          "output_type": "stream",
          "name": "stdout",
          "text": [
            "Four@Five@Six\n"
          ]
        }
      ]
    },
    {
      "cell_type": "code",
      "source": [
        "a = 'what is your'.ljust(20)\n",
        "print(a, 'age')"
      ],
      "metadata": {
        "colab": {
          "base_uri": "https://localhost:8080/"
        },
        "id": "Q2_w3EGQ8KNs",
        "outputId": "136804e4-1903-46d2-d431-aa07796bbcb0"
      },
      "execution_count": null,
      "outputs": [
        {
          "output_type": "stream",
          "name": "stdout",
          "text": [
            "what is your         age\n"
          ]
        }
      ]
    },
    {
      "cell_type": "code",
      "source": [
        "a = 'what is your'.rjust(20)\n",
        "print(a, 'age')"
      ],
      "metadata": {
        "colab": {
          "base_uri": "https://localhost:8080/"
        },
        "id": "5eo6UzE2F2iO",
        "outputId": "05dd218a-cc0a-46d7-adf6-7493d81a775e"
      },
      "execution_count": null,
      "outputs": [
        {
          "output_type": "stream",
          "name": "stdout",
          "text": [
            "        what is your age\n"
          ]
        }
      ]
    },
    {
      "cell_type": "code",
      "source": [
        "a = 'PYTHON'.lower()\n",
        "print(a)"
      ],
      "metadata": {
        "colab": {
          "base_uri": "https://localhost:8080/"
        },
        "id": "zk5sZSeW-o_-",
        "outputId": "9be5d9d6-cbc9-42d5-b119-dd0393aa3fb1"
      },
      "execution_count": null,
      "outputs": [
        {
          "output_type": "stream",
          "name": "stdout",
          "text": [
            "python\n"
          ]
        }
      ]
    },
    {
      "cell_type": "code",
      "source": [
        "a = 'cone'\n",
        "i = str.maketrans('c', 'd')\n",
        "print(a.translate(i))"
      ],
      "metadata": {
        "colab": {
          "base_uri": "https://localhost:8080/"
        },
        "id": "-fzpeB-t_vlJ",
        "outputId": "569bf24b-aed0-4fca-c168-b6c0809ed145"
      },
      "execution_count": null,
      "outputs": [
        {
          "output_type": "stream",
          "name": "stdout",
          "text": [
            "done\n"
          ]
        }
      ]
    },
    {
      "cell_type": "code",
      "source": [
        "a = 'my name is abhinaya. you should call me abhinaya peryala'.partition('abhinaya')\n",
        "print(a)"
      ],
      "metadata": {
        "colab": {
          "base_uri": "https://localhost:8080/"
        },
        "id": "qj8oZZSWBIHt",
        "outputId": "68bfc78c-5dae-4ec9-d668-176cd0ed900b"
      },
      "execution_count": null,
      "outputs": [
        {
          "output_type": "stream",
          "name": "stdout",
          "text": [
            "('my name is ', 'abhinaya', '. you should call me abhinaya peryala')\n"
          ]
        }
      ]
    },
    {
      "cell_type": "code",
      "source": [
        "a = 'this is python version 3, and python version2'.rpartition('python')\n",
        "print(a)"
      ],
      "metadata": {
        "colab": {
          "base_uri": "https://localhost:8080/"
        },
        "id": "FKyeJokBGOEb",
        "outputId": "813e3c62-adf1-4e47-c989-4fd2a64278b8"
      },
      "execution_count": null,
      "outputs": [
        {
          "output_type": "stream",
          "name": "stdout",
          "text": [
            "('this is python version 3, and ', 'python', ' version2')\n"
          ]
        }
      ]
    },
    {
      "cell_type": "code",
      "source": [
        "a = 'python version 3'.replace('python', 'sql')\n",
        "print(a)"
      ],
      "metadata": {
        "colab": {
          "base_uri": "https://localhost:8080/"
        },
        "id": "BzjX3fUcCiFt",
        "outputId": "0373ea99-8edf-429a-93ec-943e8768e393"
      },
      "execution_count": null,
      "outputs": [
        {
          "output_type": "stream",
          "name": "stdout",
          "text": [
            "sql version 3\n"
          ]
        }
      ]
    },
    {
      "cell_type": "code",
      "source": [
        "a = 'where is my hometown'.rfind('e') # finds the last occurrence of the specified value.\n",
        "print(a)"
      ],
      "metadata": {
        "colab": {
          "base_uri": "https://localhost:8080/"
        },
        "id": "D1PKfdZVDGOI",
        "outputId": "b93dcb86-7896-4fe4-c90a-ba35bb33004e"
      },
      "execution_count": null,
      "outputs": [
        {
          "output_type": "stream",
          "name": "stdout",
          "text": [
            "15\n"
          ]
        }
      ]
    },
    {
      "cell_type": "code",
      "source": [
        "a = 'Python Version 3'.swapcase()\n",
        "print(a)"
      ],
      "metadata": {
        "colab": {
          "base_uri": "https://localhost:8080/"
        },
        "id": "EB0YhZK6Ek-9",
        "outputId": "0513264c-4d4e-4806-e1fb-87f62b2cd4b8"
      },
      "execution_count": null,
      "outputs": [
        {
          "output_type": "stream",
          "name": "stdout",
          "text": [
            "pYTHON vERSION 3\n"
          ]
        }
      ]
    },
    {
      "cell_type": "code",
      "source": [
        "a = 'python version 3'.split('3')\n",
        "print(a)"
      ],
      "metadata": {
        "colab": {
          "base_uri": "https://localhost:8080/"
        },
        "id": "bwW_aNAALtkQ",
        "outputId": "5f660f12-0709-47fd-e354-3c107b509193"
      },
      "execution_count": null,
      "outputs": [
        {
          "output_type": "stream",
          "name": "stdout",
          "text": [
            "['python version ', '']\n"
          ]
        }
      ]
    },
    {
      "cell_type": "code",
      "source": [
        "a = 'python version 3'.rsplit('version')\n",
        "print(a)"
      ],
      "metadata": {
        "colab": {
          "base_uri": "https://localhost:8080/"
        },
        "id": "jw3271JPMvMQ",
        "outputId": "4678210e-2114-451c-fdc5-89d8c2a6e283"
      },
      "execution_count": null,
      "outputs": [
        {
          "output_type": "stream",
          "name": "stdout",
          "text": [
            "['python ', ' 3']\n"
          ]
        }
      ]
    },
    {
      "cell_type": "code",
      "source": [
        "a = 'python version 3'.splitlines(3)\n",
        "print(a)"
      ],
      "metadata": {
        "colab": {
          "base_uri": "https://localhost:8080/"
        },
        "id": "F0T6bTEANoTN",
        "outputId": "80ae3f24-6699-4a59-d4bf-110ad77027d3"
      },
      "execution_count": null,
      "outputs": [
        {
          "output_type": "stream",
          "name": "stdout",
          "text": [
            "['python version 3']\n"
          ]
        }
      ]
    },
    {
      "cell_type": "code",
      "source": [
        "a = \"python version 3   \".rstrip()\n",
        "print(a)"
      ],
      "metadata": {
        "colab": {
          "base_uri": "https://localhost:8080/"
        },
        "id": "2R1ugoz6PcrI",
        "outputId": "b3aa1e3b-180d-4d98-eea8-012261836db9"
      },
      "execution_count": null,
      "outputs": [
        {
          "output_type": "stream",
          "name": "stdout",
          "text": [
            "python version 3\n"
          ]
        }
      ]
    },
    {
      "cell_type": "code",
      "source": [
        "a = '    PYTHON    '.lstrip() #removes left spaces\n",
        "print('This is',a,'version 3')"
      ],
      "metadata": {
        "colab": {
          "base_uri": "https://localhost:8080/"
        },
        "id": "KnPbVyvnQhPe",
        "outputId": "cf5958b7-a113-4984-961c-de160d0a46a9"
      },
      "execution_count": null,
      "outputs": [
        {
          "output_type": "stream",
          "name": "stdout",
          "text": [
            "This is PYTHON     version 3\n"
          ]
        }
      ]
    },
    {
      "cell_type": "code",
      "source": [
        "a = 'python version 3'.strip()\n",
        "print(a)"
      ],
      "metadata": {
        "colab": {
          "base_uri": "https://localhost:8080/"
        },
        "id": "zRSMh0GzP8ip",
        "outputId": "74d91fb1-5abd-422c-e0c8-4268497db0f7"
      },
      "execution_count": null,
      "outputs": [
        {
          "output_type": "stream",
          "name": "stdout",
          "text": [
            "python version 3\n"
          ]
        }
      ]
    },
    {
      "cell_type": "code",
      "source": [
        "a = 'python version'.zfill(20)\n",
        "print(a)"
      ],
      "metadata": {
        "colab": {
          "base_uri": "https://localhost:8080/"
        },
        "id": "h2EdKbbWRFHh",
        "outputId": "6501d826-8682-46d6-a4fe-e5eda285696c"
      },
      "execution_count": null,
      "outputs": [
        {
          "output_type": "stream",
          "name": "stdout",
          "text": [
            "000000python version\n"
          ]
        }
      ]
    },
    {
      "cell_type": "markdown",
      "source": [],
      "metadata": {
        "id": "CwwBf67MiakG"
      }
    },
    {
      "cell_type": "markdown",
      "source": [
        "| Method        | Description                                                     |\n",
        "|---------------|-----------------------------------------------------------------|\n",
        "| capitalize()  | Converts the first character to upper case                      |\n",
        "| casefold()    | Converts string into lower case                                 |\n",
        "| center()      | Returns a centered string                                       |\n",
        "| count()       | Returns the number of times a specified value occurs in a string|\n",
        "| encode()      | Returns an encoded version of the string                        |\n",
        "| endswith()    | Returns true if the string ends with the specified value        |\n",
        "| expandtabs()  | Sets the tab size of the string                                 |\n",
        "| find()        | Searches the string for a specified value and returns the position of where it was found |\n",
        "| format()      | Formats specified values in a string                            |\n",
        "| format_map()  | Formats specified values in a string                            |\n",
        "| index()       | Searches the string for a specified value and returns the position of where it was found |\n",
        "| isalnum()     | Returns True if all characters in the string are alphanumeric   |\n",
        "| isalpha()     | Returns True if all characters in the string are in the alphabet|\n",
        "| isascii()     | Returns True if all characters in the string are ascii characters|\n",
        "| isdecimal()   | Returns True if all characters in the string are decimals       |\n",
        "| isdigit()     | Returns True if all characters in the string are digits         |\n",
        "| isidentifier()| Returns True if the string is an identifier                     |\n",
        "| islower()     | Returns True if all characters in the string are lower case     |\n",
        "| isnumeric()   | Returns True if all characters in the string are numeric        |\n",
        "| isprintable() | Returns True if all characters in the string are printable      |\n",
        "| isspace()     | Returns True if all characters in the string are whitespaces    |\n",
        "| istitle()     | Returns True if the string follows the rules of a title         |\n",
        "| isupper()     | Returns True if all characters in the string are upper case     |\n",
        "| join()        | Joins the elements of an iterable to the end of the string      |\n",
        "| ljust()       | Returns a left justified version of the string                  |\n",
        "| lower()       | Converts a string into lower case                               |\n",
        "| lstrip()      | Returns a left trim version of the string                       |\n",
        "| maketrans()   | Returns a translation table to be used in translations          |\n",
        "| partition()   | Returns a tuple where the string is parted into three parts     |\n",
        "| replace()     | Returns a string where a specified value is replaced with a specified value |\n",
        "| rfind()       | Searches the string for a specified value and returns the last position of where it was found |\n",
        "| rindex()      | Searches the string for a specified value and returns the last position of where it was found |\n",
        "| rjust()       | Returns a right justified version of the string                 |\n",
        "| rpartition()  | Returns a tuple where the string is parted into three parts     |\n",
        "| rsplit()      | Splits the string at the specified separator, and returns a list|\n",
        "| rstrip()      | Returns a right trim version of the string                      |\n",
        "| split()       | Splits the string at the specified separator, and returns a list|\n",
        "| splitlines()  | Splits the string at line breaks and returns a list             |\n",
        "| startswith()  | Returns true if the string starts with the specified value      |\n",
        "| strip()       | Returns a trimmed version of the string                         |\n",
        "| swapcase()    | Swaps cases, lower case becomes upper case and vice versa       |\n",
        "| title()       | Converts the first character of each word to upper case         |\n",
        "| translate()   | Returns a translated string                                     |\n",
        "| upper()       | Converts a string into upper case                               |\n",
        "| zfill()       | Fills the string with a specified number of 0 values at the beginning |\n"
      ],
      "metadata": {
        "id": "99W0B471O-QF"
      }
    },
    {
      "cell_type": "markdown",
      "source": [
        "#List\n",
        "It is also possible to use the list() constructor when creating a new list.\n"
      ],
      "metadata": {
        "id": "N6Xxp7tMj1H-"
      }
    },
    {
      "cell_type": "code",
      "source": [
        "b = ('python', 'sql', 'java')  #converting tuple to list\n",
        "a = list(b) #list function\n",
        "print(a)"
      ],
      "metadata": {
        "colab": {
          "base_uri": "https://localhost:8080/"
        },
        "id": "5K4qRMIWkCg-",
        "outputId": "f3e4a27e-d351-4539-b266-8f228f81c8ca"
      },
      "execution_count": null,
      "outputs": [
        {
          "output_type": "stream",
          "name": "stdout",
          "text": [
            "['python', 'sql', 'java']\n"
          ]
        }
      ]
    },
    {
      "cell_type": "markdown",
      "source": [
        "There are four collection data types in the Python programming language:\n",
        "\n",
        "* List is a collection which is ordered and changeable. Allows duplicate members.\n",
        "*Tuple is a collection which is ordered and unchangeable. Allows duplicate members.\n",
        "*Set is a collection which is unordered, unchangeable*, and unindexed. No duplicate members.\n",
        "*Dictionary is a collection which is ordered** and changeable. No duplicate members."
      ],
      "metadata": {
        "id": "sHiamp8rmKDy"
      }
    },
    {
      "cell_type": "code",
      "source": [
        "#You can specify a range of indexes by specifying where to start and where to end the range.\n",
        "a = ['python', 'sql', 'java']\n",
        "print(a[0:2])"
      ],
      "metadata": {
        "id": "Z09u2FpIlTKO",
        "colab": {
          "base_uri": "https://localhost:8080/"
        },
        "outputId": "88de9eb4-f9d4-48db-c634-ebae93676f97"
      },
      "execution_count": null,
      "outputs": [
        {
          "output_type": "stream",
          "name": "stdout",
          "text": [
            "('python', 'sql')\n"
          ]
        }
      ]
    },
    {
      "cell_type": "code",
      "source": [
        "#To determine if a specified item is present in a list use the in keyword:\n",
        "a = ['python','sql','java']\n",
        "if 'java' in a:\n",
        "  print(True)\n",
        "else:\n",
        "  print(False)"
      ],
      "metadata": {
        "id": "cgQDmHr8kFos",
        "colab": {
          "base_uri": "https://localhost:8080/"
        },
        "outputId": "30f8002f-42cd-404e-f850-e753bf32ac53"
      },
      "execution_count": 3,
      "outputs": [
        {
          "output_type": "stream",
          "name": "stdout",
          "text": [
            "True\n"
          ]
        }
      ]
    },
    {
      "cell_type": "code",
      "source": [
        "#To change the value of a specific item, refer to the index number\n",
        "a = ['python','sql','java']\n",
        "a[1]='c++'\n",
        "print(a)"
      ],
      "metadata": {
        "colab": {
          "base_uri": "https://localhost:8080/"
        },
        "id": "3S47OvTqjl11",
        "outputId": "9d248589-843a-4ad9-ce7d-c62632c1f3f1"
      },
      "execution_count": 4,
      "outputs": [
        {
          "output_type": "stream",
          "name": "stdout",
          "text": [
            "['python', 'c++', 'java']\n"
          ]
        }
      ]
    },
    {
      "cell_type": "code",
      "source": [
        "a = ['python','sql','java','Excel']\n",
        "a[1:3]='c++', 'Javascript'\n",
        "print(a)"
      ],
      "metadata": {
        "colab": {
          "base_uri": "https://localhost:8080/"
        },
        "id": "EBVLMCTQkE-a",
        "outputId": "1e7860ed-35bb-44f8-dbc4-a6287bd894ce"
      },
      "execution_count": 5,
      "outputs": [
        {
          "output_type": "stream",
          "name": "stdout",
          "text": [
            "['python', 'c++', 'Javascript', 'Excel']\n"
          ]
        }
      ]
    },
    {
      "cell_type": "code",
      "source": [
        "#If you insert more items than you replace, the new items will be inserted where you specified, and the remaining items will move accordingly\n",
        "a = ['python','sql','java','Excel']\n",
        "a[1:2]='c++', 'Javascript'\n",
        "print(a)"
      ],
      "metadata": {
        "colab": {
          "base_uri": "https://localhost:8080/"
        },
        "id": "g8jlTEV2k1yJ",
        "outputId": "b8ff6d1b-1934-4984-c9e1-d4fbda0f0b2a"
      },
      "execution_count": 6,
      "outputs": [
        {
          "output_type": "stream",
          "name": "stdout",
          "text": [
            "['python', 'c++', 'Javascript', 'java', 'Excel']\n"
          ]
        }
      ]
    },
    {
      "cell_type": "code",
      "source": [
        "a = ['python','sql','java','Excel']\n",
        "a[1:3]= ['Javascript']\n",
        "print(a)"
      ],
      "metadata": {
        "colab": {
          "base_uri": "https://localhost:8080/"
        },
        "id": "29UDFJC8lQsF",
        "outputId": "e42a83e8-8ca4-47f4-a1db-101eaf8a52d6"
      },
      "execution_count": 9,
      "outputs": [
        {
          "output_type": "stream",
          "name": "stdout",
          "text": [
            "['python', 'Javascript', 'Excel']\n"
          ]
        }
      ]
    },
    {
      "cell_type": "code",
      "source": [
        "#To insert a new list item, without replacing any of the existing values, we can use the insert() method.\n",
        "a = ['python','sql','java','Excel']\n",
        "a.insert(1,'c++')\n",
        "print(a)"
      ],
      "metadata": {
        "colab": {
          "base_uri": "https://localhost:8080/"
        },
        "id": "SndURAIHmd6_",
        "outputId": "771a00da-02ef-4804-b10c-cf4b73df29d9"
      },
      "execution_count": 10,
      "outputs": [
        {
          "output_type": "stream",
          "name": "stdout",
          "text": [
            "['python', 'c++', 'sql', 'java', 'Excel']\n"
          ]
        }
      ]
    },
    {
      "cell_type": "markdown",
      "source": [
        "#List Methods"
      ],
      "metadata": {
        "id": "-Chpovc2S3GE"
      }
    },
    {
      "cell_type": "code",
      "source": [
        "a=['Python version']  #appends an element to the end of the list.\n",
        "a.append('3')    #it takes only one argument\n",
        "print(a)"
      ],
      "metadata": {
        "colab": {
          "base_uri": "https://localhost:8080/"
        },
        "id": "xww8rpY0T_FF",
        "outputId": "92048200-0f59-4fea-8221-2f91d14f6afe"
      },
      "execution_count": null,
      "outputs": [
        {
          "output_type": "stream",
          "name": "stdout",
          "text": [
            "['Python version', '3']\n"
          ]
        }
      ]
    },
    {
      "cell_type": "code",
      "source": [
        "a = ['python', 'version']\n",
        "b =['3', '6']\n",
        "a.extend(b)  #adds the specified list elements to the end of the current list.\n",
        "print(a)"
      ],
      "metadata": {
        "colab": {
          "base_uri": "https://localhost:8080/"
        },
        "id": "z-bO0t0asNks",
        "outputId": "a77262eb-5ee7-431b-a71d-158404819542"
      },
      "execution_count": null,
      "outputs": [
        {
          "output_type": "stream",
          "name": "stdout",
          "text": [
            "['python', 'version', '3', '6']\n"
          ]
        }
      ]
    },
    {
      "cell_type": "code",
      "source": [
        "#The extend() method does not have to append lists, you can add any iterable object (tuples, sets, dictionaries etc.).\n",
        "a = ['python', 'version']\n",
        "b =('3', '6')\n",
        "a.extend(b)\n",
        "print(a)"
      ],
      "metadata": {
        "colab": {
          "base_uri": "https://localhost:8080/"
        },
        "id": "_lUEYSNKoxoc",
        "outputId": "a86f0123-b526-4791-a603-68d606f15aa0"
      },
      "execution_count": 12,
      "outputs": [
        {
          "output_type": "stream",
          "name": "stdout",
          "text": [
            "['python', 'version', '3', '6']\n"
          ]
        }
      ]
    },
    {
      "cell_type": "code",
      "source": [
        "a = ['python', 'version', '3']  #removes all the elements from a list.\n",
        "a.clear()\n",
        "print(a)"
      ],
      "metadata": {
        "colab": {
          "base_uri": "https://localhost:8080/"
        },
        "id": "Ufwd_UnppHgs",
        "outputId": "dae01887-a8bf-4523-f1d3-b2cf2f20d100"
      },
      "execution_count": null,
      "outputs": [
        {
          "output_type": "stream",
          "name": "stdout",
          "text": [
            "[]\n"
          ]
        }
      ]
    },
    {
      "cell_type": "code",
      "source": [
        " a = ['python', 'version', '3'] #copies the elements from a list\n",
        " b = a.copy()\n",
        " print(a)\n",
        " print(b)"
      ],
      "metadata": {
        "colab": {
          "base_uri": "https://localhost:8080/"
        },
        "id": "ZIGQ0RwgqDlq",
        "outputId": "6667981a-d75a-4288-d9f1-2268fc8aa7da"
      },
      "execution_count": null,
      "outputs": [
        {
          "output_type": "stream",
          "name": "stdout",
          "text": [
            "['python', 'version', '3']\n",
            "['python', 'version', '3']\n"
          ]
        }
      ]
    },
    {
      "cell_type": "code",
      "source": [
        "#We can also make a copy of a list by using the : (slice) operator.\n",
        "a = ['python', 'version', '3']\n",
        "b = a[:]\n",
        "print(b)"
      ],
      "metadata": {
        "colab": {
          "base_uri": "https://localhost:8080/"
        },
        "id": "SbE53oPjh9ik",
        "outputId": "03d1d2b2-9466-44e3-c2d4-3e92c9d7e55e"
      },
      "execution_count": 32,
      "outputs": [
        {
          "output_type": "stream",
          "name": "stdout",
          "text": [
            "['python', 'version', '3']\n"
          ]
        }
      ]
    },
    {
      "cell_type": "code",
      "source": [
        "a = ['python', 'version', '3', '3'] #returns count of the element in a list\n",
        "b = a.count('3')\n",
        "print(b)"
      ],
      "metadata": {
        "colab": {
          "base_uri": "https://localhost:8080/"
        },
        "id": "6DEnyvusp1aC",
        "outputId": "f456cb3e-4a0a-4499-8ffd-879755342c59"
      },
      "execution_count": null,
      "outputs": [
        {
          "output_type": "stream",
          "name": "stdout",
          "text": [
            "2\n"
          ]
        }
      ]
    },
    {
      "cell_type": "code",
      "source": [
        "a = ['python', 'version', '3'] #returns the index of the element in a list\n",
        "b = a.index('version')\n",
        "print(b)"
      ],
      "metadata": {
        "colab": {
          "base_uri": "https://localhost:8080/"
        },
        "id": "2Oh5tlyJrUwY",
        "outputId": "c04d561a-83af-4075-8a1f-f9fff38038b3"
      },
      "execution_count": null,
      "outputs": [
        {
          "output_type": "stream",
          "name": "stdout",
          "text": [
            "1\n"
          ]
        }
      ]
    },
    {
      "cell_type": "code",
      "source": [
        "A =['python', 'version', '3']\n",
        "for a in A:\n",
        "  print(A.index(a))"
      ],
      "metadata": {
        "colab": {
          "base_uri": "https://localhost:8080/"
        },
        "id": "rA88u9Lpuoxc",
        "outputId": "e9519afb-66b7-40bc-8fbe-b00d4b21f6cc"
      },
      "execution_count": null,
      "outputs": [
        {
          "output_type": "stream",
          "name": "stdout",
          "text": [
            "0\n",
            "1\n",
            "2\n"
          ]
        }
      ]
    },
    {
      "cell_type": "code",
      "source": [
        "a = ['python', 'version', '3']  #inserts the specified value at the specified position.\n",
        "b = a.insert(2, '6')\n",
        "print(a)"
      ],
      "metadata": {
        "colab": {
          "base_uri": "https://localhost:8080/"
        },
        "id": "cJ2016cEvUDy",
        "outputId": "ef272eee-45da-4e28-fbd9-03a00af789e8"
      },
      "execution_count": null,
      "outputs": [
        {
          "output_type": "stream",
          "name": "stdout",
          "text": [
            "['python', 'version', '6', '3']\n"
          ]
        }
      ]
    },
    {
      "cell_type": "code",
      "source": [
        "#The del keyword also removes the specified index\n",
        "a = ['python', 'version', '3']  #removes the value at the specified position.\n",
        "b = a.pop(1)                    #If you do not specify the index, the pop() method removes the last item.\n",
        "print(a)"
      ],
      "metadata": {
        "colab": {
          "base_uri": "https://localhost:8080/"
        },
        "id": "mLgCD3rjwSXC",
        "outputId": "f8a61409-f820-4983-bf1a-05c103175d57"
      },
      "execution_count": null,
      "outputs": [
        {
          "output_type": "stream",
          "name": "stdout",
          "text": [
            "['python', '3']\n"
          ]
        }
      ]
    },
    {
      "cell_type": "code",
      "source": [
        "a = ['python', 'version', '3']  #removes the element.\n",
        "b = a.remove('version')\n",
        "print(a)"
      ],
      "metadata": {
        "colab": {
          "base_uri": "https://localhost:8080/"
        },
        "id": "_2s4zIGWwtNt",
        "outputId": "8eef69b3-301b-4f15-86ac-adc2410f8083"
      },
      "execution_count": null,
      "outputs": [
        {
          "output_type": "stream",
          "name": "stdout",
          "text": [
            "['python', '3']\n"
          ]
        }
      ]
    },
    {
      "cell_type": "code",
      "source": [
        "#If there are more than one item with the specified value, the remove() method removes the first occurrence\n",
        "a = ['python', 'version', '3', 'version']\n",
        "b = a.remove('version')\n",
        "print(a)"
      ],
      "metadata": {
        "colab": {
          "base_uri": "https://localhost:8080/"
        },
        "id": "UfvfGqZCpKWV",
        "outputId": "e9dde642-d516-4860-912c-4d60cc771f59"
      },
      "execution_count": 15,
      "outputs": [
        {
          "output_type": "stream",
          "name": "stdout",
          "text": [
            "['python', '3', 'version']\n"
          ]
        }
      ]
    },
    {
      "cell_type": "code",
      "source": [
        "a = ['python', 'version', '3']\n",
        "b = a.reverse()\n",
        "print(a)"
      ],
      "metadata": {
        "colab": {
          "base_uri": "https://localhost:8080/"
        },
        "id": "CUZ3KcQCxn-s",
        "outputId": "8216e09d-968c-4691-aa65-32d072f9283a"
      },
      "execution_count": null,
      "outputs": [
        {
          "output_type": "stream",
          "name": "stdout",
          "text": [
            "['3', 'version', 'python']\n"
          ]
        }
      ]
    },
    {
      "cell_type": "code",
      "source": [
        "a = ['vivo', 'apple', 'google pixel', 'samsung'] #sorts the list ascending\n",
        "a.sort()\n",
        "a"
      ],
      "metadata": {
        "colab": {
          "base_uri": "https://localhost:8080/"
        },
        "id": "D7ghwnTYyrC1",
        "outputId": "e80e2d64-eeda-47e2-9bab-0a9e9a9475cb"
      },
      "execution_count": null,
      "outputs": [
        {
          "output_type": "execute_result",
          "data": {
            "text/plain": [
              "['apple', 'google pixel', 'samsung', 'vivo']"
            ]
          },
          "metadata": {},
          "execution_count": 49
        }
      ]
    },
    {
      "cell_type": "code",
      "source": [
        "a = ['vivo', 'apple', 'google pixel', 'samsung']  #sort the list descending\n",
        "a.sort(reverse=True)\n",
        "a"
      ],
      "metadata": {
        "colab": {
          "base_uri": "https://localhost:8080/"
        },
        "id": "QqCXuBCmzFDc",
        "outputId": "41e77f6d-6ca6-4fab-dc34-144dc49c60cd"
      },
      "execution_count": null,
      "outputs": [
        {
          "output_type": "execute_result",
          "data": {
            "text/plain": [
              "['vivo', 'samsung', 'google pixel', 'apple']"
            ]
          },
          "metadata": {},
          "execution_count": 51
        }
      ]
    },
    {
      "cell_type": "code",
      "source": [
        "#By default the sort() method is case sensitive, resulting in all capital letters being sorted before lower case letters\n",
        "a = ['vivo', 'apple', 'Google pixel', 'Samsung']\n",
        "a.sort()\n",
        "a"
      ],
      "metadata": {
        "colab": {
          "base_uri": "https://localhost:8080/"
        },
        "id": "s86WFSgQYrOP",
        "outputId": "932d8e02-ef0e-44d6-a5b6-eb98ac7a0921"
      },
      "execution_count": 27,
      "outputs": [
        {
          "output_type": "execute_result",
          "data": {
            "text/plain": [
              "['Google pixel', 'Samsung', 'apple', 'vivo']"
            ]
          },
          "metadata": {},
          "execution_count": 27
        }
      ]
    },
    {
      "cell_type": "code",
      "source": [
        "#If we want a case-insensitive sort function, use str.lower as a key function\n",
        "a = ['vivo', 'apple', 'Google pixel', 'Samsung']\n",
        "a.sort(key = str.lower)\n",
        "a"
      ],
      "metadata": {
        "colab": {
          "base_uri": "https://localhost:8080/"
        },
        "id": "b1bkKWwwZPgw",
        "outputId": "8177547d-e280-4f76-c596-784957f9f99d"
      },
      "execution_count": 29,
      "outputs": [
        {
          "output_type": "execute_result",
          "data": {
            "text/plain": [
              "['apple', 'Google pixel', 'Samsung', 'vivo']"
            ]
          },
          "metadata": {},
          "execution_count": 29
        }
      ]
    },
    {
      "cell_type": "markdown",
      "source": [
        "| Method        | Description                                                     |\n",
        "|---------------|-----------------------------------------------------------------|\n",
        "| clear()  | Removes all the elements from the list                     |\n",
        "| append()    | Adds an element at the end of the list                                 |\n",
        "| copy()      | Returns a copy of the list                                       |\n",
        "| count()       | Returns the number of elements with the specified value|\n",
        "| extend()      | Add the elements of a list (or any iterable), to the end of the current list                        |\n",
        "| index()    | Returns the index of the first element with the specified value        |\n",
        "| insert()  | Adds an element at the specified position                                 |\n",
        "| pop()        | Removes the element at the specified position |\n",
        "| remove()      | Removes the first item with the specified value                           |\n",
        "| reverse()  | Reverses the order of the list                            |\n",
        "| sort()       | Sorts the list |\n"
      ],
      "metadata": {
        "id": "Hc97PvYFPEbu"
      }
    },
    {
      "cell_type": "code",
      "source": [
        "#You can also loop through the list items by referring to their index number.\n",
        "#Use the range() and len() functions to create a suitable iterable.\n",
        "a = ['vivo', 'apple', 'google pixel', 'samsung']\n",
        "for i in range(len(a)):\n",
        "  print(a[i])"
      ],
      "metadata": {
        "colab": {
          "base_uri": "https://localhost:8080/"
        },
        "id": "RLTj9IYfp1SW",
        "outputId": "1a82c4ec-925c-4e20-a028-dbc0b87132a7"
      },
      "execution_count": 31,
      "outputs": [
        {
          "output_type": "stream",
          "name": "stdout",
          "text": [
            "vivo\n",
            "apple\n",
            "google pixel\n",
            "samsung\n"
          ]
        }
      ]
    },
    {
      "cell_type": "markdown",
      "source": [
        "#Loop List"
      ],
      "metadata": {
        "id": "qbZN2ycNDPUo"
      }
    },
    {
      "cell_type": "code",
      "source": [
        "a = ['vivo', 'apple', 'google pixel', 'samsung']\n",
        "i = 0\n",
        "while i<len(a):\n",
        "  print(a[i])\n",
        "  i+=1"
      ],
      "metadata": {
        "colab": {
          "base_uri": "https://localhost:8080/"
        },
        "id": "lKM-4i5NDOU6",
        "outputId": "aa30a0ef-79b5-4e15-d234-560f1e5e04bc"
      },
      "execution_count": 2,
      "outputs": [
        {
          "output_type": "stream",
          "name": "stdout",
          "text": [
            "vivo\n",
            "apple\n",
            "google pixel\n",
            "samsung\n"
          ]
        }
      ]
    },
    {
      "cell_type": "code",
      "source": [
        "#List Comprehension offers the shortest syntax for looping through lists\n",
        "a = ['vivo', 'apple', 'google pixel', 'samsung']\n",
        "[print(i) for i in a]"
      ],
      "metadata": {
        "colab": {
          "base_uri": "https://localhost:8080/"
        },
        "id": "uYxjxzkWDywC",
        "outputId": "23f0d6de-610b-4c0b-bc04-06c9e15158ce"
      },
      "execution_count": 10,
      "outputs": [
        {
          "output_type": "stream",
          "name": "stdout",
          "text": [
            "vivo\n",
            "apple\n",
            "google pixel\n",
            "samsung\n"
          ]
        },
        {
          "output_type": "execute_result",
          "data": {
            "text/plain": [
              "[None, None, None, None]"
            ]
          },
          "metadata": {},
          "execution_count": 10
        }
      ]
    },
    {
      "cell_type": "markdown",
      "source": [
        "**List comprehension** offers a shorter syntax when you want to create a new list based on the values of an existing list."
      ],
      "metadata": {
        "id": "aP2bnz6iFadn"
      }
    },
    {
      "cell_type": "code",
      "source": [
        "a = ['vivo', 'apple', 'google pixel', 'samsung']\n",
        "b=[]\n",
        "for i in a:\n",
        "  if 'a' in i:\n",
        "    b.append(i)\n",
        "print(b)"
      ],
      "metadata": {
        "colab": {
          "base_uri": "https://localhost:8080/"
        },
        "id": "VcZ2DJf3FhhF",
        "outputId": "9fb3ae06-e64a-4be4-9aa6-01d6d112a0f0"
      },
      "execution_count": 18,
      "outputs": [
        {
          "output_type": "stream",
          "name": "stdout",
          "text": [
            "['apple', 'samsung']\n"
          ]
        }
      ]
    },
    {
      "cell_type": "markdown",
      "source": [
        "With list comprehension you can do all that with only one line of code\n",
        "\n",
        "\n",
        "*   Syntax: newlist = [expression for item in iterable if condition == True]\n",
        "\n",
        "\n",
        "\n",
        "\n",
        "\n"
      ],
      "metadata": {
        "id": "JMaHEsajG1Up"
      }
    },
    {
      "cell_type": "code",
      "source": [
        "a = ['vivo', 'apple', 'google pixel', 'samsung']\n",
        "b=[i for i in a if 'a' in i]\n",
        "print(b)"
      ],
      "metadata": {
        "colab": {
          "base_uri": "https://localhost:8080/"
        },
        "id": "LSvdCjrDGqsb",
        "outputId": "59132ccc-3414-43d4-eaf3-87a7176ee8ce"
      },
      "execution_count": 2,
      "outputs": [
        {
          "output_type": "stream",
          "name": "stdout",
          "text": [
            "['apple', 'samsung']\n"
          ]
        }
      ]
    },
    {
      "cell_type": "code",
      "source": [
        "#The condition is like a filter that only accepts the items that evaluate to True.\n",
        "a = ['vivo', 'apple', 'google pixel', 'samsung']\n",
        "b=[i for i in a if i != 'apple']\n",
        "print(b)"
      ],
      "metadata": {
        "colab": {
          "base_uri": "https://localhost:8080/"
        },
        "id": "-9VNB2EhUpcW",
        "outputId": "66b12f6b-d1ea-429e-dd36-4112842ac493"
      },
      "execution_count": 23,
      "outputs": [
        {
          "output_type": "stream",
          "name": "stdout",
          "text": [
            "['vivo', 'google pixel', 'samsung']\n"
          ]
        }
      ]
    },
    {
      "cell_type": "markdown",
      "source": [
        "The iterable can be any iterable object, like a list, tuple, set etc.\n",
        "\n",
        "You can use the range() function to create an iterable:"
      ],
      "metadata": {
        "id": "chJsBxhOCj98"
      }
    },
    {
      "cell_type": "code",
      "source": [
        "a = [x for x in range(10)]\n",
        "print(a)"
      ],
      "metadata": {
        "colab": {
          "base_uri": "https://localhost:8080/"
        },
        "id": "ThBqGtiCCAup",
        "outputId": "a2955c80-1aab-45a1-d963-57fdaab9aa17"
      },
      "execution_count": 4,
      "outputs": [
        {
          "output_type": "stream",
          "name": "stdout",
          "text": [
            "[0, 1, 2, 3, 4, 5, 6, 7, 8, 9]\n"
          ]
        }
      ]
    },
    {
      "cell_type": "code",
      "source": [
        "a =[x for x in range(20) if x%2 == 0 ]\n",
        "print(a)"
      ],
      "metadata": {
        "colab": {
          "base_uri": "https://localhost:8080/"
        },
        "id": "bPE5SuJ3DSNd",
        "outputId": "99d4af35-085a-45f4-a4e0-6e8f3dd1d2bf"
      },
      "execution_count": 6,
      "outputs": [
        {
          "output_type": "stream",
          "name": "stdout",
          "text": [
            "[0, 2, 4, 6, 8, 10, 12, 14, 16, 18]\n"
          ]
        }
      ]
    },
    {
      "cell_type": "code",
      "source": [
        "a = ['vivo', 'apple', 'google pixel', 'samsung']\n",
        "b = [i.upper() for i in a]\n",
        "print(a)\n",
        "print(b)"
      ],
      "metadata": {
        "colab": {
          "base_uri": "https://localhost:8080/"
        },
        "id": "poNr9eT9Ds--",
        "outputId": "43a47964-f0c9-4770-cf40-863e063cc630"
      },
      "execution_count": 10,
      "outputs": [
        {
          "output_type": "stream",
          "name": "stdout",
          "text": [
            "['vivo', 'apple', 'google pixel', 'samsung']\n",
            "['VIVO', 'APPLE', 'GOOGLE PIXEL', 'SAMSUNG']\n"
          ]
        }
      ]
    },
    {
      "cell_type": "markdown",
      "source": [
        "You can set the outcome to whatever you like"
      ],
      "metadata": {
        "id": "guoB01unFPBs"
      }
    },
    {
      "cell_type": "code",
      "source": [
        "a = ['vivo', 'apple', 'google pixel', 'samsung']\n",
        "b = [' Moto' for i in a if i != 'apple']   #Can write without condition also\n",
        "print(b)"
      ],
      "metadata": {
        "colab": {
          "base_uri": "https://localhost:8080/"
        },
        "id": "pfHk0agaFSqR",
        "outputId": "975f6540-9399-4707-ff10-268eecb886b9"
      },
      "execution_count": 12,
      "outputs": [
        {
          "output_type": "stream",
          "name": "stdout",
          "text": [
            "[' Moto', ' Moto', ' Moto']\n"
          ]
        }
      ]
    },
    {
      "cell_type": "code",
      "source": [
        "a = ['vivo', 'apple', 'google pixel', 'samsung']\n",
        "b = [x if x != 'samsung' else 'Motorola ' for x in a]\n",
        "print(b)"
      ],
      "metadata": {
        "colab": {
          "base_uri": "https://localhost:8080/"
        },
        "id": "tr0AfPMZGe9C",
        "outputId": "d1df9684-5c8c-4929-c19b-a1a9ba09dd31"
      },
      "execution_count": 15,
      "outputs": [
        {
          "output_type": "stream",
          "name": "stdout",
          "text": [
            "['vivo', 'apple', 'google pixel', 'Motorola ']\n"
          ]
        }
      ]
    },
    {
      "cell_type": "markdown",
      "source": [
        "abs() is a built-in function that gives the absolute value (i.e., removes any minus sign).\n",
        "\n",
        "It sorts the list based on how close each number is to 50."
      ],
      "metadata": {
        "id": "xmhquhTJYIVw"
      }
    },
    {
      "cell_type": "code",
      "source": [
        "def python(n):\n",
        "  return abs(n - 50)\n",
        "\n",
        "a = [100,40,78,23,67,90]\n",
        "a.sort(key = python)\n",
        "print(a)"
      ],
      "metadata": {
        "colab": {
          "base_uri": "https://localhost:8080/"
        },
        "id": "HecmvmKlVyfI",
        "outputId": "0ddacd93-37ae-4a24-8b2c-36b4d64111ef"
      },
      "execution_count": 26,
      "outputs": [
        {
          "output_type": "stream",
          "name": "stdout",
          "text": [
            "[40, 67, 23, 78, 90, 100]\n"
          ]
        }
      ]
    },
    {
      "cell_type": "markdown",
      "source": [
        "**Joining Lists**"
      ],
      "metadata": {
        "id": "C8AeNbFyisZF"
      }
    },
    {
      "cell_type": "code",
      "source": [
        "#Method 1\n",
        "a = [\"python\", 'java', 'sql', 'c++', 'excel']\n",
        "b = ['apple','samsung','google pixel']\n",
        "c = a+b\n",
        "print(c)"
      ],
      "metadata": {
        "colab": {
          "base_uri": "https://localhost:8080/"
        },
        "id": "vvTJcXfBiuCQ",
        "outputId": "0dbc17f5-f0b4-45d3-98fa-45d7f96ac44b"
      },
      "execution_count": 33,
      "outputs": [
        {
          "output_type": "stream",
          "name": "stdout",
          "text": [
            "['python', 'java', 'sql', 'c++', 'excel', 'apple', 'samsung', 'google pixel']\n"
          ]
        }
      ]
    },
    {
      "cell_type": "code",
      "source": [
        "#Method 2\n",
        "a = [\"python\", 'java', 'sql', 'c++', 'excel']\n",
        "b = ['apple','samsung','google pixel']\n",
        "a.extend(b)\n",
        "print(a)"
      ],
      "metadata": {
        "colab": {
          "base_uri": "https://localhost:8080/"
        },
        "id": "nd0irFzujLY2",
        "outputId": "1b27dcea-94ab-4111-ac5a-29847429b7c7"
      },
      "execution_count": 34,
      "outputs": [
        {
          "output_type": "stream",
          "name": "stdout",
          "text": [
            "['python', 'java', 'sql', 'c++', 'excel', 'apple', 'samsung', 'google pixel']\n"
          ]
        }
      ]
    },
    {
      "cell_type": "code",
      "source": [
        "#Method 3\n",
        "a = [\"python\", 'java', 'sql', 'c++', 'excel']\n",
        "b = ['apple','samsung','google pixel']\n",
        "def python():\n",
        "  for i in a:\n",
        "    b.append(i)\n",
        "  print(b)\n",
        "python()"
      ],
      "metadata": {
        "colab": {
          "base_uri": "https://localhost:8080/"
        },
        "id": "ADzDZKs0jfTK",
        "outputId": "c877e34b-fa9a-44dd-8a19-58afee1e0b8d"
      },
      "execution_count": 40,
      "outputs": [
        {
          "output_type": "stream",
          "name": "stdout",
          "text": [
            "['apple', 'samsung', 'google pixel', 'python', 'java', 'sql', 'c++', 'excel']\n"
          ]
        }
      ]
    },
    {
      "cell_type": "markdown",
      "source": [
        "#Tuple\n",
        "Tuples are used to store multiple items in a single variable.\n",
        "\n",
        "A tuple is a collection which is ordered and unchangeable.\n",
        "\n",
        "Tuples are written with round brackets."
      ],
      "metadata": {
        "id": "U3jU8htLlNSG"
      }
    },
    {
      "cell_type": "code",
      "source": [
        "a = ('python','sql','java')\n",
        "print(type(a))"
      ],
      "metadata": {
        "colab": {
          "base_uri": "https://localhost:8080/"
        },
        "id": "W4DczshelQyx",
        "outputId": "67cd2742-ea44-43b6-8bae-69827e302b49"
      },
      "execution_count": 43,
      "outputs": [
        {
          "output_type": "stream",
          "name": "stdout",
          "text": [
            "<class 'tuple'>\n"
          ]
        }
      ]
    },
    {
      "cell_type": "markdown",
      "source": [
        "When we say that tuples are ordered, it means that the items have a defined order, and that order will not change.\n",
        "\n",
        "Tuples are unchangeable, meaning that we cannot change, add or remove items after the tuple has been created. You can convert the tuple into a list, change the list, and convert the list back into a tuple.\n",
        "\n",
        "Since tuples are indexed, they can have items with the same value:"
      ],
      "metadata": {
        "id": "uf3ld7ufmCH0"
      }
    },
    {
      "cell_type": "code",
      "source": [
        "a = ('python','sql','java')\n",
        "b = list(a)\n",
        "b[1] = 'excel'\n",
        "a = tuple(b)\n",
        "print(a)"
      ],
      "metadata": {
        "colab": {
          "base_uri": "https://localhost:8080/"
        },
        "id": "NgaVb5hAltNW",
        "outputId": "47c97379-fa92-4737-a4dc-9d475306b90a"
      },
      "execution_count": 46,
      "outputs": [
        {
          "output_type": "stream",
          "name": "stdout",
          "text": [
            "('python', 'excel', 'java')\n"
          ]
        }
      ]
    },
    {
      "cell_type": "markdown",
      "source": [
        "Tuples are immutable, they do not have a built-in append() method\n",
        "\n",
        "We can convert it into a list, add your items, and convert it back into a tuple."
      ],
      "metadata": {
        "id": "R_HUYneopHot"
      }
    },
    {
      "cell_type": "code",
      "source": [
        "a = ('python','sql','java')\n",
        "b = list(a)\n",
        "b.append('excel')\n",
        "a = tuple(b)\n",
        "print(a)"
      ],
      "metadata": {
        "colab": {
          "base_uri": "https://localhost:8080/"
        },
        "id": "xN4Lr9bmulQK",
        "outputId": "fb28c65d-148a-443d-b666-921328e95555"
      },
      "execution_count": 52,
      "outputs": [
        {
          "output_type": "stream",
          "name": "stdout",
          "text": [
            "('python', 'sql', 'java', 'excel')\n"
          ]
        }
      ]
    },
    {
      "cell_type": "markdown",
      "source": [
        "You are allowed to add tuples to tuples, so if you want to add one item, (or many), create a new tuple with the items, and add it to the existing tuple\n",
        "\n",
        "Create a new tuple with the value, and add that tuple"
      ],
      "metadata": {
        "id": "YOG3PTspvjgT"
      }
    },
    {
      "cell_type": "code",
      "source": [
        "#Remember to include a comma after the item, otherwise it will not be identified as a tuple.\n",
        "a = ('python','sql','java')\n",
        "b = ('excel',)\n",
        "a += b\n",
        "print(a)"
      ],
      "metadata": {
        "colab": {
          "base_uri": "https://localhost:8080/"
        },
        "id": "Nedxre2LwhJG",
        "outputId": "312c409e-dac7-4bb9-ab0e-6d1c305b577d"
      },
      "execution_count": 54,
      "outputs": [
        {
          "output_type": "stream",
          "name": "stdout",
          "text": [
            "('python', 'sql', 'java', 'excel')\n"
          ]
        }
      ]
    },
    {
      "cell_type": "markdown",
      "source": [
        "you cannot remove items from it, but you can use the same workaround as we used for changing and adding tuple items\n",
        "\n",
        "When we create a tuple, we normally assign values to it. This is called \"packing\" a tuple\n",
        "But, in Python, we are also allowed to extract the values back into variables. This is called \"unpacking\""
      ],
      "metadata": {
        "id": "gIew1I2bxA6U"
      }
    },
    {
      "cell_type": "code",
      "source": [
        "a = ('python','sql','java')\n",
        "(a,b,c) = a\n",
        "print(a)\n",
        "print(b)\n",
        "print(c)"
      ],
      "metadata": {
        "colab": {
          "base_uri": "https://localhost:8080/"
        },
        "id": "i5x4-7-ixmto",
        "outputId": "52c98a4d-217e-48d2-d506-05ae61b3e2f7"
      },
      "execution_count": 56,
      "outputs": [
        {
          "output_type": "stream",
          "name": "stdout",
          "text": [
            "python\n",
            "sql\n",
            "java\n"
          ]
        }
      ]
    },
    {
      "cell_type": "markdown",
      "source": [
        "If the number of variables is less than the number of values, you can add an * to the variable name and the values will be assigned to the variable as a list"
      ],
      "metadata": {
        "id": "Sr06h2S9yRfb"
      }
    },
    {
      "cell_type": "code",
      "source": [
        "a = ('python', 'sql','java', 'excel')\n",
        "(a,*b) = a\n",
        "print(a)\n",
        "print(b)"
      ],
      "metadata": {
        "colab": {
          "base_uri": "https://localhost:8080/"
        },
        "id": "EixN59yEyVIB",
        "outputId": "8672a1ea-d0d6-41d3-ee31-ac5e54ad2a06"
      },
      "execution_count": 58,
      "outputs": [
        {
          "output_type": "stream",
          "name": "stdout",
          "text": [
            "python\n",
            "['sql', 'java', 'excel']\n"
          ]
        }
      ]
    },
    {
      "cell_type": "markdown",
      "source": [
        "#Tuple Methods"
      ],
      "metadata": {
        "id": "kyeinyQVUxaW"
      }
    },
    {
      "cell_type": "code",
      "source": [
        "#Return the number of times the value 5 appears in the tuple\n",
        "a = ('python', 'sql','java', 'excel', 'sql', 'java', 'sql')\n",
        "print(a.count('sql'))"
      ],
      "metadata": {
        "colab": {
          "base_uri": "https://localhost:8080/"
        },
        "id": "kCe1Os8qUo7B",
        "outputId": "75e9d6ad-4002-46d5-d059-977663967070"
      },
      "execution_count": 3,
      "outputs": [
        {
          "output_type": "stream",
          "name": "stdout",
          "text": [
            "3\n"
          ]
        }
      ]
    },
    {
      "cell_type": "code",
      "source": [
        "#Search for the first occurrence of the value, and return its position\n",
        "a = ('python', 'sql','java', 'excel', 'sql', 'java', 'sql')\n",
        "print(a.index('sql'))"
      ],
      "metadata": {
        "colab": {
          "base_uri": "https://localhost:8080/"
        },
        "id": "srYrFHgvVijC",
        "outputId": "5ce698e4-1d63-4833-ad37-516d45f46a88"
      },
      "execution_count": 4,
      "outputs": [
        {
          "output_type": "stream",
          "name": "stdout",
          "text": [
            "1\n"
          ]
        }
      ]
    },
    {
      "cell_type": "markdown",
      "source": [
        "#Set\n",
        "Sets are used to store multiple items in a single variable.\n",
        "\n",
        "A set is a collection which is unordered, so you cannot be sure in which order the items will appear.\n",
        "\n",
        "se is a unindexed, we cannot be referred to by index or key.\n",
        "\n",
        "Set items are unchangeable, but you can remove items and add new items."
      ],
      "metadata": {
        "id": "yfiZs_jzWgYH"
      }
    },
    {
      "cell_type": "code",
      "source": [
        "#Duplicate values will be ignored\n",
        "a = {'python', 'sql','java', 'excel', 'sql', 'java', 'sql'}\n",
        "a"
      ],
      "metadata": {
        "colab": {
          "base_uri": "https://localhost:8080/"
        },
        "id": "QC-K1oIpW5Cn",
        "outputId": "83b0c606-d397-4939-e94b-d9565ca8a792"
      },
      "execution_count": 5,
      "outputs": [
        {
          "output_type": "execute_result",
          "data": {
            "text/plain": [
              "{'excel', 'java', 'python', 'sql'}"
            ]
          },
          "metadata": {},
          "execution_count": 5
        }
      ]
    },
    {
      "cell_type": "code",
      "source": [
        "#True and 1 is considered the same value\n",
        "#False and 0 is considered the same value\n",
        "a = {'python', 'sql','java', True, False, 0, 1, 2}\n",
        "a"
      ],
      "metadata": {
        "colab": {
          "base_uri": "https://localhost:8080/"
        },
        "id": "rz749KJvYWzK",
        "outputId": "cfd2d773-abab-4902-e69b-82a7f71a2cc4"
      },
      "execution_count": 7,
      "outputs": [
        {
          "output_type": "execute_result",
          "data": {
            "text/plain": [
              "{2, False, True, 'java', 'python', 'sql'}"
            ]
          },
          "metadata": {},
          "execution_count": 7
        }
      ]
    },
    {
      "cell_type": "code",
      "source": [
        "#Check if \"sql\" is present in the set\n",
        "a = {'python', 'sql','java'}\n",
        "print('sql' in a)"
      ],
      "metadata": {
        "colab": {
          "base_uri": "https://localhost:8080/"
        },
        "id": "X8zFQb9Bauzm",
        "outputId": "1b54234c-0b37-4ff5-8cd7-ed0a867478d2"
      },
      "execution_count": 8,
      "outputs": [
        {
          "output_type": "stream",
          "name": "stdout",
          "text": [
            "True\n"
          ]
        }
      ]
    },
    {
      "cell_type": "markdown",
      "source": [
        "To add one item to a set use the add() method.\n",
        "\n",
        "To add items from another set into the current set, use the update() method.\n",
        "\n"
      ],
      "metadata": {
        "id": "c1d51GkBbUdE"
      }
    },
    {
      "cell_type": "code",
      "source": [
        "a = {'python', 'sql','java'}\n",
        "a.add('excel')\n",
        "print(a)"
      ],
      "metadata": {
        "colab": {
          "base_uri": "https://localhost:8080/"
        },
        "id": "6V2maj0na_RK",
        "outputId": "9030b0f8-ce4d-4ebf-da15-0bdc1cdd0583"
      },
      "execution_count": 9,
      "outputs": [
        {
          "output_type": "stream",
          "name": "stdout",
          "text": [
            "{'java', 'python', 'sql', 'excel'}\n"
          ]
        }
      ]
    },
    {
      "cell_type": "code",
      "source": [
        "a = {'python', 'sql','java'}\n",
        "b = {'excel', 'c++'}\n",
        "a.update(b)\n",
        "print(a)"
      ],
      "metadata": {
        "colab": {
          "base_uri": "https://localhost:8080/"
        },
        "id": "6MdTve62b8W0",
        "outputId": "a1607104-c1f8-4325-8d3f-1bfc7f3f0eca"
      },
      "execution_count": 12,
      "outputs": [
        {
          "output_type": "stream",
          "name": "stdout",
          "text": [
            "{'c++', 'python', 'sql', 'java', 'excel'}\n"
          ]
        }
      ]
    },
    {
      "cell_type": "code",
      "source": [
        "a = {'python', 'sql','java'}\n",
        "b = ['excel', 'c++']\n",
        "a.update(b)\n",
        "a"
      ],
      "metadata": {
        "colab": {
          "base_uri": "https://localhost:8080/"
        },
        "id": "35nVXfWLcbjU",
        "outputId": "db09e7a5-18cb-4ebf-c4f4-92c4cdb2b1f3"
      },
      "execution_count": 14,
      "outputs": [
        {
          "output_type": "execute_result",
          "data": {
            "text/plain": [
              "{'c++', 'excel', 'java', 'python', 'sql'}"
            ]
          },
          "metadata": {},
          "execution_count": 14
        }
      ]
    },
    {
      "cell_type": "markdown",
      "source": [
        "To remove an item in a set, use the remove(), or the discard() method.\n",
        "\n",
        "we use the pop() method to remove an item, but this method will remove a random item,"
      ],
      "metadata": {
        "id": "sw1XsxjKdjvF"
      }
    },
    {
      "cell_type": "code",
      "source": [
        "a = {'c++', 'excel', 'java', 'python', 'sql'}\n",
        "a.remove('sql')\n",
        "a"
      ],
      "metadata": {
        "colab": {
          "base_uri": "https://localhost:8080/"
        },
        "id": "1GlFq7uddlAD",
        "outputId": "749821c9-7d55-47d1-f850-17976aae57ce"
      },
      "execution_count": 15,
      "outputs": [
        {
          "output_type": "execute_result",
          "data": {
            "text/plain": [
              "{'c++', 'excel', 'java', 'python'}"
            ]
          },
          "metadata": {},
          "execution_count": 15
        }
      ]
    },
    {
      "cell_type": "code",
      "source": [
        "a = {'c', 'excel', 'java', 'python', 'sql'}\n",
        "a.pop()\n",
        "a"
      ],
      "metadata": {
        "colab": {
          "base_uri": "https://localhost:8080/"
        },
        "id": "uRP5tl8keJVj",
        "outputId": "6b5da2c5-0685-4c27-caca-0f7ef8a7a60e"
      },
      "execution_count": 19,
      "outputs": [
        {
          "output_type": "execute_result",
          "data": {
            "text/plain": [
              "{'c', 'excel', 'java', 'sql'}"
            ]
          },
          "metadata": {},
          "execution_count": 19
        }
      ]
    },
    {
      "cell_type": "markdown",
      "source": [
        "#Join Sets\n",
        "There are several ways to join two or more sets in Python.\n",
        "\n",
        "The union() and update() methods joins all items from both sets.\n",
        "\n",
        "The intersection() method keeps ONLY the duplicates.\n",
        "\n",
        "The difference() method keeps the items from the first set that are not in the other set(s).\n",
        "\n",
        "The symmetric_difference() method keeps all items EXCEPT the duplicates."
      ],
      "metadata": {
        "id": "jnAoCHcxhupm"
      }
    },
    {
      "cell_type": "code",
      "source": [
        "a = {'python', 'sql','java'}\n",
        "b = {'excel', 'c++'}\n",
        "c = a.union(b)\n",
        "c\n",
        "#We can use the | operator instead of the union()\n",
        "a = {'python', 'sql','java'}\n",
        "b = {'excel', 'c++'}\n",
        "c = a|b\n",
        "c"
      ],
      "metadata": {
        "colab": {
          "base_uri": "https://localhost:8080/"
        },
        "id": "FWvdH5ZNiAMX",
        "outputId": "7ff13b14-3e90-4aaf-ae77-55c6149c9472"
      },
      "execution_count": 21,
      "outputs": [
        {
          "output_type": "execute_result",
          "data": {
            "text/plain": [
              "{'c++', 'excel', 'java', 'python', 'sql'}"
            ]
          },
          "metadata": {},
          "execution_count": 21
        }
      ]
    },
    {
      "cell_type": "markdown",
      "source": [
        "The  | operator only allows you to join sets with sets, and not with other data types like you can with the  union() method.\n",
        "\n",
        "Both union() and update() will exclude any duplicate items."
      ],
      "metadata": {
        "id": "FnVCF0R4kkDh"
      }
    },
    {
      "cell_type": "code",
      "source": [
        "#Joining set and tuple\n",
        "a = {'python', 'sql','java'}\n",
        "b = ['excel', 'c++']\n",
        "c = a.union(b)\n",
        "c"
      ],
      "metadata": {
        "colab": {
          "base_uri": "https://localhost:8080/"
        },
        "id": "ym4GFjtUj8Wy",
        "outputId": "00664179-3dcd-483c-add7-c077146786ea"
      },
      "execution_count": 22,
      "outputs": [
        {
          "output_type": "execute_result",
          "data": {
            "text/plain": [
              "{'c++', 'excel', 'java', 'python', 'sql'}"
            ]
          },
          "metadata": {},
          "execution_count": 22
        }
      ]
    },
    {
      "cell_type": "code",
      "source": [
        "#Intersection\n",
        "a = {'python', 'sql','java'}\n",
        "b = {'excel', 'c++', 'sql'}\n",
        "c = a.intersection(b)\n",
        "c"
      ],
      "metadata": {
        "colab": {
          "base_uri": "https://localhost:8080/"
        },
        "id": "NYWnsV3AlLi5",
        "outputId": "e4208805-0c2d-4110-b1d6-fac107b2a65b"
      },
      "execution_count": 24,
      "outputs": [
        {
          "output_type": "execute_result",
          "data": {
            "text/plain": [
              "{'sql'}"
            ]
          },
          "metadata": {},
          "execution_count": 24
        }
      ]
    },
    {
      "cell_type": "code",
      "source": [
        "a = {'python', 'sql','java'}\n",
        "b = {'excel', 'c++', 'sql'}\n",
        "c = a & b\n",
        "c"
      ],
      "metadata": {
        "colab": {
          "base_uri": "https://localhost:8080/"
        },
        "id": "HqpPU7VClWe7",
        "outputId": "dbe74431-9e71-4253-d171-def3b17bd184"
      },
      "execution_count": 25,
      "outputs": [
        {
          "output_type": "execute_result",
          "data": {
            "text/plain": [
              "{'sql'}"
            ]
          },
          "metadata": {},
          "execution_count": 25
        }
      ]
    },
    {
      "cell_type": "markdown",
      "source": [
        "The \"intersection_update()\" method will also keep ONLY the duplicates, but it will change the original set instead of returning a new set."
      ],
      "metadata": {
        "id": "NLyB1U4Nlnx1"
      }
    },
    {
      "cell_type": "code",
      "source": [
        "a = {'python', 'sql','java'}\n",
        "b = {'excel', 'c++', 'sql'}\n",
        "c = a.intersection_update(b)\n",
        "a"
      ],
      "metadata": {
        "colab": {
          "base_uri": "https://localhost:8080/"
        },
        "id": "xNo1vLhylm1c",
        "outputId": "0e918c92-1aab-4a88-cbe5-78ff03672b43"
      },
      "execution_count": 29,
      "outputs": [
        {
          "output_type": "execute_result",
          "data": {
            "text/plain": [
              "{'sql'}"
            ]
          },
          "metadata": {},
          "execution_count": 29
        }
      ]
    },
    {
      "cell_type": "markdown",
      "source": [
        "The values True and 1 are considered the same value. The same goes for False and 0."
      ],
      "metadata": {
        "id": "1rWhw4LimknY"
      }
    },
    {
      "cell_type": "code",
      "source": [
        "a = {'python',True, False, 'sql','java'}\n",
        "b = {'excel',1, 3, 2, 0, 'c++', 'sql'}\n",
        "c = a&b\n",
        "c"
      ],
      "metadata": {
        "colab": {
          "base_uri": "https://localhost:8080/"
        },
        "id": "L19WdRtym619",
        "outputId": "452ec99e-018d-4b3f-db40-44b33b7d6270"
      },
      "execution_count": 30,
      "outputs": [
        {
          "output_type": "execute_result",
          "data": {
            "text/plain": [
              "{False, True, 'sql'}"
            ]
          },
          "metadata": {},
          "execution_count": 30
        }
      ]
    },
    {
      "cell_type": "markdown",
      "source": [
        "The difference() method will return a new set that will contain only the items from the first set that are not present in the other set."
      ],
      "metadata": {
        "id": "aQ9uY0v6njLk"
      }
    },
    {
      "cell_type": "code",
      "source": [
        "a = {'python',True, False, 'sql','java'}\n",
        "b = {'excel',1, 3, 2, 0, 'c++', 'sql'}\n",
        "c = a.difference(b)\n",
        "c"
      ],
      "metadata": {
        "colab": {
          "base_uri": "https://localhost:8080/"
        },
        "id": "sglcYaTenkEv",
        "outputId": "76099e6a-07c4-434b-f569-c79d2bbe4dbc"
      },
      "execution_count": 31,
      "outputs": [
        {
          "output_type": "execute_result",
          "data": {
            "text/plain": [
              "{'java', 'python'}"
            ]
          },
          "metadata": {},
          "execution_count": 31
        }
      ]
    },
    {
      "cell_type": "code",
      "source": [
        "a = {'python',True, False, 'sql','java'}\n",
        "b = {'excel',1, 3, 2, 0, 'c++', 'sql'}\n",
        "c = a - b\n",
        "c"
      ],
      "metadata": {
        "colab": {
          "base_uri": "https://localhost:8080/"
        },
        "id": "XnqLeNg5nxwk",
        "outputId": "79cf07ff-526a-46a6-dae4-6bc115d42b3f"
      },
      "execution_count": 32,
      "outputs": [
        {
          "output_type": "execute_result",
          "data": {
            "text/plain": [
              "{'java', 'python'}"
            ]
          },
          "metadata": {},
          "execution_count": 32
        }
      ]
    },
    {
      "cell_type": "markdown",
      "source": [
        "The difference_update() method will also keep the items from the first set that are not in the other set, but it will change the original set instead of returning a new set.\n",
        "\n"
      ],
      "metadata": {
        "id": "4W2NARANoMen"
      }
    },
    {
      "cell_type": "code",
      "source": [
        "a = {'python',True, False, 'sql','java'}\n",
        "b = {'excel',1, 3, 2, 0, 'c++', 'sql'}\n",
        "c = a.difference_update(b)\n",
        "a"
      ],
      "metadata": {
        "colab": {
          "base_uri": "https://localhost:8080/"
        },
        "id": "rXFapcmNoNwB",
        "outputId": "3b2d7c80-8f8c-481a-a3d5-32514e1c7ed5"
      },
      "execution_count": 33,
      "outputs": [
        {
          "output_type": "execute_result",
          "data": {
            "text/plain": [
              "{'java', 'python'}"
            ]
          },
          "metadata": {},
          "execution_count": 33
        }
      ]
    },
    {
      "cell_type": "markdown",
      "source": [
        "The symmetric_difference() method will keep only the elements that are NOT present in both sets.\n",
        "\n"
      ],
      "metadata": {
        "id": "F3OCPiqqooaP"
      }
    },
    {
      "cell_type": "code",
      "source": [
        "a = {'python',True, False, 'sql','java'}\n",
        "b = {'excel',1, 3, 2, 0, 'c++', 'sql'}\n",
        "c = a.symmetric_difference(b)\n",
        "c"
      ],
      "metadata": {
        "colab": {
          "base_uri": "https://localhost:8080/"
        },
        "id": "_aPVCIH6opBi",
        "outputId": "c1d03d50-7f65-484a-a08e-71bf20e42be8"
      },
      "execution_count": 34,
      "outputs": [
        {
          "output_type": "execute_result",
          "data": {
            "text/plain": [
              "{2, 3, 'c++', 'excel', 'java', 'python'}"
            ]
          },
          "metadata": {},
          "execution_count": 34
        }
      ]
    },
    {
      "cell_type": "code",
      "source": [
        "a = {'python',True, False, 'sql','java'}\n",
        "b = {'excel',1, 3, 2, 0, 'c++', 'sql'}\n",
        "c = a ^ b\n",
        "c"
      ],
      "metadata": {
        "colab": {
          "base_uri": "https://localhost:8080/"
        },
        "id": "lFA-0D4IpCJu",
        "outputId": "0ac001f2-94a6-47b1-c599-023fdb6bfcf8"
      },
      "execution_count": 38,
      "outputs": [
        {
          "output_type": "execute_result",
          "data": {
            "text/plain": [
              "{2, 3, 'c++', 'excel', 'java', 'python'}"
            ]
          },
          "metadata": {},
          "execution_count": 38
        }
      ]
    },
    {
      "cell_type": "markdown",
      "source": [],
      "metadata": {
        "id": "jz0c1nx0pTl_"
      }
    },
    {
      "cell_type": "markdown",
      "source": [
        "The symmetric_difference_update() method will also keep all but the duplicates, but it will change the original set instead of returning a new set.\n",
        "\n"
      ],
      "metadata": {
        "id": "M75sQSzFo1Nt"
      }
    },
    {
      "cell_type": "code",
      "source": [
        "a = {'python',True, False, 'sql','java'}\n",
        "b = {'excel',1, 3, 2, 0, 'c++', 'sql'}\n",
        "c = a.symmetric_difference_update(b)\n",
        "a"
      ],
      "metadata": {
        "colab": {
          "base_uri": "https://localhost:8080/"
        },
        "id": "o3iO09rTo1sm",
        "outputId": "b664dd09-1e9c-4e30-fc2b-088be153f3eb"
      },
      "execution_count": 37,
      "outputs": [
        {
          "output_type": "execute_result",
          "data": {
            "text/plain": [
              "{2, 3, 'c++', 'excel', 'java', 'python'}"
            ]
          },
          "metadata": {},
          "execution_count": 37
        }
      ]
    },
    {
      "cell_type": "markdown",
      "source": [
        "#Dictionary Methods"
      ],
      "metadata": {
        "id": "ORwoFwCv0eWC"
      }
    },
    {
      "cell_type": "code",
      "source": [
        "a = {'name':'john', 'age':'24', 'state':'florida'}  #Remove all elements from the car list\n",
        "a.clear()\n",
        "print(a)"
      ],
      "metadata": {
        "colab": {
          "base_uri": "https://localhost:8080/"
        },
        "id": "-GVRstIi0sOk",
        "outputId": "76748a3b-cbeb-41b4-ecb7-6f1e35664813"
      },
      "execution_count": null,
      "outputs": [
        {
          "output_type": "stream",
          "name": "stdout",
          "text": [
            "{}\n"
          ]
        }
      ]
    },
    {
      "cell_type": "code",
      "source": [
        "a = {'name':'john', 'age':'24', 'state':'florida'}  #Copies the dictionary\n",
        "b=a.copy()\n",
        "print(a)\n",
        "print(b)"
      ],
      "metadata": {
        "colab": {
          "base_uri": "https://localhost:8080/"
        },
        "id": "xL_NTz244FfS",
        "outputId": "c3ef3d22-577f-44bb-d98a-b88f249f5acc"
      },
      "execution_count": null,
      "outputs": [
        {
          "output_type": "stream",
          "name": "stdout",
          "text": [
            "{'name': 'john', 'age': '24', 'state': 'florida'}\n",
            "{'name': 'john', 'age': '24', 'state': 'florida'}\n"
          ]
        }
      ]
    },
    {
      "cell_type": "code",
      "source": [
        "a = {'name', 'age', 'state'}  #Returns a dictionary with the specified keys and the specified value.\n",
        "b = ('john')\n",
        "c = dict.fromkeys(a, b)\n",
        "print(c)"
      ],
      "metadata": {
        "colab": {
          "base_uri": "https://localhost:8080/"
        },
        "id": "PBa5zmz-4bJR",
        "outputId": "02050f11-6fa8-49e6-8242-b69d4dcc8855"
      },
      "execution_count": null,
      "outputs": [
        {
          "output_type": "stream",
          "name": "stdout",
          "text": [
            "{'state': 'john', 'age': 'john', 'name': 'john'}\n"
          ]
        }
      ]
    },
    {
      "cell_type": "code",
      "source": [
        "a = {'name':'john', 'age':'24', 'state':'florida'}  #Returns the value of the item with the specified key\n",
        "print(a.get('name'))"
      ],
      "metadata": {
        "colab": {
          "base_uri": "https://localhost:8080/"
        },
        "id": "PbgxqVwKGiBk",
        "outputId": "7e60b042-ff50-471e-a179-577893569fa2"
      },
      "execution_count": null,
      "outputs": [
        {
          "output_type": "stream",
          "name": "stdout",
          "text": [
            "john\n"
          ]
        }
      ]
    },
    {
      "cell_type": "code",
      "source": [
        "a = {'name':'john', 'age':'24', 'state':'florida'}  #Returns a view object. The view object contains the key-value pairs of the dictionary, as tuples in a list.\n",
        "print(a.items())"
      ],
      "metadata": {
        "colab": {
          "base_uri": "https://localhost:8080/"
        },
        "id": "koLIRJ-AG7RU",
        "outputId": "b91fb56f-e1c9-4aac-bb56-ecaba3dec7f9"
      },
      "execution_count": null,
      "outputs": [
        {
          "output_type": "stream",
          "name": "stdout",
          "text": [
            "dict_items([('name', 'john'), ('age', '24'), ('state', 'florida')])\n"
          ]
        }
      ]
    },
    {
      "cell_type": "code",
      "source": [
        "a = {'name':'john', 'age':'24', 'state':'florida'} #Returns a list of all the keys in the dictionary\n",
        "print(a.keys())"
      ],
      "metadata": {
        "colab": {
          "base_uri": "https://localhost:8080/"
        },
        "id": "MVuLMz8fHmfR",
        "outputId": "e8b39df9-cea7-4bc3-fb4d-a82dcd2edcc4"
      },
      "execution_count": null,
      "outputs": [
        {
          "output_type": "stream",
          "name": "stdout",
          "text": [
            "dict_keys(['name', 'age', 'state'])\n"
          ]
        }
      ]
    },
    {
      "cell_type": "code",
      "source": [
        "a = {'name':'john', 'age':'24', 'state':'florida'}  #Returns a list of all the values in the dictionary\n",
        "print(a.values())"
      ],
      "metadata": {
        "colab": {
          "base_uri": "https://localhost:8080/"
        },
        "id": "ho5EoMd0HweN",
        "outputId": "515464e5-c24f-4911-895a-b5daecc1efb8"
      },
      "execution_count": null,
      "outputs": [
        {
          "output_type": "stream",
          "name": "stdout",
          "text": [
            "dict_values(['john', '24', 'florida'])\n"
          ]
        }
      ]
    },
    {
      "cell_type": "code",
      "source": [
        "a = {'name':'john', 'age':'24', 'state':'florida'}  #Removes the element with the specified key\n",
        "b = (a.pop('age'))\n",
        "print(a)"
      ],
      "metadata": {
        "colab": {
          "base_uri": "https://localhost:8080/"
        },
        "id": "MwB5WNN-Iidy",
        "outputId": "5937c5cf-022a-432a-c61d-49bac612ffe2"
      },
      "execution_count": null,
      "outputs": [
        {
          "output_type": "stream",
          "name": "stdout",
          "text": [
            "{'name': 'john', 'state': 'florida'}\n"
          ]
        }
      ]
    },
    {
      "cell_type": "markdown",
      "source": [
        "| Method        | Description                                                     |\n",
        "|---------------|-----------------------------------------------------------------|\n",
        "| clear()  | Removes all the elements from the dictionary                     |\n",
        "| copy()    | Returns a copy of the dictionary                                 |\n",
        "| fromkeys()      | Returns a dictionary with the specified keys and value                                       |\n",
        "| get()       | Returns the value of the specified key|\n",
        "| items()      | Returns a list containing a tuple for each key value pair                        |\n",
        "| keys()    | Returns a list containing the dictionary's keys        |\n",
        "| pop()  | Removes the element with the specified key                                 |\n",
        "| popitem()        | Removes the last inserted key-value pair |\n",
        "| setdefault()      | Returns the value of the specified key. If the key does not exist: insert the key, with the specified value                           |\n",
        "| update()  | Updates the dictionary with the specified key-value pairs                            |\n",
        "| values()       | Returns a list of all the values in the dictionary |\n"
      ],
      "metadata": {
        "id": "t7UWDy3PSZJB"
      }
    },
    {
      "cell_type": "code",
      "source": [],
      "metadata": {
        "id": "6Dd5Yn6kn4rx"
      },
      "execution_count": null,
      "outputs": []
    }
  ]
}