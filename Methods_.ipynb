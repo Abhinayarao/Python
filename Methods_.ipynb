{
  "nbformat": 4,
  "nbformat_minor": 0,
  "metadata": {
    "colab": {
      "provenance": [],
      "authorship_tag": "ABX9TyPR//vuTKylMV8GEvh5k/1Z",
      "include_colab_link": true
    },
    "kernelspec": {
      "name": "python3",
      "display_name": "Python 3"
    },
    "language_info": {
      "name": "python"
    }
  },
  "cells": [
    {
      "cell_type": "markdown",
      "metadata": {
        "id": "view-in-github",
        "colab_type": "text"
      },
      "source": [
        "<a href=\"https://colab.research.google.com/github/Abhinayarao/Python/blob/main/Methods_.ipynb\" target=\"_parent\"><img src=\"https://colab.research.google.com/assets/colab-badge.svg\" alt=\"Open In Colab\"/></a>"
      ]
    },
    {
      "cell_type": "markdown",
      "source": [
        "#String Methods"
      ],
      "metadata": {
        "id": "byhkRWqCUN9S"
      }
    },
    {
      "cell_type": "code",
      "source": [
        "A = [2,4,6,7,3,6]\n",
        "for a in A:\n",
        "  print(A.index(a))"
      ],
      "metadata": {
        "colab": {
          "base_uri": "https://localhost:8080/"
        },
        "id": "82OEM8GIUObB",
        "outputId": "b01ceb21-7eec-4198-ff79-e94e961fbc84"
      },
      "execution_count": null,
      "outputs": [
        {
          "output_type": "stream",
          "name": "stdout",
          "text": [
            "0\n",
            "1\n",
            "2\n",
            "3\n",
            "4\n",
            "2\n"
          ]
        }
      ]
    },
    {
      "cell_type": "code",
      "source": [
        "a = 'PYTHON.PY'\n",
        "print(a.casefold())"
      ],
      "metadata": {
        "colab": {
          "base_uri": "https://localhost:8080/"
        },
        "id": "ZRNohmca2nnJ",
        "outputId": "75b21aed-d770-4548-eddf-221b90e66fdf"
      },
      "execution_count": null,
      "outputs": [
        {
          "output_type": "stream",
          "name": "stdout",
          "text": [
            "python.py\n"
          ]
        }
      ]
    },
    {
      "cell_type": "code",
      "source": [
        "a = ('pencil')\n",
        "print(a.center(4))"
      ],
      "metadata": {
        "colab": {
          "base_uri": "https://localhost:8080/"
        },
        "id": "6qNtrzlW28VF",
        "outputId": "3fd18578-06ac-413f-c2f6-2439e32dff53"
      },
      "execution_count": null,
      "outputs": [
        {
          "output_type": "stream",
          "name": "stdout",
          "text": [
            "pencil\n"
          ]
        }
      ]
    },
    {
      "cell_type": "code",
      "source": [
        "print(a.center(10, '1'))"
      ],
      "metadata": {
        "colab": {
          "base_uri": "https://localhost:8080/"
        },
        "id": "x0Fgu_8J4hE3",
        "outputId": "522146de-30de-4a16-e8d5-29e43b1d5765"
      },
      "execution_count": null,
      "outputs": [
        {
          "output_type": "stream",
          "name": "stdout",
          "text": [
            "11pencil11\n"
          ]
        }
      ]
    },
    {
      "cell_type": "code",
      "source": [
        "a=('python and sql and sql')\n",
        "i = a.count('sql')\n",
        "print(i)"
      ],
      "metadata": {
        "colab": {
          "base_uri": "https://localhost:8080/"
        },
        "id": "he7m-ZBi4tvL",
        "outputId": "ca4b426a-47ae-4206-d74d-204a991bea2f"
      },
      "execution_count": null,
      "outputs": [
        {
          "output_type": "stream",
          "name": "stdout",
          "text": [
            "2\n"
          ]
        }
      ]
    },
    {
      "cell_type": "code",
      "source": [
        "a = ('my name is abhi')\n",
        "i = a.encode()\n",
        "print(i)"
      ],
      "metadata": {
        "colab": {
          "base_uri": "https://localhost:8080/"
        },
        "id": "e_xl1wK36QpA",
        "outputId": "802ff731-e57d-4a88-d644-026eb16322a4"
      },
      "execution_count": null,
      "outputs": [
        {
          "output_type": "stream",
          "name": "stdout",
          "text": [
            "b'my name is abhi'\n"
          ]
        }
      ]
    },
    {
      "cell_type": "code",
      "source": [
        "a = 'Python'\n",
        "i = a.endswith('e')\n",
        "print(i)"
      ],
      "metadata": {
        "colab": {
          "base_uri": "https://localhost:8080/"
        },
        "id": "HtExyY799gG6",
        "outputId": "be292a10-b8cd-4765-fb6b-e9805321e717"
      },
      "execution_count": null,
      "outputs": [
        {
          "output_type": "stream",
          "name": "stdout",
          "text": [
            "False\n"
          ]
        }
      ]
    },
    {
      "cell_type": "code",
      "source": [
        "a = 'p\\ty\\tt\\th\\to\\tn'\n",
        "i = a.expandtabs(10)\n",
        "print(i)"
      ],
      "metadata": {
        "colab": {
          "base_uri": "https://localhost:8080/"
        },
        "id": "0Sg8gMpv96E1",
        "outputId": "00da7505-f5e7-40fd-b085-5e149702e46e"
      },
      "execution_count": null,
      "outputs": [
        {
          "output_type": "stream",
          "name": "stdout",
          "text": [
            "p         y         t         h         o         n\n"
          ]
        }
      ]
    },
    {
      "cell_type": "code",
      "source": [
        "a = 'Hello welcome to my channel'\n",
        "i = a.find('welcome')\n",
        "print(i)"
      ],
      "metadata": {
        "colab": {
          "base_uri": "https://localhost:8080/"
        },
        "id": "053IcKRi_aoY",
        "outputId": "63b6dc8e-08a2-4a21-bdf8-bb1dfd002020"
      },
      "execution_count": null,
      "outputs": [
        {
          "output_type": "stream",
          "name": "stdout",
          "text": [
            "6\n"
          ]
        }
      ]
    },
    {
      "cell_type": "code",
      "source": [
        "a = \"my name is {name}, and i'm {age} years old\".format(name='abhi', age = '23')\n",
        "print(a)"
      ],
      "metadata": {
        "colab": {
          "base_uri": "https://localhost:8080/"
        },
        "id": "bTAHME8JK3G6",
        "outputId": "284f8eb7-ad9b-479c-cd06-6321a9ee8223"
      },
      "execution_count": null,
      "outputs": [
        {
          "output_type": "stream",
          "name": "stdout",
          "text": [
            "my name is abhi, and i'm 23 years old\n"
          ]
        }
      ]
    },
    {
      "cell_type": "code",
      "source": [
        "person = 'name:Alice, age: 25'\n",
        "print(person)"
      ],
      "metadata": {
        "colab": {
          "base_uri": "https://localhost:8080/"
        },
        "id": "x97v54JKMxc4",
        "outputId": "e0b5c4f0-17be-4a76-8142-79c6ef1da0af"
      },
      "execution_count": null,
      "outputs": [
        {
          "output_type": "stream",
          "name": "stdout",
          "text": [
            "name:Alice, age: 25\n"
          ]
        }
      ]
    },
    {
      "cell_type": "code",
      "source": [
        "person = {'name': 'Alice', 'age': 25}\n",
        "template = \"Name: {name}, Age: {age}\"\n",
        "\n",
        "result = template.format_map(person)\n",
        "print(result)"
      ],
      "metadata": {
        "colab": {
          "base_uri": "https://localhost:8080/"
        },
        "id": "_8q1JewfPcDI",
        "outputId": "82ef9a22-8160-426f-c1aa-5a18b0f937c3"
      },
      "execution_count": null,
      "outputs": [
        {
          "output_type": "stream",
          "name": "stdout",
          "text": [
            "Name: Alice, Age: 25\n"
          ]
        }
      ]
    },
    {
      "cell_type": "code",
      "source": [
        "a = 'where are you'.index('are')\n",
        "print(a)"
      ],
      "metadata": {
        "colab": {
          "base_uri": "https://localhost:8080/"
        },
        "id": "pjoR60sTPgSg",
        "outputId": "08153ed7-e9bc-4e81-bd59-7a602a43a8b7"
      },
      "execution_count": null,
      "outputs": [
        {
          "output_type": "stream",
          "name": "stdout",
          "text": [
            "6\n"
          ]
        }
      ]
    },
    {
      "cell_type": "code",
      "source": [
        "a= 'where is my hometown'.rindex('h')\n",
        "print(a)"
      ],
      "metadata": {
        "colab": {
          "base_uri": "https://localhost:8080/"
        },
        "id": "VaTLsEkEWVxL",
        "outputId": "5d3dc24c-c54e-4bbe-f862-ae12a3d2b6b3"
      },
      "execution_count": null,
      "outputs": [
        {
          "output_type": "stream",
          "name": "stdout",
          "text": [
            "12\n"
          ]
        }
      ]
    },
    {
      "cell_type": "code",
      "source": [
        "a = 'python3'.isalnum() #returns true or false if string is in between alphabet letter (a-z) and numbers (0-9).\n",
        "print(a)"
      ],
      "metadata": {
        "colab": {
          "base_uri": "https://localhost:8080/"
        },
        "id": "UmRkU3-aQFnK",
        "outputId": "c82b76e1-c954-4377-b736-b216b63540b9"
      },
      "execution_count": null,
      "outputs": [
        {
          "output_type": "stream",
          "name": "stdout",
          "text": [
            "True\n"
          ]
        }
      ]
    },
    {
      "cell_type": "code",
      "source": [
        "a = 'python'.isalpha() #returns true or false if string is in between alphabet letter (a-z)\n",
        "print(a)"
      ],
      "metadata": {
        "colab": {
          "base_uri": "https://localhost:8080/"
        },
        "id": "g3t3fdvUQTYU",
        "outputId": "60c8f865-667a-42d8-c8ef-916c9ab90b8d"
      },
      "execution_count": null,
      "outputs": [
        {
          "output_type": "stream",
          "name": "stdout",
          "text": [
            "True\n"
          ]
        }
      ]
    },
    {
      "cell_type": "code",
      "source": [
        "a = '3.0'.isdecimal()\n",
        "print(a)"
      ],
      "metadata": {
        "colab": {
          "base_uri": "https://localhost:8080/"
        },
        "id": "brhI86txRtyx",
        "outputId": "38ca00dd-b19a-4d73-face-25b101c018fa"
      },
      "execution_count": null,
      "outputs": [
        {
          "output_type": "stream",
          "name": "stdout",
          "text": [
            "False\n"
          ]
        }
      ]
    },
    {
      "cell_type": "code",
      "source": [
        "a = '3'.isdigit()\n",
        "print(a)"
      ],
      "metadata": {
        "colab": {
          "base_uri": "https://localhost:8080/"
        },
        "id": "T0jxGdSyZ5qD",
        "outputId": "4aab1595-9264-455b-c7df-3558ae64205b"
      },
      "execution_count": null,
      "outputs": [
        {
          "output_type": "stream",
          "name": "stdout",
          "text": [
            "True\n"
          ]
        }
      ]
    },
    {
      "cell_type": "code",
      "source": [
        "a = 'python'.isidentifier() #It contains alphanumeric letters (a-z) and (0-9), or underscores (_). A identifier cannot start with a number, or contain any spaces.\n",
        "print(a)"
      ],
      "metadata": {
        "id": "NbICbiqqaOhW",
        "colab": {
          "base_uri": "https://localhost:8080/"
        },
        "outputId": "72c12de8-1a5d-4064-ad8a-4066e82c1efb"
      },
      "execution_count": null,
      "outputs": [
        {
          "output_type": "stream",
          "name": "stdout",
          "text": [
            "True\n"
          ]
        }
      ]
    },
    {
      "cell_type": "code",
      "source": [
        "a = 'Python'.islower()\n",
        "print(a)"
      ],
      "metadata": {
        "id": "g76s50wa42sO",
        "colab": {
          "base_uri": "https://localhost:8080/"
        },
        "outputId": "144ccfac-7721-4151-9c16-68658a3088f8"
      },
      "execution_count": null,
      "outputs": [
        {
          "output_type": "stream",
          "name": "stdout",
          "text": [
            "False\n"
          ]
        }
      ]
    },
    {
      "cell_type": "code",
      "source": [
        "i = 'python'.isnumeric()\n",
        "print(i)"
      ],
      "metadata": {
        "colab": {
          "base_uri": "https://localhost:8080/"
        },
        "id": "TT9b9DDU6Nda",
        "outputId": "a49581a8-64ed-4abd-d8ec-c3bead43d785"
      },
      "execution_count": null,
      "outputs": [
        {
          "output_type": "stream",
          "name": "stdout",
          "text": [
            "False\n"
          ]
        }
      ]
    },
    {
      "cell_type": "code",
      "source": [
        "a = 'python'.isprintable()\n",
        "print(a)"
      ],
      "metadata": {
        "colab": {
          "base_uri": "https://localhost:8080/"
        },
        "id": "UcNWhXC-6dnW",
        "outputId": "98387cbc-7f3b-46a1-f4b4-65ef21268a3d"
      },
      "execution_count": null,
      "outputs": [
        {
          "output_type": "stream",
          "name": "stdout",
          "text": [
            "True\n"
          ]
        }
      ]
    },
    {
      "cell_type": "code",
      "source": [
        "a = ' '.isspace()\n",
        "print(a)"
      ],
      "metadata": {
        "colab": {
          "base_uri": "https://localhost:8080/"
        },
        "id": "TbYNidTc63DU",
        "outputId": "bfca7536-370c-4a9f-c93c-5f9112d236a5"
      },
      "execution_count": null,
      "outputs": [
        {
          "output_type": "stream",
          "name": "stdout",
          "text": [
            "True\n"
          ]
        }
      ]
    },
    {
      "cell_type": "code",
      "source": [
        "a = 'python version 3'.title() #text start with a upper case letter, AND the rest of the word are lower case letters,\n",
        "print(a)"
      ],
      "metadata": {
        "colab": {
          "base_uri": "https://localhost:8080/"
        },
        "id": "eROzMzY9R4iW",
        "outputId": "964fa7d7-e56a-41d5-c64f-344ee90d34b5"
      },
      "execution_count": null,
      "outputs": [
        {
          "output_type": "stream",
          "name": "stdout",
          "text": [
            "Python Version 3\n"
          ]
        }
      ]
    },
    {
      "cell_type": "code",
      "source": [
        "a = 'PYTHON'.istitle() #True if all words in a text start with a upper case letter, AND the rest of the word are lower case letters,\n",
        "print(a)"
      ],
      "metadata": {
        "colab": {
          "base_uri": "https://localhost:8080/"
        },
        "id": "AER_Gs2C7B_B",
        "outputId": "26068714-f283-40b8-8956-03c0795172ad"
      },
      "execution_count": null,
      "outputs": [
        {
          "output_type": "stream",
          "name": "stdout",
          "text": [
            "False\n"
          ]
        }
      ]
    },
    {
      "cell_type": "code",
      "source": [
        "a = 'python version 3'.upper()\n",
        "print(a)"
      ],
      "metadata": {
        "colab": {
          "base_uri": "https://localhost:8080/"
        },
        "id": "_npl1_7pRTWf",
        "outputId": "3ec2f6a3-2f7e-4659-9409-9016624bd23a"
      },
      "execution_count": null,
      "outputs": [
        {
          "output_type": "stream",
          "name": "stdout",
          "text": [
            "PYTHON VERSION 3\n"
          ]
        }
      ]
    },
    {
      "cell_type": "code",
      "source": [
        "a = 'PYTHON'.isupper()\n",
        "print(a)"
      ],
      "metadata": {
        "colab": {
          "base_uri": "https://localhost:8080/"
        },
        "id": "BjscyoYE7QLN",
        "outputId": "c195cb64-0721-4705-a313-7c7915bf1543"
      },
      "execution_count": null,
      "outputs": [
        {
          "output_type": "stream",
          "name": "stdout",
          "text": [
            "True\n"
          ]
        }
      ]
    },
    {
      "cell_type": "code",
      "source": [
        "a = ('Four', 'Five', 'Six')\n",
        "i = \"@\".join(a)\n",
        "print(i)"
      ],
      "metadata": {
        "colab": {
          "base_uri": "https://localhost:8080/"
        },
        "id": "nlfeTBVE7fDi",
        "outputId": "abd8a760-c17b-4cc4-8b2b-b346d38a671d"
      },
      "execution_count": null,
      "outputs": [
        {
          "output_type": "stream",
          "name": "stdout",
          "text": [
            "Four@Five@Six\n"
          ]
        }
      ]
    },
    {
      "cell_type": "code",
      "source": [
        "a = 'what is your'.ljust(20)\n",
        "print(a, 'age')"
      ],
      "metadata": {
        "colab": {
          "base_uri": "https://localhost:8080/"
        },
        "id": "Q2_w3EGQ8KNs",
        "outputId": "136804e4-1903-46d2-d431-aa07796bbcb0"
      },
      "execution_count": null,
      "outputs": [
        {
          "output_type": "stream",
          "name": "stdout",
          "text": [
            "what is your         age\n"
          ]
        }
      ]
    },
    {
      "cell_type": "code",
      "source": [
        "a = 'what is your'.rjust(20)\n",
        "print(a, 'age')"
      ],
      "metadata": {
        "colab": {
          "base_uri": "https://localhost:8080/"
        },
        "id": "5eo6UzE2F2iO",
        "outputId": "05dd218a-cc0a-46d7-adf6-7493d81a775e"
      },
      "execution_count": null,
      "outputs": [
        {
          "output_type": "stream",
          "name": "stdout",
          "text": [
            "        what is your age\n"
          ]
        }
      ]
    },
    {
      "cell_type": "code",
      "source": [
        "a = 'PYTHON'.lower()\n",
        "print(a)"
      ],
      "metadata": {
        "colab": {
          "base_uri": "https://localhost:8080/"
        },
        "id": "zk5sZSeW-o_-",
        "outputId": "9be5d9d6-cbc9-42d5-b119-dd0393aa3fb1"
      },
      "execution_count": null,
      "outputs": [
        {
          "output_type": "stream",
          "name": "stdout",
          "text": [
            "python\n"
          ]
        }
      ]
    },
    {
      "cell_type": "code",
      "source": [
        "a = 'cone'\n",
        "i = str.maketrans('c', 'd')\n",
        "print(a.translate(i))"
      ],
      "metadata": {
        "colab": {
          "base_uri": "https://localhost:8080/"
        },
        "id": "-fzpeB-t_vlJ",
        "outputId": "569bf24b-aed0-4fca-c168-b6c0809ed145"
      },
      "execution_count": null,
      "outputs": [
        {
          "output_type": "stream",
          "name": "stdout",
          "text": [
            "done\n"
          ]
        }
      ]
    },
    {
      "cell_type": "code",
      "source": [
        "a = 'my name is abhinaya. you should call me abhinaya peryala'.partition('abhinaya')\n",
        "print(a)"
      ],
      "metadata": {
        "colab": {
          "base_uri": "https://localhost:8080/"
        },
        "id": "qj8oZZSWBIHt",
        "outputId": "68bfc78c-5dae-4ec9-d668-176cd0ed900b"
      },
      "execution_count": null,
      "outputs": [
        {
          "output_type": "stream",
          "name": "stdout",
          "text": [
            "('my name is ', 'abhinaya', '. you should call me abhinaya peryala')\n"
          ]
        }
      ]
    },
    {
      "cell_type": "code",
      "source": [
        "a = 'this is python version 3, and python version2'.rpartition('python')\n",
        "print(a)"
      ],
      "metadata": {
        "colab": {
          "base_uri": "https://localhost:8080/"
        },
        "id": "FKyeJokBGOEb",
        "outputId": "813e3c62-adf1-4e47-c989-4fd2a64278b8"
      },
      "execution_count": null,
      "outputs": [
        {
          "output_type": "stream",
          "name": "stdout",
          "text": [
            "('this is python version 3, and ', 'python', ' version2')\n"
          ]
        }
      ]
    },
    {
      "cell_type": "code",
      "source": [
        "a = 'python version 3'.replace('python', 'sql')\n",
        "print(a)"
      ],
      "metadata": {
        "colab": {
          "base_uri": "https://localhost:8080/"
        },
        "id": "BzjX3fUcCiFt",
        "outputId": "0373ea99-8edf-429a-93ec-943e8768e393"
      },
      "execution_count": null,
      "outputs": [
        {
          "output_type": "stream",
          "name": "stdout",
          "text": [
            "sql version 3\n"
          ]
        }
      ]
    },
    {
      "cell_type": "code",
      "source": [
        "a = 'where is my hometown'.rfind('e') # finds the last occurrence of the specified value.\n",
        "print(a)"
      ],
      "metadata": {
        "colab": {
          "base_uri": "https://localhost:8080/"
        },
        "id": "D1PKfdZVDGOI",
        "outputId": "b93dcb86-7896-4fe4-c90a-ba35bb33004e"
      },
      "execution_count": null,
      "outputs": [
        {
          "output_type": "stream",
          "name": "stdout",
          "text": [
            "15\n"
          ]
        }
      ]
    },
    {
      "cell_type": "code",
      "source": [
        "a = 'Python Version 3'.swapcase()\n",
        "print(a)"
      ],
      "metadata": {
        "colab": {
          "base_uri": "https://localhost:8080/"
        },
        "id": "EB0YhZK6Ek-9",
        "outputId": "0513264c-4d4e-4806-e1fb-87f62b2cd4b8"
      },
      "execution_count": null,
      "outputs": [
        {
          "output_type": "stream",
          "name": "stdout",
          "text": [
            "pYTHON vERSION 3\n"
          ]
        }
      ]
    },
    {
      "cell_type": "code",
      "source": [
        "a = 'python version 3'.split('3')\n",
        "print(a)"
      ],
      "metadata": {
        "colab": {
          "base_uri": "https://localhost:8080/"
        },
        "id": "bwW_aNAALtkQ",
        "outputId": "5f660f12-0709-47fd-e354-3c107b509193"
      },
      "execution_count": null,
      "outputs": [
        {
          "output_type": "stream",
          "name": "stdout",
          "text": [
            "['python version ', '']\n"
          ]
        }
      ]
    },
    {
      "cell_type": "code",
      "source": [
        "a = 'python version 3'.rsplit('version')\n",
        "print(a)"
      ],
      "metadata": {
        "colab": {
          "base_uri": "https://localhost:8080/"
        },
        "id": "jw3271JPMvMQ",
        "outputId": "4678210e-2114-451c-fdc5-89d8c2a6e283"
      },
      "execution_count": null,
      "outputs": [
        {
          "output_type": "stream",
          "name": "stdout",
          "text": [
            "['python ', ' 3']\n"
          ]
        }
      ]
    },
    {
      "cell_type": "code",
      "source": [
        "a = 'python version 3'.splitlines(3)\n",
        "print(a)"
      ],
      "metadata": {
        "colab": {
          "base_uri": "https://localhost:8080/"
        },
        "id": "F0T6bTEANoTN",
        "outputId": "80ae3f24-6699-4a59-d4bf-110ad77027d3"
      },
      "execution_count": null,
      "outputs": [
        {
          "output_type": "stream",
          "name": "stdout",
          "text": [
            "['python version 3']\n"
          ]
        }
      ]
    },
    {
      "cell_type": "code",
      "source": [
        "a = \"python version 3   \".rstrip()\n",
        "print(a)"
      ],
      "metadata": {
        "colab": {
          "base_uri": "https://localhost:8080/"
        },
        "id": "2R1ugoz6PcrI",
        "outputId": "b3aa1e3b-180d-4d98-eea8-012261836db9"
      },
      "execution_count": null,
      "outputs": [
        {
          "output_type": "stream",
          "name": "stdout",
          "text": [
            "python version 3\n"
          ]
        }
      ]
    },
    {
      "cell_type": "code",
      "source": [
        "a = '    PYTHON    '.lstrip() #removes left spaces\n",
        "print('This is',a,'version 3')"
      ],
      "metadata": {
        "colab": {
          "base_uri": "https://localhost:8080/"
        },
        "id": "KnPbVyvnQhPe",
        "outputId": "cf5958b7-a113-4984-961c-de160d0a46a9"
      },
      "execution_count": null,
      "outputs": [
        {
          "output_type": "stream",
          "name": "stdout",
          "text": [
            "This is PYTHON     version 3\n"
          ]
        }
      ]
    },
    {
      "cell_type": "code",
      "source": [
        "a = 'python version 3'.strip()\n",
        "print(a)"
      ],
      "metadata": {
        "colab": {
          "base_uri": "https://localhost:8080/"
        },
        "id": "zRSMh0GzP8ip",
        "outputId": "74d91fb1-5abd-422c-e0c8-4268497db0f7"
      },
      "execution_count": null,
      "outputs": [
        {
          "output_type": "stream",
          "name": "stdout",
          "text": [
            "python version 3\n"
          ]
        }
      ]
    },
    {
      "cell_type": "code",
      "source": [
        "a = 'python version'.zfill(20)\n",
        "print(a)"
      ],
      "metadata": {
        "colab": {
          "base_uri": "https://localhost:8080/"
        },
        "id": "h2EdKbbWRFHh",
        "outputId": "6501d826-8682-46d6-a4fe-e5eda285696c"
      },
      "execution_count": null,
      "outputs": [
        {
          "output_type": "stream",
          "name": "stdout",
          "text": [
            "000000python version\n"
          ]
        }
      ]
    },
    {
      "cell_type": "markdown",
      "source": [],
      "metadata": {
        "id": "CwwBf67MiakG"
      }
    },
    {
      "cell_type": "markdown",
      "source": [
        "| Method        | Description                                                     |\n",
        "|---------------|-----------------------------------------------------------------|\n",
        "| capitalize()  | Converts the first character to upper case                      |\n",
        "| casefold()    | Converts string into lower case                                 |\n",
        "| center()      | Returns a centered string                                       |\n",
        "| count()       | Returns the number of times a specified value occurs in a string|\n",
        "| encode()      | Returns an encoded version of the string                        |\n",
        "| endswith()    | Returns true if the string ends with the specified value        |\n",
        "| expandtabs()  | Sets the tab size of the string                                 |\n",
        "| find()        | Searches the string for a specified value and returns the position of where it was found |\n",
        "| format()      | Formats specified values in a string                            |\n",
        "| format_map()  | Formats specified values in a string                            |\n",
        "| index()       | Searches the string for a specified value and returns the position of where it was found |\n",
        "| isalnum()     | Returns True if all characters in the string are alphanumeric   |\n",
        "| isalpha()     | Returns True if all characters in the string are in the alphabet|\n",
        "| isascii()     | Returns True if all characters in the string are ascii characters|\n",
        "| isdecimal()   | Returns True if all characters in the string are decimals       |\n",
        "| isdigit()     | Returns True if all characters in the string are digits         |\n",
        "| isidentifier()| Returns True if the string is an identifier                     |\n",
        "| islower()     | Returns True if all characters in the string are lower case     |\n",
        "| isnumeric()   | Returns True if all characters in the string are numeric        |\n",
        "| isprintable() | Returns True if all characters in the string are printable      |\n",
        "| isspace()     | Returns True if all characters in the string are whitespaces    |\n",
        "| istitle()     | Returns True if the string follows the rules of a title         |\n",
        "| isupper()     | Returns True if all characters in the string are upper case     |\n",
        "| join()        | Joins the elements of an iterable to the end of the string      |\n",
        "| ljust()       | Returns a left justified version of the string                  |\n",
        "| lower()       | Converts a string into lower case                               |\n",
        "| lstrip()      | Returns a left trim version of the string                       |\n",
        "| maketrans()   | Returns a translation table to be used in translations          |\n",
        "| partition()   | Returns a tuple where the string is parted into three parts     |\n",
        "| replace()     | Returns a string where a specified value is replaced with a specified value |\n",
        "| rfind()       | Searches the string for a specified value and returns the last position of where it was found |\n",
        "| rindex()      | Searches the string for a specified value and returns the last position of where it was found |\n",
        "| rjust()       | Returns a right justified version of the string                 |\n",
        "| rpartition()  | Returns a tuple where the string is parted into three parts     |\n",
        "| rsplit()      | Splits the string at the specified separator, and returns a list|\n",
        "| rstrip()      | Returns a right trim version of the string                      |\n",
        "| split()       | Splits the string at the specified separator, and returns a list|\n",
        "| splitlines()  | Splits the string at line breaks and returns a list             |\n",
        "| startswith()  | Returns true if the string starts with the specified value      |\n",
        "| strip()       | Returns a trimmed version of the string                         |\n",
        "| swapcase()    | Swaps cases, lower case becomes upper case and vice versa       |\n",
        "| title()       | Converts the first character of each word to upper case         |\n",
        "| translate()   | Returns a translated string                                     |\n",
        "| upper()       | Converts a string into upper case                               |\n",
        "| zfill()       | Fills the string with a specified number of 0 values at the beginning |\n"
      ],
      "metadata": {
        "id": "99W0B471O-QF"
      }
    },
    {
      "cell_type": "markdown",
      "source": [
        "#List Methods"
      ],
      "metadata": {
        "id": "-Chpovc2S3GE"
      }
    },
    {
      "cell_type": "code",
      "source": [
        "a=['Python version']  #appends an element to the end of the list.\n",
        "a.append('3')    #it takes only one argument\n",
        "print(a)"
      ],
      "metadata": {
        "colab": {
          "base_uri": "https://localhost:8080/"
        },
        "id": "xww8rpY0T_FF",
        "outputId": "92048200-0f59-4fea-8221-2f91d14f6afe"
      },
      "execution_count": null,
      "outputs": [
        {
          "output_type": "stream",
          "name": "stdout",
          "text": [
            "['Python version', '3']\n"
          ]
        }
      ]
    },
    {
      "cell_type": "code",
      "source": [
        "a = ['python', 'version']\n",
        "b =['3', '6']\n",
        "a.extend(b)  #adds the specified list elements to the end of the current list.\n",
        "print(a)"
      ],
      "metadata": {
        "colab": {
          "base_uri": "https://localhost:8080/"
        },
        "id": "z-bO0t0asNks",
        "outputId": "a77262eb-5ee7-431b-a71d-158404819542"
      },
      "execution_count": null,
      "outputs": [
        {
          "output_type": "stream",
          "name": "stdout",
          "text": [
            "['python', 'version', '3', '6']\n"
          ]
        }
      ]
    },
    {
      "cell_type": "code",
      "source": [
        "a = ['python', 'version', '3']  #removes all the elements from a list.\n",
        "a.clear()\n",
        "print(a)"
      ],
      "metadata": {
        "colab": {
          "base_uri": "https://localhost:8080/"
        },
        "id": "Ufwd_UnppHgs",
        "outputId": "dae01887-a8bf-4523-f1d3-b2cf2f20d100"
      },
      "execution_count": null,
      "outputs": [
        {
          "output_type": "stream",
          "name": "stdout",
          "text": [
            "[]\n"
          ]
        }
      ]
    },
    {
      "cell_type": "code",
      "source": [
        " a = ['python', 'version', '3'] #copies the elements from a list\n",
        " b = a.copy()\n",
        " print(a)\n",
        " print(b)"
      ],
      "metadata": {
        "colab": {
          "base_uri": "https://localhost:8080/"
        },
        "id": "ZIGQ0RwgqDlq",
        "outputId": "6667981a-d75a-4288-d9f1-2268fc8aa7da"
      },
      "execution_count": null,
      "outputs": [
        {
          "output_type": "stream",
          "name": "stdout",
          "text": [
            "['python', 'version', '3']\n",
            "['python', 'version', '3']\n"
          ]
        }
      ]
    },
    {
      "cell_type": "code",
      "source": [
        "a = ['python', 'version', '3', '3'] #returns count of the element in a list\n",
        "b = a.count('3')\n",
        "print(b)"
      ],
      "metadata": {
        "colab": {
          "base_uri": "https://localhost:8080/"
        },
        "id": "6DEnyvusp1aC",
        "outputId": "f456cb3e-4a0a-4499-8ffd-879755342c59"
      },
      "execution_count": null,
      "outputs": [
        {
          "output_type": "stream",
          "name": "stdout",
          "text": [
            "2\n"
          ]
        }
      ]
    },
    {
      "cell_type": "code",
      "source": [
        "a = ['python', 'version', '3'] #returns the index of the element in a list\n",
        "b = a.index('version')\n",
        "print(b)"
      ],
      "metadata": {
        "colab": {
          "base_uri": "https://localhost:8080/"
        },
        "id": "2Oh5tlyJrUwY",
        "outputId": "c04d561a-83af-4075-8a1f-f9fff38038b3"
      },
      "execution_count": null,
      "outputs": [
        {
          "output_type": "stream",
          "name": "stdout",
          "text": [
            "1\n"
          ]
        }
      ]
    },
    {
      "cell_type": "code",
      "source": [
        "A =['python', 'version', '3']\n",
        "for a in A:\n",
        "  print(A.index(a))"
      ],
      "metadata": {
        "colab": {
          "base_uri": "https://localhost:8080/"
        },
        "id": "rA88u9Lpuoxc",
        "outputId": "e9519afb-66b7-40bc-8fbe-b00d4b21f6cc"
      },
      "execution_count": null,
      "outputs": [
        {
          "output_type": "stream",
          "name": "stdout",
          "text": [
            "0\n",
            "1\n",
            "2\n"
          ]
        }
      ]
    },
    {
      "cell_type": "code",
      "source": [
        "a = ['python', 'version', '3']  #inserts the specified value at the specified position.\n",
        "b = a.insert(2, '6')\n",
        "print(a)"
      ],
      "metadata": {
        "colab": {
          "base_uri": "https://localhost:8080/"
        },
        "id": "cJ2016cEvUDy",
        "outputId": "ef272eee-45da-4e28-fbd9-03a00af789e8"
      },
      "execution_count": null,
      "outputs": [
        {
          "output_type": "stream",
          "name": "stdout",
          "text": [
            "['python', 'version', '6', '3']\n"
          ]
        }
      ]
    },
    {
      "cell_type": "code",
      "source": [
        "a = ['python', 'version', '3']  #removes the value at the specified position.\n",
        "b = a.pop(1)\n",
        "print(a)"
      ],
      "metadata": {
        "colab": {
          "base_uri": "https://localhost:8080/"
        },
        "id": "mLgCD3rjwSXC",
        "outputId": "f8a61409-f820-4983-bf1a-05c103175d57"
      },
      "execution_count": null,
      "outputs": [
        {
          "output_type": "stream",
          "name": "stdout",
          "text": [
            "['python', '3']\n"
          ]
        }
      ]
    },
    {
      "cell_type": "code",
      "source": [
        "a = ['python', 'version', '3']  #removes the element.\n",
        "b = a.remove('version')\n",
        "print(a)"
      ],
      "metadata": {
        "colab": {
          "base_uri": "https://localhost:8080/"
        },
        "id": "_2s4zIGWwtNt",
        "outputId": "8eef69b3-301b-4f15-86ac-adc2410f8083"
      },
      "execution_count": null,
      "outputs": [
        {
          "output_type": "stream",
          "name": "stdout",
          "text": [
            "['python', '3']\n"
          ]
        }
      ]
    },
    {
      "cell_type": "code",
      "source": [
        "a = ['python', 'version', '3']\n",
        "b = a.reverse()\n",
        "print(a)"
      ],
      "metadata": {
        "colab": {
          "base_uri": "https://localhost:8080/"
        },
        "id": "CUZ3KcQCxn-s",
        "outputId": "8216e09d-968c-4691-aa65-32d072f9283a"
      },
      "execution_count": null,
      "outputs": [
        {
          "output_type": "stream",
          "name": "stdout",
          "text": [
            "['3', 'version', 'python']\n"
          ]
        }
      ]
    },
    {
      "cell_type": "code",
      "source": [
        "a = ['vivo', 'apple', 'google pixel', 'samsung'] #sorts the list ascending\n",
        "a.sort()\n",
        "a"
      ],
      "metadata": {
        "colab": {
          "base_uri": "https://localhost:8080/"
        },
        "id": "D7ghwnTYyrC1",
        "outputId": "e80e2d64-eeda-47e2-9bab-0a9e9a9475cb"
      },
      "execution_count": null,
      "outputs": [
        {
          "output_type": "execute_result",
          "data": {
            "text/plain": [
              "['apple', 'google pixel', 'samsung', 'vivo']"
            ]
          },
          "metadata": {},
          "execution_count": 49
        }
      ]
    },
    {
      "cell_type": "code",
      "source": [
        "a = ['vivo', 'apple', 'google pixel', 'samsung']  #sort the list descending\n",
        "a.sort(reverse=True)\n",
        "a"
      ],
      "metadata": {
        "colab": {
          "base_uri": "https://localhost:8080/"
        },
        "id": "QqCXuBCmzFDc",
        "outputId": "41e77f6d-6ca6-4fab-dc34-144dc49c60cd"
      },
      "execution_count": null,
      "outputs": [
        {
          "output_type": "execute_result",
          "data": {
            "text/plain": [
              "['vivo', 'samsung', 'google pixel', 'apple']"
            ]
          },
          "metadata": {},
          "execution_count": 51
        }
      ]
    },
    {
      "cell_type": "markdown",
      "source": [
        "| Method        | Description                                                     |\n",
        "|---------------|-----------------------------------------------------------------|\n",
        "| clear()  | Removes all the elements from the list                     |\n",
        "| append()    | Adds an element at the end of the list                                 |\n",
        "| copy()      | Returns a copy of the list                                       |\n",
        "| count()       | Returns the number of elements with the specified value|\n",
        "| extend()      | Add the elements of a list (or any iterable), to the end of the current list                        |\n",
        "| index()    | Returns the index of the first element with the specified value        |\n",
        "| insert()  | Adds an element at the specified position                                 |\n",
        "| pop()        | Removes the element at the specified position |\n",
        "| remove()      | Removes the first item with the specified value                           |\n",
        "| reverse()  | Reverses the order of the list                            |\n",
        "| sort()       | Sorts the list |\n"
      ],
      "metadata": {
        "id": "Hc97PvYFPEbu"
      }
    },
    {
      "cell_type": "markdown",
      "source": [
        "#Dictionary Methods"
      ],
      "metadata": {
        "id": "ORwoFwCv0eWC"
      }
    },
    {
      "cell_type": "code",
      "source": [
        "a = {'name':'john', 'age':'24', 'state':'florida'}  #Remove all elements from the car list\n",
        "a.clear()\n",
        "print(a)"
      ],
      "metadata": {
        "colab": {
          "base_uri": "https://localhost:8080/"
        },
        "id": "-GVRstIi0sOk",
        "outputId": "76748a3b-cbeb-41b4-ecb7-6f1e35664813"
      },
      "execution_count": null,
      "outputs": [
        {
          "output_type": "stream",
          "name": "stdout",
          "text": [
            "{}\n"
          ]
        }
      ]
    },
    {
      "cell_type": "code",
      "source": [
        "a = {'name':'john', 'age':'24', 'state':'florida'}  #Copies the dictionary\n",
        "b=a.copy()\n",
        "print(a)\n",
        "print(b)"
      ],
      "metadata": {
        "colab": {
          "base_uri": "https://localhost:8080/"
        },
        "id": "xL_NTz244FfS",
        "outputId": "c3ef3d22-577f-44bb-d98a-b88f249f5acc"
      },
      "execution_count": null,
      "outputs": [
        {
          "output_type": "stream",
          "name": "stdout",
          "text": [
            "{'name': 'john', 'age': '24', 'state': 'florida'}\n",
            "{'name': 'john', 'age': '24', 'state': 'florida'}\n"
          ]
        }
      ]
    },
    {
      "cell_type": "code",
      "source": [
        "a = {'name', 'age', 'state'}  #Returns a dictionary with the specified keys and the specified value.\n",
        "b = ('john')\n",
        "c = dict.fromkeys(a, b)\n",
        "print(c)"
      ],
      "metadata": {
        "colab": {
          "base_uri": "https://localhost:8080/"
        },
        "id": "PBa5zmz-4bJR",
        "outputId": "02050f11-6fa8-49e6-8242-b69d4dcc8855"
      },
      "execution_count": null,
      "outputs": [
        {
          "output_type": "stream",
          "name": "stdout",
          "text": [
            "{'state': 'john', 'age': 'john', 'name': 'john'}\n"
          ]
        }
      ]
    },
    {
      "cell_type": "code",
      "source": [
        "a = {'name':'john', 'age':'24', 'state':'florida'}  #Returns the value of the item with the specified key\n",
        "print(a.get('name'))"
      ],
      "metadata": {
        "colab": {
          "base_uri": "https://localhost:8080/"
        },
        "id": "PbgxqVwKGiBk",
        "outputId": "7e60b042-ff50-471e-a179-577893569fa2"
      },
      "execution_count": null,
      "outputs": [
        {
          "output_type": "stream",
          "name": "stdout",
          "text": [
            "john\n"
          ]
        }
      ]
    },
    {
      "cell_type": "code",
      "source": [
        "a = {'name':'john', 'age':'24', 'state':'florida'}  #Returns a view object. The view object contains the key-value pairs of the dictionary, as tuples in a list.\n",
        "print(a.items())"
      ],
      "metadata": {
        "colab": {
          "base_uri": "https://localhost:8080/"
        },
        "id": "koLIRJ-AG7RU",
        "outputId": "b91fb56f-e1c9-4aac-bb56-ecaba3dec7f9"
      },
      "execution_count": null,
      "outputs": [
        {
          "output_type": "stream",
          "name": "stdout",
          "text": [
            "dict_items([('name', 'john'), ('age', '24'), ('state', 'florida')])\n"
          ]
        }
      ]
    },
    {
      "cell_type": "code",
      "source": [
        "a = {'name':'john', 'age':'24', 'state':'florida'} #Returns a list of all the keys in the dictionary\n",
        "print(a.keys())"
      ],
      "metadata": {
        "colab": {
          "base_uri": "https://localhost:8080/"
        },
        "id": "MVuLMz8fHmfR",
        "outputId": "e8b39df9-cea7-4bc3-fb4d-a82dcd2edcc4"
      },
      "execution_count": null,
      "outputs": [
        {
          "output_type": "stream",
          "name": "stdout",
          "text": [
            "dict_keys(['name', 'age', 'state'])\n"
          ]
        }
      ]
    },
    {
      "cell_type": "code",
      "source": [
        "a = {'name':'john', 'age':'24', 'state':'florida'}  #Returns a list of all the values in the dictionary\n",
        "print(a.values())"
      ],
      "metadata": {
        "colab": {
          "base_uri": "https://localhost:8080/"
        },
        "id": "ho5EoMd0HweN",
        "outputId": "515464e5-c24f-4911-895a-b5daecc1efb8"
      },
      "execution_count": null,
      "outputs": [
        {
          "output_type": "stream",
          "name": "stdout",
          "text": [
            "dict_values(['john', '24', 'florida'])\n"
          ]
        }
      ]
    },
    {
      "cell_type": "code",
      "source": [
        "a = {'name':'john', 'age':'24', 'state':'florida'}  #Removes the element with the specified key\n",
        "b = (a.pop('age'))\n",
        "print(a)"
      ],
      "metadata": {
        "colab": {
          "base_uri": "https://localhost:8080/"
        },
        "id": "MwB5WNN-Iidy",
        "outputId": "5937c5cf-022a-432a-c61d-49bac612ffe2"
      },
      "execution_count": null,
      "outputs": [
        {
          "output_type": "stream",
          "name": "stdout",
          "text": [
            "{'name': 'john', 'state': 'florida'}\n"
          ]
        }
      ]
    },
    {
      "cell_type": "markdown",
      "source": [
        "| Method        | Description                                                     |\n",
        "|---------------|-----------------------------------------------------------------|\n",
        "| clear()  | Removes all the elements from the dictionary                     |\n",
        "| copy()    | Returns a copy of the dictionary                                 |\n",
        "| fromkeys()      | Returns a dictionary with the specified keys and value                                       |\n",
        "| get()       | Returns the value of the specified key|\n",
        "| items()      | Returns a list containing a tuple for each key value pair                        |\n",
        "| keys()    | Returns a list containing the dictionary's keys        |\n",
        "| pop()  | Removes the element with the specified key                                 |\n",
        "| popitem()        | Removes the last inserted key-value pair |\n",
        "| setdefault()      | Returns the value of the specified key. If the key does not exist: insert the key, with the specified value                           |\n",
        "| update()  | Updates the dictionary with the specified key-value pairs                            |\n",
        "| values()       | Returns a list of all the values in the dictionary |\n"
      ],
      "metadata": {
        "id": "t7UWDy3PSZJB"
      }
    }
  ]
}