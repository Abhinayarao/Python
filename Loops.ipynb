{
  "nbformat": 4,
  "nbformat_minor": 0,
  "metadata": {
    "colab": {
      "provenance": [],
      "authorship_tag": "ABX9TyNMSslIqLC+91bELoj4XYth",
      "include_colab_link": true
    },
    "kernelspec": {
      "name": "python3",
      "display_name": "Python 3"
    },
    "language_info": {
      "name": "python"
    }
  },
  "cells": [
    {
      "cell_type": "markdown",
      "metadata": {
        "id": "view-in-github",
        "colab_type": "text"
      },
      "source": [
        "<a href=\"https://colab.research.google.com/github/Abhinayarao/Python/blob/main/Loops.ipynb\" target=\"_parent\"><img src=\"https://colab.research.google.com/assets/colab-badge.svg\" alt=\"Open In Colab\"/></a>"
      ]
    },
    {
      "cell_type": "markdown",
      "source": [
        "#While Loop"
      ],
      "metadata": {
        "id": "YDX5IpTar2ql"
      }
    },
    {
      "cell_type": "code",
      "source": [
        "# Print numbers from 1 to 10\n",
        "i = 1\n",
        "while i <= 10:\n",
        "  print(i, end=' ')\n",
        "  i += 1"
      ],
      "metadata": {
        "colab": {
          "base_uri": "https://localhost:8080/"
        },
        "id": "LSQHKKfhr4CX",
        "outputId": "9898aff3-b350-4f80-b9c5-2e0d6a602562"
      },
      "execution_count": 1,
      "outputs": [
        {
          "output_type": "stream",
          "name": "stdout",
          "text": [
            "1 2 3 4 5 6 7 8 9 10 "
          ]
        }
      ]
    },
    {
      "cell_type": "code",
      "source": [
        "#Print even numbers from 2 to 20\n",
        "n = 1\n",
        "for n in range(2, 20):\n",
        "  while n % 2 == 0:\n",
        "    print(n)\n",
        "    n += 1"
      ],
      "metadata": {
        "colab": {
          "base_uri": "https://localhost:8080/"
        },
        "id": "Ogpv9oQLr_x3",
        "outputId": "8e876c4a-b611-4ad0-fb5c-effef83f3567"
      },
      "execution_count": 2,
      "outputs": [
        {
          "output_type": "stream",
          "name": "stdout",
          "text": [
            "2\n",
            "4\n",
            "6\n",
            "8\n",
            "10\n",
            "12\n",
            "14\n",
            "16\n",
            "18\n"
          ]
        }
      ]
    },
    {
      "cell_type": "code",
      "source": [
        "#sum of numbers from 1 to n\n",
        "i =3\n",
        "sum = 0\n",
        "while i > 0:\n",
        "  sum = sum + i\n",
        "  i = i - 1\n",
        "print(sum)"
      ],
      "metadata": {
        "colab": {
          "base_uri": "https://localhost:8080/"
        },
        "id": "Gui0VpfDsD93",
        "outputId": "a1eb8533-c364-46d6-9fa8-c42d110cc692"
      },
      "execution_count": 3,
      "outputs": [
        {
          "output_type": "stream",
          "name": "stdout",
          "text": [
            "6\n"
          ]
        }
      ]
    },
    {
      "cell_type": "code",
      "source": [
        "#Print the digits of a number in reverse\n",
        "i = 1234\n",
        "while i>0:\n",
        "  n = i % 10\n",
        "  print(n, end=\" \")\n",
        "  i //= 10"
      ],
      "metadata": {
        "colab": {
          "base_uri": "https://localhost:8080/"
        },
        "id": "lEjuOi3vsH8g",
        "outputId": "524238d2-3b7d-4ca2-ea19-f6ce9d073e7d"
      },
      "execution_count": 4,
      "outputs": [
        {
          "output_type": "stream",
          "name": "stdout",
          "text": [
            "4 3 2 1 "
          ]
        }
      ]
    },
    {
      "cell_type": "code",
      "source": [
        "i = '1234'\n",
        "for n in i:\n",
        "  print(n, end = ' ')"
      ],
      "metadata": {
        "colab": {
          "base_uri": "https://localhost:8080/"
        },
        "id": "Zrs5ZEEAsLwe",
        "outputId": "8792b6c7-f7e9-4d63-a237-91884fab765a"
      },
      "execution_count": 5,
      "outputs": [
        {
          "output_type": "stream",
          "name": "stdout",
          "text": [
            "1 2 3 4 "
          ]
        }
      ]
    },
    {
      "cell_type": "code",
      "source": [
        "#Count the number of digits in a number\n",
        "i = '1234'\n",
        "len(i)"
      ],
      "metadata": {
        "colab": {
          "base_uri": "https://localhost:8080/"
        },
        "id": "m0OKPRdrsQ18",
        "outputId": "c44ae178-c37f-449e-9b13-8d3bdb4f68ef"
      },
      "execution_count": 6,
      "outputs": [
        {
          "output_type": "execute_result",
          "data": {
            "text/plain": [
              "4"
            ]
          },
          "metadata": {},
          "execution_count": 6
        }
      ]
    },
    {
      "cell_type": "code",
      "source": [
        "i = '1234'\n",
        "count = 0\n",
        "for n in i:\n",
        "  count += 1\n",
        "print(count)"
      ],
      "metadata": {
        "colab": {
          "base_uri": "https://localhost:8080/"
        },
        "id": "9k5zm6gTsUke",
        "outputId": "d945786d-c862-4966-f5b2-c4f7e42c96fe"
      },
      "execution_count": 7,
      "outputs": [
        {
          "output_type": "stream",
          "name": "stdout",
          "text": [
            "4\n"
          ]
        }
      ]
    },
    {
      "cell_type": "markdown",
      "source": [
        "#For Loop"
      ],
      "metadata": {
        "id": "Sp0mcWb_sh-S"
      }
    },
    {
      "cell_type": "code",
      "source": [
        "a = ['python', 'sql', 'java', 'c++']\n",
        "for i in a:\n",
        "  print(i)"
      ],
      "metadata": {
        "colab": {
          "base_uri": "https://localhost:8080/"
        },
        "id": "RuPiDc4Ismx0",
        "outputId": "451cb2a3-e7c1-4d0e-ab7d-582b74cd36ff"
      },
      "execution_count": 12,
      "outputs": [
        {
          "output_type": "stream",
          "name": "stdout",
          "text": [
            "python\n",
            "sql\n",
            "java\n",
            "c++\n"
          ]
        }
      ]
    },
    {
      "cell_type": "code",
      "source": [
        "#Loop through the letters in the word \"python\":\n",
        "for i in 'python':\n",
        "  print(i)"
      ],
      "metadata": {
        "colab": {
          "base_uri": "https://localhost:8080/"
        },
        "id": "f7czpl7atIcY",
        "outputId": "d6c9fabc-53d3-4137-83a4-42108c2e5145"
      },
      "execution_count": 13,
      "outputs": [
        {
          "output_type": "stream",
          "name": "stdout",
          "text": [
            "p\n",
            "y\n",
            "t\n",
            "h\n",
            "o\n",
            "n\n"
          ]
        }
      ]
    },
    {
      "cell_type": "code",
      "source": [
        "#With the break statement we can stop the loop before it has looped through all the items\n",
        "a = ['python', 'sql', 'java', 'c++']\n",
        "for i in a:\n",
        "  print(i)\n",
        "  if i == 'java':\n",
        "    break"
      ],
      "metadata": {
        "colab": {
          "base_uri": "https://localhost:8080/"
        },
        "id": "9HIouEmntnRs",
        "outputId": "e0d67c79-01f7-4e26-c3bf-4d6f7ce6ea9f"
      },
      "execution_count": 16,
      "outputs": [
        {
          "output_type": "stream",
          "name": "stdout",
          "text": [
            "python\n",
            "sql\n",
            "java\n"
          ]
        }
      ]
    },
    {
      "cell_type": "code",
      "source": [
        "#Exit the loop when a is \"java\", but this time the break comes before the print\n",
        "a = ['python', 'sql', 'java', 'c++']\n",
        "for i in a:\n",
        "  if i == 'java':\n",
        "    break\n",
        "  print(i)"
      ],
      "metadata": {
        "colab": {
          "base_uri": "https://localhost:8080/"
        },
        "id": "zgmeYiS9vfS8",
        "outputId": "66d0d69d-adec-4b6d-bb44-9144001df38b"
      },
      "execution_count": 18,
      "outputs": [
        {
          "output_type": "stream",
          "name": "stdout",
          "text": [
            "python\n",
            "sql\n"
          ]
        }
      ]
    },
    {
      "cell_type": "code",
      "source": [
        "#With the continue statement we can stop the current iteration of the loop, and continue with the next\n",
        "a = ['python', 'sql', 'java', 'c++']\n",
        "for i in a:\n",
        "  if i == 'java':\n",
        "    continue\n",
        "  print(i)"
      ],
      "metadata": {
        "colab": {
          "base_uri": "https://localhost:8080/"
        },
        "id": "vhoXRI70v6FZ",
        "outputId": "88bae5ef-6045-4946-c9e9-af0c575695b7"
      },
      "execution_count": 24,
      "outputs": [
        {
          "output_type": "stream",
          "name": "stdout",
          "text": [
            "python\n",
            "sql\n",
            "c++\n"
          ]
        }
      ]
    },
    {
      "cell_type": "code",
      "source": [
        "'''The range() function returns a sequence of numbers, starting from 0 by default, and increments by 1 (by default), and ends at a specified number.'''\n",
        "for i in range(10):\n",
        "  print(i)"
      ],
      "metadata": {
        "colab": {
          "base_uri": "https://localhost:8080/"
        },
        "id": "5viSvyk0wZw7",
        "outputId": "59d7ffd8-bf09-4cb9-bee2-880171828e3e"
      },
      "execution_count": 30,
      "outputs": [
        {
          "output_type": "stream",
          "name": "stdout",
          "text": [
            "0\n",
            "1\n",
            "2\n",
            "3\n",
            "4\n",
            "5\n",
            "6\n",
            "7\n",
            "8\n",
            "9\n"
          ]
        }
      ]
    },
    {
      "cell_type": "code",
      "source": [
        "#It is possible to specify the increment value by adding a third parameter\n",
        "for i in range(2, 50, 5):\n",
        "  print(i)"
      ],
      "metadata": {
        "colab": {
          "base_uri": "https://localhost:8080/"
        },
        "id": "vRhOxJ5Cyeaw",
        "outputId": "c6743911-b466-40e2-ccff-1577e2827b11"
      },
      "execution_count": 32,
      "outputs": [
        {
          "output_type": "stream",
          "name": "stdout",
          "text": [
            "2\n",
            "7\n",
            "12\n",
            "17\n",
            "22\n",
            "27\n",
            "32\n",
            "37\n",
            "42\n",
            "47\n"
          ]
        }
      ]
    },
    {
      "cell_type": "code",
      "source": [],
      "metadata": {
        "id": "oL4Oktg7z0jH"
      },
      "execution_count": null,
      "outputs": []
    }
  ]
}