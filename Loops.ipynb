{
  "nbformat": 4,
  "nbformat_minor": 0,
  "metadata": {
    "colab": {
      "provenance": [],
      "authorship_tag": "ABX9TyPIc7e9afaxaM5rdMe1fXeL",
      "include_colab_link": true
    },
    "kernelspec": {
      "name": "python3",
      "display_name": "Python 3"
    },
    "language_info": {
      "name": "python"
    }
  },
  "cells": [
    {
      "cell_type": "markdown",
      "metadata": {
        "id": "view-in-github",
        "colab_type": "text"
      },
      "source": [
        "<a href=\"https://colab.research.google.com/github/Abhinayarao/Python/blob/main/Loops.ipynb\" target=\"_parent\"><img src=\"https://colab.research.google.com/assets/colab-badge.svg\" alt=\"Open In Colab\"/></a>"
      ]
    },
    {
      "cell_type": "markdown",
      "source": [
        "#While Loop"
      ],
      "metadata": {
        "id": "YDX5IpTar2ql"
      }
    },
    {
      "cell_type": "markdown",
      "source": [
        "#Remember to increment i, or else the loop will continue forever."
      ],
      "metadata": {
        "id": "dC9dsg1YEF6G"
      }
    },
    {
      "cell_type": "code",
      "source": [
        "i =0\n",
        "while i<10:\n",
        "  print(i)\n",
        "  i +=1"
      ],
      "metadata": {
        "colab": {
          "base_uri": "https://localhost:8080/"
        },
        "id": "imSvKbR8HjnH",
        "outputId": "7acbad6a-54e2-4b56-ec66-0923d49ab40b"
      },
      "execution_count": null,
      "outputs": [
        {
          "output_type": "stream",
          "name": "stdout",
          "text": [
            "0\n",
            "1\n",
            "2\n",
            "3\n",
            "4\n",
            "5\n",
            "6\n",
            "7\n",
            "8\n",
            "9\n"
          ]
        }
      ]
    },
    {
      "cell_type": "code",
      "source": [
        "#With the break statement we can stop the loop even if the while condition is true\n",
        "i =1\n",
        "while i<6:\n",
        "  print(i)\n",
        "  if i == 4:\n",
        "    break\n",
        "  i += 1"
      ],
      "metadata": {
        "colab": {
          "base_uri": "https://localhost:8080/"
        },
        "id": "9fzjfF4vE68L",
        "outputId": "6a0c1e33-4a6a-4242-cae1-19df1fdfeabc"
      },
      "execution_count": null,
      "outputs": [
        {
          "output_type": "stream",
          "name": "stdout",
          "text": [
            "1\n",
            "2\n",
            "3\n",
            "4\n"
          ]
        }
      ]
    },
    {
      "cell_type": "code",
      "source": [
        "#With the continue statement we can stop the current iteration, and continue with the next\n",
        "i =0\n",
        "while i<6:\n",
        "  i += 1\n",
        "  if i == 4:\n",
        "    continue\n",
        "  print(i)"
      ],
      "metadata": {
        "colab": {
          "base_uri": "https://localhost:8080/"
        },
        "id": "e4AZD_3sGpLQ",
        "outputId": "c60a7dd0-ad9e-48a6-8af8-c01e73334fe6"
      },
      "execution_count": null,
      "outputs": [
        {
          "output_type": "stream",
          "name": "stdout",
          "text": [
            "1\n",
            "2\n",
            "3\n",
            "5\n",
            "6\n"
          ]
        }
      ]
    },
    {
      "cell_type": "code",
      "source": [
        "# Print numbers from 1 to 10\n",
        "i = 1\n",
        "while i <= 10:\n",
        "  print(i,  end=' ')\n",
        "  i += 1"
      ],
      "metadata": {
        "colab": {
          "base_uri": "https://localhost:8080/"
        },
        "id": "LSQHKKfhr4CX",
        "outputId": "dff65e5c-23b2-4592-d16f-12e50794a076"
      },
      "execution_count": null,
      "outputs": [
        {
          "output_type": "stream",
          "name": "stdout",
          "text": [
            "1 2 3 4 5 6 7 8 9 10 "
          ]
        }
      ]
    },
    {
      "cell_type": "code",
      "source": [
        "#Print even numbers from 2 to 20\n",
        "n = 1\n",
        "for n in range(2, 20):\n",
        "  while n % 2 == 0:\n",
        "    print(n)\n",
        "    n += 1"
      ],
      "metadata": {
        "colab": {
          "base_uri": "https://localhost:8080/"
        },
        "id": "Ogpv9oQLr_x3",
        "outputId": "8e876c4a-b611-4ad0-fb5c-effef83f3567"
      },
      "execution_count": null,
      "outputs": [
        {
          "output_type": "stream",
          "name": "stdout",
          "text": [
            "2\n",
            "4\n",
            "6\n",
            "8\n",
            "10\n",
            "12\n",
            "14\n",
            "16\n",
            "18\n"
          ]
        }
      ]
    },
    {
      "cell_type": "code",
      "source": [
        "#sum of numbers from 1 to n\n",
        "i =3\n",
        "sum = 0\n",
        "while i > 0:\n",
        "  sum = sum + i\n",
        "  i = i - 1\n",
        "print(sum)"
      ],
      "metadata": {
        "colab": {
          "base_uri": "https://localhost:8080/"
        },
        "id": "Gui0VpfDsD93",
        "outputId": "1d9e0d80-6f53-4e21-c88f-0c1f0f4d41eb"
      },
      "execution_count": null,
      "outputs": [
        {
          "output_type": "stream",
          "name": "stdout",
          "text": [
            "6\n"
          ]
        }
      ]
    },
    {
      "cell_type": "code",
      "source": [
        "a = \"abhi\"\n",
        "a += \"naya rao\"\n",
        "print(a)"
      ],
      "metadata": {
        "colab": {
          "base_uri": "https://localhost:8080/"
        },
        "id": "q-_EB_hk7WP1",
        "outputId": "2681ec85-773b-4b7f-bc6b-05d3a0a77dc5"
      },
      "execution_count": null,
      "outputs": [
        {
          "output_type": "stream",
          "name": "stdout",
          "text": [
            "abhinaya rao\n"
          ]
        }
      ]
    },
    {
      "cell_type": "code",
      "source": [
        "#Print the digits of a number in reverse\n",
        "i = 1234\n",
        "while i>0:\n",
        "  n = i % 10\n",
        "  print(n, end=\" \")\n",
        "  i //= 10"
      ],
      "metadata": {
        "colab": {
          "base_uri": "https://localhost:8080/"
        },
        "id": "lEjuOi3vsH8g",
        "outputId": "524238d2-3b7d-4ca2-ea19-f6ce9d073e7d"
      },
      "execution_count": null,
      "outputs": [
        {
          "output_type": "stream",
          "name": "stdout",
          "text": [
            "4 3 2 1 "
          ]
        }
      ]
    },
    {
      "cell_type": "code",
      "source": [
        "i = '1234'\n",
        "for n in i:\n",
        "  print(n, end = ' ')"
      ],
      "metadata": {
        "colab": {
          "base_uri": "https://localhost:8080/"
        },
        "id": "Zrs5ZEEAsLwe",
        "outputId": "8792b6c7-f7e9-4d63-a237-91884fab765a"
      },
      "execution_count": null,
      "outputs": [
        {
          "output_type": "stream",
          "name": "stdout",
          "text": [
            "1 2 3 4 "
          ]
        }
      ]
    },
    {
      "cell_type": "code",
      "source": [
        "#Count the number of digits in a number\n",
        "i = '1234'\n",
        "len(i)"
      ],
      "metadata": {
        "colab": {
          "base_uri": "https://localhost:8080/"
        },
        "id": "m0OKPRdrsQ18",
        "outputId": "c44ae178-c37f-449e-9b13-8d3bdb4f68ef"
      },
      "execution_count": null,
      "outputs": [
        {
          "output_type": "execute_result",
          "data": {
            "text/plain": [
              "4"
            ]
          },
          "metadata": {},
          "execution_count": 6
        }
      ]
    },
    {
      "cell_type": "code",
      "source": [
        "i = '1234'\n",
        "count = 0\n",
        "for n in i:\n",
        "  count += 1\n",
        "print(count)"
      ],
      "metadata": {
        "colab": {
          "base_uri": "https://localhost:8080/"
        },
        "id": "9k5zm6gTsUke",
        "outputId": "d945786d-c862-4966-f5b2-c4f7e42c96fe"
      },
      "execution_count": null,
      "outputs": [
        {
          "output_type": "stream",
          "name": "stdout",
          "text": [
            "4\n"
          ]
        }
      ]
    },
    {
      "cell_type": "markdown",
      "source": [
        "#For Loop"
      ],
      "metadata": {
        "id": "Sp0mcWb_sh-S"
      }
    },
    {
      "cell_type": "code",
      "source": [
        "a = ['python', 'sql', 'java', 'c++']\n",
        "for i in a:\n",
        "  print(i)"
      ],
      "metadata": {
        "colab": {
          "base_uri": "https://localhost:8080/"
        },
        "id": "RuPiDc4Ismx0",
        "outputId": "02456790-b8e0-4ba8-c049-84f8c7d1abaa"
      },
      "execution_count": null,
      "outputs": [
        {
          "output_type": "stream",
          "name": "stdout",
          "text": [
            "python\n",
            "sql\n",
            "java\n",
            "c++\n"
          ]
        }
      ]
    },
    {
      "cell_type": "code",
      "source": [
        "#Loop through the letters in the word \"python\":\n",
        "for i in 'python':\n",
        "  print(i)"
      ],
      "metadata": {
        "colab": {
          "base_uri": "https://localhost:8080/"
        },
        "id": "f7czpl7atIcY",
        "outputId": "66c9f376-4566-4e9a-fe20-131041244d46"
      },
      "execution_count": null,
      "outputs": [
        {
          "output_type": "stream",
          "name": "stdout",
          "text": [
            "p\n",
            "y\n",
            "t\n",
            "h\n",
            "o\n",
            "n\n"
          ]
        }
      ]
    },
    {
      "cell_type": "code",
      "source": [
        "#With the break statement we can stop the loop before it has looped through all the items\n",
        "a = ['python', 'sql', 'java', 'c++']\n",
        "for i in a:\n",
        "  print(i)\n",
        "  if i == 'java':\n",
        "    break"
      ],
      "metadata": {
        "colab": {
          "base_uri": "https://localhost:8080/"
        },
        "id": "9HIouEmntnRs",
        "outputId": "e0d67c79-01f7-4e26-c3bf-4d6f7ce6ea9f"
      },
      "execution_count": null,
      "outputs": [
        {
          "output_type": "stream",
          "name": "stdout",
          "text": [
            "python\n",
            "sql\n",
            "java\n"
          ]
        }
      ]
    },
    {
      "cell_type": "code",
      "source": [
        "#Exit the loop when a is \"java\", but this time the break comes before the print\n",
        "a = ['python', 'sql', 'java', 'c++']\n",
        "for i in a:\n",
        "  if i == 'java':\n",
        "    break\n",
        "print(i)"
      ],
      "metadata": {
        "colab": {
          "base_uri": "https://localhost:8080/"
        },
        "id": "zgmeYiS9vfS8",
        "outputId": "0df9acc3-11c0-4654-a1bd-a0f36895d8da"
      },
      "execution_count": null,
      "outputs": [
        {
          "output_type": "stream",
          "name": "stdout",
          "text": [
            "java\n"
          ]
        }
      ]
    },
    {
      "cell_type": "code",
      "source": [
        "#With the continue statement we can stop the current iteration of the loop, and continue with the next\n",
        "a = ['python', 'sql', 'java', 'c++']\n",
        "for i in a:\n",
        "  if i == 'java':\n",
        "    continue\n",
        "  print(i)"
      ],
      "metadata": {
        "colab": {
          "base_uri": "https://localhost:8080/"
        },
        "id": "vhoXRI70v6FZ",
        "outputId": "8da61f23-e65a-4bea-98b8-256ebfcf8ddc"
      },
      "execution_count": null,
      "outputs": [
        {
          "output_type": "stream",
          "name": "stdout",
          "text": [
            "python\n",
            "sql\n",
            "c++\n"
          ]
        }
      ]
    },
    {
      "cell_type": "code",
      "source": [
        "'''The range() function returns a sequence of numbers, starting from 0 by default, and increments by 1 (by default), and ends at a specified number.'''\n",
        "for i in range(10):\n",
        "  print(i)"
      ],
      "metadata": {
        "colab": {
          "base_uri": "https://localhost:8080/"
        },
        "id": "5viSvyk0wZw7",
        "outputId": "59d7ffd8-bf09-4cb9-bee2-880171828e3e"
      },
      "execution_count": null,
      "outputs": [
        {
          "output_type": "stream",
          "name": "stdout",
          "text": [
            "0\n",
            "1\n",
            "2\n",
            "3\n",
            "4\n",
            "5\n",
            "6\n",
            "7\n",
            "8\n",
            "9\n"
          ]
        }
      ]
    },
    {
      "cell_type": "code",
      "source": [
        "#It is possible to specify the increment value by adding a third parameter\n",
        "for i in range(2, 50, 5):\n",
        "  print(i)"
      ],
      "metadata": {
        "colab": {
          "base_uri": "https://localhost:8080/"
        },
        "id": "vRhOxJ5Cyeaw",
        "outputId": "c6743911-b466-40e2-ccff-1577e2827b11"
      },
      "execution_count": null,
      "outputs": [
        {
          "output_type": "stream",
          "name": "stdout",
          "text": [
            "2\n",
            "7\n",
            "12\n",
            "17\n",
            "22\n",
            "27\n",
            "32\n",
            "37\n",
            "42\n",
            "47\n"
          ]
        }
      ]
    },
    {
      "cell_type": "code",
      "source": [
        "for i in range(11):\n",
        "  print(i)\n",
        "else:\n",
        "  print('Finished!!')"
      ],
      "metadata": {
        "colab": {
          "base_uri": "https://localhost:8080/"
        },
        "id": "oL4Oktg7z0jH",
        "outputId": "70b7a558-2cf9-4723-a651-d28cdb6f0a95"
      },
      "execution_count": null,
      "outputs": [
        {
          "output_type": "stream",
          "name": "stdout",
          "text": [
            "0\n",
            "1\n",
            "2\n",
            "3\n",
            "4\n",
            "5\n",
            "6\n",
            "7\n",
            "8\n",
            "9\n",
            "10\n",
            "Finished!!\n"
          ]
        }
      ]
    },
    {
      "cell_type": "code",
      "source": [
        "#If the loop breaks, the else block is not executed.\n",
        "for i in range(11):\n",
        "  print(i)\n",
        "  if i == 6:\n",
        "    break\n",
        "else:\n",
        "  print('Finished')"
      ],
      "metadata": {
        "colab": {
          "base_uri": "https://localhost:8080/"
        },
        "id": "WzSWQbXW1xs-",
        "outputId": "eb7a0e57-dd87-403f-c963-d0cadd9b1284"
      },
      "execution_count": null,
      "outputs": [
        {
          "output_type": "stream",
          "name": "stdout",
          "text": [
            "0\n",
            "1\n",
            "2\n",
            "3\n",
            "4\n",
            "5\n",
            "6\n"
          ]
        }
      ]
    },
    {
      "cell_type": "code",
      "source": [
        "for i in range(11):\n",
        "  if i == 6:\n",
        "    break\n",
        "  print(i)\n",
        "else:\n",
        "  print('Finished')"
      ],
      "metadata": {
        "colab": {
          "base_uri": "https://localhost:8080/"
        },
        "id": "3eKoJe8f5Cfd",
        "outputId": "65ecc021-5ec0-4bdd-a95f-8a98f4ec9d6b"
      },
      "execution_count": null,
      "outputs": [
        {
          "output_type": "stream",
          "name": "stdout",
          "text": [
            "0\n",
            "1\n",
            "2\n",
            "3\n",
            "4\n",
            "5\n"
          ]
        }
      ]
    },
    {
      "cell_type": "code",
      "source": [
        "#The else block will NOT be executed if the loop is stopped by a break statement.\n",
        "for i in range(5):\n",
        "  print(i)\n",
        "else:\n",
        "  print('Finished')"
      ],
      "metadata": {
        "id": "w3-QIfK54ZMM",
        "colab": {
          "base_uri": "https://localhost:8080/"
        },
        "outputId": "0e9e278d-e248-4bd8-d660-89e501e11743"
      },
      "execution_count": null,
      "outputs": [
        {
          "output_type": "stream",
          "name": "stdout",
          "text": [
            "0\n",
            "1\n",
            "2\n",
            "3\n",
            "4\n",
            "Finished\n"
          ]
        }
      ]
    },
    {
      "cell_type": "markdown",
      "source": [
        "#Nested Loop"
      ],
      "metadata": {
        "id": "2JIsmM8bRxMw"
      }
    },
    {
      "cell_type": "code",
      "source": [
        "#A nested loop is a loop inside a loop.\n",
        "#The \"inner loop\" will be executed one time for each iteration of the \"outer loop\"\n",
        "i = ['python', 'java', 'sql', 'c++']\n",
        "j = ['version 2', 'version 3', 'version 4']\n",
        "for x in i:\n",
        "  for y in j:\n",
        "    print(x, y)"
      ],
      "metadata": {
        "colab": {
          "base_uri": "https://localhost:8080/"
        },
        "id": "gZSEPuStRGf3",
        "outputId": "739b274c-437a-4590-fe3a-04134601121c"
      },
      "execution_count": null,
      "outputs": [
        {
          "output_type": "stream",
          "name": "stdout",
          "text": [
            "python version 2\n",
            "python version 3\n",
            "python version 4\n",
            "java version 2\n",
            "java version 3\n",
            "java version 4\n",
            "sql version 2\n",
            "sql version 3\n",
            "sql version 4\n",
            "c++ version 2\n",
            "c++ version 3\n",
            "c++ version 4\n"
          ]
        }
      ]
    },
    {
      "cell_type": "code",
      "source": [
        "#Pass statement\n",
        "#For loop with no content, put in the pass statement to avoid getting an error.\n",
        "i = ['python', 'java', 'sql', 'c++']\n",
        "for x in i:\n",
        "  pass"
      ],
      "metadata": {
        "id": "5_jH4ervSeb3"
      },
      "execution_count": null,
      "outputs": []
    },
    {
      "cell_type": "markdown",
      "source": [
        "#Arrays\n",
        "Python does not have a character data type, a single character is simply a string with a length of 1.\n",
        "\n",
        "Square brackets can be used to access elements of the string."
      ],
      "metadata": {
        "id": "8LdcpxhgITmu"
      }
    },
    {
      "cell_type": "code",
      "source": [
        "a = 'Python'\n",
        "print(a[1])"
      ],
      "metadata": {
        "id": "EEcuzRSUS3Vf",
        "colab": {
          "base_uri": "https://localhost:8080/"
        },
        "outputId": "9a5ddc25-7d8a-4929-ef55-514c79eb0b56"
      },
      "execution_count": 1,
      "outputs": [
        {
          "output_type": "stream",
          "name": "stdout",
          "text": [
            "y\n"
          ]
        }
      ]
    }
  ]
}