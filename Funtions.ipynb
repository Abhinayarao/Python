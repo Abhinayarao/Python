{
  "nbformat": 4,
  "nbformat_minor": 0,
  "metadata": {
    "colab": {
      "provenance": [],
      "authorship_tag": "ABX9TyP3Dr8enTHCBxOAYJFUASrg",
      "include_colab_link": true
    },
    "kernelspec": {
      "name": "python3",
      "display_name": "Python 3"
    },
    "language_info": {
      "name": "python"
    }
  },
  "cells": [
    {
      "cell_type": "markdown",
      "metadata": {
        "id": "view-in-github",
        "colab_type": "text"
      },
      "source": [
        "<a href=\"https://colab.research.google.com/github/Abhinayarao/Python/blob/main/Funtions.ipynb\" target=\"_parent\"><img src=\"https://colab.research.google.com/assets/colab-badge.svg\" alt=\"Open In Colab\"/></a>"
      ]
    },
    {
      "cell_type": "markdown",
      "source": [
        "A function is a block of code which only runs when it is called.\n",
        "\n",
        "You can pass data, known as parameters, into a function.\n",
        "\n",
        "A function can return data as a result."
      ],
      "metadata": {
        "id": "iaWTY2XKcIRA"
      }
    },
    {
      "cell_type": "code",
      "source": [
        "#A function is defined using the def keyword\n",
        "def python():\n",
        "  print('Hello World!!')\n",
        "python()"
      ],
      "metadata": {
        "colab": {
          "base_uri": "https://localhost:8080/"
        },
        "id": "0bQAupNrcPy-",
        "outputId": "0f723cc0-308d-4c20-f2d7-ebd57903cb30"
      },
      "execution_count": null,
      "outputs": [
        {
          "output_type": "stream",
          "name": "stdout",
          "text": [
            "Hello World!!\n"
          ]
        }
      ]
    },
    {
      "cell_type": "markdown",
      "source": [
        "If your function expects 2 arguments, you have to call the function with 2 arguments, not more, and not less."
      ],
      "metadata": {
        "id": "JF-r9_3wb85_"
      }
    },
    {
      "cell_type": "code",
      "source": [
        "def python(name, version):\n",
        "  print('SQL' + ' Version ' +'3')\n",
        "python('SQL', '3')"
      ],
      "metadata": {
        "colab": {
          "base_uri": "https://localhost:8080/"
        },
        "id": "py7rQtOcbDiI",
        "outputId": "575ffd2d-b980-4c47-e7df-acb743ed4eee"
      },
      "execution_count": null,
      "outputs": [
        {
          "output_type": "stream",
          "name": "stdout",
          "text": [
            "SQL Version 3\n"
          ]
        }
      ]
    },
    {
      "cell_type": "code",
      "source": [
        "def var(a):\n",
        "  print(a)\n",
        "var(9)"
      ],
      "metadata": {
        "colab": {
          "base_uri": "https://localhost:8080/"
        },
        "id": "vlDxGj1aeo26",
        "outputId": "47f83e72-8aae-4031-fa79-d8f89da43327"
      },
      "execution_count": null,
      "outputs": [
        {
          "output_type": "stream",
          "name": "stdout",
          "text": [
            "9\n"
          ]
        }
      ]
    },
    {
      "cell_type": "code",
      "source": [
        "def var(a,b):\n",
        "  print(a+b)\n",
        "var(4, 3)"
      ],
      "metadata": {
        "colab": {
          "base_uri": "https://localhost:8080/"
        },
        "id": "7HleZixJfD9T",
        "outputId": "94ce8590-c7d3-4546-a180-b9b907786731"
      },
      "execution_count": null,
      "outputs": [
        {
          "output_type": "stream",
          "name": "stdout",
          "text": [
            "7\n"
          ]
        }
      ]
    },
    {
      "cell_type": "code",
      "source": [
        "def cat(a,b,c):\n",
        "  d =None\n",
        "  if c == '+':\n",
        "    d = a+b\n",
        "  elif c == '-':\n",
        "    d = a-b\n",
        "  elif c == '*':\n",
        "    d = a*b\n",
        "  elif c == '%':\n",
        "    d = a%b\n",
        "  else:\n",
        "    print('Invalid Operator')\n",
        "  return(d)\n",
        "a = cat(8,2,'k')"
      ],
      "metadata": {
        "colab": {
          "base_uri": "https://localhost:8080/"
        },
        "id": "VV9NVaZJnhdB",
        "outputId": "7153c5e1-5441-49c6-d9be-87e8e07c7dd2"
      },
      "execution_count": null,
      "outputs": [
        {
          "output_type": "stream",
          "name": "stdout",
          "text": [
            "Invalid Operator\n"
          ]
        }
      ]
    },
    {
      "cell_type": "code",
      "source": [
        "print(a)"
      ],
      "metadata": {
        "colab": {
          "base_uri": "https://localhost:8080/"
        },
        "id": "_zZoJD8D8eSA",
        "outputId": "1270c512-bef2-4a25-8e50-44ea2dc21240"
      },
      "execution_count": null,
      "outputs": [
        {
          "output_type": "stream",
          "name": "stdout",
          "text": [
            "None\n"
          ]
        }
      ]
    },
    {
      "cell_type": "code",
      "source": [
        "def sum(a,b):\n",
        "  d = a+b\n",
        "  return(d)\n",
        "sum(4,2)"
      ],
      "metadata": {
        "colab": {
          "base_uri": "https://localhost:8080/"
        },
        "id": "6BJgdWx275tG",
        "outputId": "fd0c54a2-9707-4253-de80-aa86eb5975c8"
      },
      "execution_count": null,
      "outputs": [
        {
          "output_type": "execute_result",
          "data": {
            "text/plain": [
              "6"
            ]
          },
          "metadata": {},
          "execution_count": 36
        }
      ]
    },
    {
      "cell_type": "code",
      "source": [
        "def sub(a,b):\n",
        "  d = a-b\n",
        "  return(d)\n",
        "sub(6,2)\n"
      ],
      "metadata": {
        "colab": {
          "base_uri": "https://localhost:8080/"
        },
        "id": "25QUyss7-hA2",
        "outputId": "14ea89b8-e8de-4366-f7b2-25e4d4b94f41"
      },
      "execution_count": null,
      "outputs": [
        {
          "output_type": "execute_result",
          "data": {
            "text/plain": [
              "4"
            ]
          },
          "metadata": {},
          "execution_count": 35
        }
      ]
    },
    {
      "cell_type": "code",
      "source": [
        "def mul(a,b):\n",
        "  d = a*b\n",
        "  return(d)\n",
        "mul(2,3)"
      ],
      "metadata": {
        "colab": {
          "base_uri": "https://localhost:8080/"
        },
        "id": "qfnH1kp4_AuL",
        "outputId": "1903ede1-d918-413a-e435-92c1da23eec5"
      },
      "execution_count": null,
      "outputs": [
        {
          "output_type": "execute_result",
          "data": {
            "text/plain": [
              "6"
            ]
          },
          "metadata": {},
          "execution_count": 37
        }
      ]
    },
    {
      "cell_type": "code",
      "source": [
        "def div(a,b):\n",
        "  d = a/b\n",
        "  return(d)\n",
        "div(4,2)"
      ],
      "metadata": {
        "colab": {
          "base_uri": "https://localhost:8080/"
        },
        "id": "cQhRfhug_4dD",
        "outputId": "f26f9e07-1dd1-45dd-f13c-bb0cb32adb85"
      },
      "execution_count": null,
      "outputs": [
        {
          "output_type": "execute_result",
          "data": {
            "text/plain": [
              "2.0"
            ]
          },
          "metadata": {},
          "execution_count": 38
        }
      ]
    },
    {
      "cell_type": "code",
      "source": [
        "def mod(a,b):\n",
        "  d = a%b\n",
        "  return(d)\n",
        "mod(8,2)"
      ],
      "metadata": {
        "colab": {
          "base_uri": "https://localhost:8080/"
        },
        "id": "xxa5FdXwAE76",
        "outputId": "3774c70b-0324-4a23-9203-de74ee3c187b"
      },
      "execution_count": null,
      "outputs": [
        {
          "output_type": "execute_result",
          "data": {
            "text/plain": [
              "0"
            ]
          },
          "metadata": {},
          "execution_count": 39
        }
      ]
    },
    {
      "cell_type": "code",
      "source": [
        "def calculator(a,b,c):\n",
        "  if c == '+':\n",
        "    d = a+b\n",
        "    return(d)\n",
        "  elif c == '-':\n",
        "    d = a-b\n",
        "    return(d)\n",
        "  elif c == '*':\n",
        "    d = a*b\n",
        "    return(d)\n",
        "  elif c == '/':\n",
        "    d = a/b\n",
        "    return(d)\n",
        "  elif c == '%':\n",
        "    d = a%b\n",
        "    return(d)\n",
        "  else:\n",
        "    print('Invalid Operator')\n",
        "calculator(8,2,'/')"
      ],
      "metadata": {
        "colab": {
          "base_uri": "https://localhost:8080/"
        },
        "id": "xbJeg6ZbCvq0",
        "outputId": "fa2d2289-2ddd-4635-cbe5-6b8de40b0124"
      },
      "execution_count": null,
      "outputs": [
        {
          "output_type": "execute_result",
          "data": {
            "text/plain": [
              "4.0"
            ]
          },
          "metadata": {},
          "execution_count": 11
        }
      ]
    },
    {
      "cell_type": "markdown",
      "source": [
        "If you do not know how many arguments that will be passed into your function, add a * before the parameter name in the function definition."
      ],
      "metadata": {
        "id": "G5oUQBt6FSqD"
      }
    },
    {
      "cell_type": "code",
      "source": [
        "def python(*version):\n",
        "  print('Python ' + version[-1])\n",
        "python('version 1', 'version 2', 'version 3')"
      ],
      "metadata": {
        "colab": {
          "base_uri": "https://localhost:8080/"
        },
        "id": "i_ilEN1nEQd9",
        "outputId": "de08b9ff-639f-4100-dfc2-4fa34fbe18a7"
      },
      "execution_count": null,
      "outputs": [
        {
          "output_type": "stream",
          "name": "stdout",
          "text": [
            "Python version 3\n"
          ]
        }
      ]
    },
    {
      "cell_type": "markdown",
      "source": [
        "If you do not know how many keyword arguments that will be passed into your function, add two asterisk: ** before the parameter name in the function definition."
      ],
      "metadata": {
        "id": "xtP78wPsFcHZ"
      }
    },
    {
      "cell_type": "code",
      "source": [
        "def python(**lang):\n",
        "  print(lang['lname'] +'version')\n",
        "python(fname='Java ', lname='SQL ')"
      ],
      "metadata": {
        "colab": {
          "base_uri": "https://localhost:8080/"
        },
        "id": "XFZy4KJfFomO",
        "outputId": "477a77b7-b1e7-4595-efce-53828a5fdde6"
      },
      "execution_count": null,
      "outputs": [
        {
          "output_type": "stream",
          "name": "stdout",
          "text": [
            "SQL version\n"
          ]
        }
      ]
    },
    {
      "cell_type": "markdown",
      "source": [
        "You can also send arguments with the key = value syntax."
      ],
      "metadata": {
        "id": "kKcWBidh-6cH"
      }
    },
    {
      "cell_type": "code",
      "source": [
        "#keyword Argument\n",
        "def python(c,b,a):\n",
        "  print('Python version ' + c)\n",
        "python(c='3', b='2', a='1')"
      ],
      "metadata": {
        "colab": {
          "base_uri": "https://localhost:8080/"
        },
        "id": "1WydyQ8Y-dBD",
        "outputId": "9c95132e-682e-48e2-d15d-159034a769a1"
      },
      "execution_count": null,
      "outputs": [
        {
          "output_type": "stream",
          "name": "stdout",
          "text": [
            "Python version 3\n"
          ]
        }
      ]
    },
    {
      "cell_type": "code",
      "source": [
        "#Position-only Argument\n",
        "def python(a, /):\n",
        "  print(a + 'version 3')\n",
        "python('Python ')"
      ],
      "metadata": {
        "colab": {
          "base_uri": "https://localhost:8080/"
        },
        "id": "9QqRV0UbLoND",
        "outputId": "6a9b1538-be26-499e-d42a-b679c8563f1b"
      },
      "execution_count": null,
      "outputs": [
        {
          "output_type": "stream",
          "name": "stdout",
          "text": [
            "Python version 3\n"
          ]
        }
      ]
    },
    {
      "cell_type": "code",
      "source": [
        "#To specify that a function can have only keyword arguments, add *, before the arguments\n",
        "#Without the *, you are allowed to use positional arguments even if the function expects keyword arguments\n",
        "def python(*, a):\n",
        "  print(a)\n",
        "python(a = 'SQL')"
      ],
      "metadata": {
        "colab": {
          "base_uri": "https://localhost:8080/"
        },
        "id": "OhtE7ojaMlzB",
        "outputId": "37b7707d-4655-4305-aafb-0180e4559b2a"
      },
      "execution_count": null,
      "outputs": [
        {
          "output_type": "stream",
          "name": "stdout",
          "text": [
            "SQL\n"
          ]
        }
      ]
    },
    {
      "cell_type": "markdown",
      "source": [
        "To let a function return a value, use the return statement:"
      ],
      "metadata": {
        "id": "SeKaJoLRKFup"
      }
    },
    {
      "cell_type": "code",
      "source": [
        "def python(a):\n",
        "  return a*3\n",
        "python(3)\n",
        "python(8)\n",
        "python(2)"
      ],
      "metadata": {
        "colab": {
          "base_uri": "https://localhost:8080/"
        },
        "id": "TC1XpmyHH91s",
        "outputId": "553f925a-338a-49be-915e-0f6c945a83ed"
      },
      "execution_count": null,
      "outputs": [
        {
          "output_type": "execute_result",
          "data": {
            "text/plain": [
              "6"
            ]
          },
          "metadata": {},
          "execution_count": 14
        }
      ]
    },
    {
      "cell_type": "markdown",
      "source": [
        "function definitions cannot be empty, but if you for some reason have a function definition with no content, put in the pass statement to avoid getting an error."
      ],
      "metadata": {
        "id": "f4Wd3d3mE0pA"
      }
    },
    {
      "cell_type": "code",
      "source": [
        "def python():\n",
        "  pass"
      ],
      "metadata": {
        "id": "QwpGEgUuKRmv"
      },
      "execution_count": null,
      "outputs": []
    },
    {
      "cell_type": "markdown",
      "source": [
        "#Recursion"
      ],
      "metadata": {
        "id": "O_TBPch4Q8Ic"
      }
    },
    {
      "cell_type": "code",
      "source": [
        "#Function calls itself. This has the benefit of meaning that you can loop through data to reach a result.\n",
        "def frac(n):\n",
        "  if n == 0:\n",
        "    return 1\n",
        "  else:\n",
        "    return (n * frac(n-1)) # 5 * frac(4)\n",
        "                                #4* frac(3)\n",
        "                                    #3 * frac(2)  ==> 3*4 = 12\n",
        "                                        # 2 * frac(1)     ==> 2*2\n",
        "                                              #1 * frac(0) == 1     # 1*1\n",
        "\n",
        "\n",
        "frac(5)\n",
        "\n"
      ],
      "metadata": {
        "colab": {
          "base_uri": "https://localhost:8080/"
        },
        "id": "85hx3reJKVuA",
        "outputId": "04b46102-6081-40c6-a941-391bdf237034"
      },
      "execution_count": null,
      "outputs": [
        {
          "output_type": "execute_result",
          "data": {
            "text/plain": [
              "120"
            ]
          },
          "metadata": {},
          "execution_count": 29
        }
      ]
    },
    {
      "cell_type": "markdown",
      "source": [
        "#Global Variable\n",
        "Variables that are created outside of a function are known as global variables.\n",
        "\n",
        "Global variables can be used by everyone, both inside of functions and outside."
      ],
      "metadata": {
        "id": "H8ldORDz_BpS"
      }
    },
    {
      "cell_type": "code",
      "source": [
        "a = 'python'\n",
        "def python():\n",
        "  print(a + ' Version 3')\n",
        "python()"
      ],
      "metadata": {
        "colab": {
          "base_uri": "https://localhost:8080/"
        },
        "id": "2w6Z4n9O_Qke",
        "outputId": "da8641ea-5aef-443f-b4d1-89841ffbe55c"
      },
      "execution_count": null,
      "outputs": [
        {
          "output_type": "stream",
          "name": "stdout",
          "text": [
            "python Version 3\n"
          ]
        }
      ]
    },
    {
      "cell_type": "markdown",
      "source": [
        "If you create a variable with the same name inside a function, this variable will be local, and can only be used inside the function. The global variable with the same name will remain as it was, global and with the original value."
      ],
      "metadata": {
        "id": "bTSADfi9_jn6"
      }
    },
    {
      "cell_type": "code",
      "source": [
        "a = 'python'\n",
        "def python():\n",
        "  a = 'SQL'\n",
        "  print(a + ' Version 3')\n",
        "python()"
      ],
      "metadata": {
        "colab": {
          "base_uri": "https://localhost:8080/"
        },
        "id": "kPKS8we__eye",
        "outputId": "09eb8b77-f43d-4dca-bb5f-aa1a690552ce"
      },
      "execution_count": null,
      "outputs": [
        {
          "output_type": "stream",
          "name": "stdout",
          "text": [
            "SQL Version 3\n"
          ]
        }
      ]
    },
    {
      "cell_type": "code",
      "source": [
        "a = 'python'\n",
        "def python():\n",
        "  a = 'SQL'\n",
        "  print(a + ' Version 3')\n",
        "python()\n",
        "print(a)"
      ],
      "metadata": {
        "colab": {
          "base_uri": "https://localhost:8080/"
        },
        "id": "Ka9yOUJcAANx",
        "outputId": "5404f91c-e5b7-4214-8ecf-b3ed1b58b613"
      },
      "execution_count": null,
      "outputs": [
        {
          "output_type": "stream",
          "name": "stdout",
          "text": [
            "SQL Version 3\n",
            "python\n"
          ]
        }
      ]
    },
    {
      "cell_type": "markdown",
      "source": [
        "when you create a variable inside a function, that variable is local, and can only be used inside that function.\n",
        "\n",
        "To create a global variable inside a function, you can use the global keyword."
      ],
      "metadata": {
        "id": "--O7jGr9CPaW"
      }
    },
    {
      "cell_type": "code",
      "source": [
        "def python():\n",
        "  global a\n",
        "  a = 'SQL'\n",
        "python()\n",
        "print(a)\n"
      ],
      "metadata": {
        "colab": {
          "base_uri": "https://localhost:8080/"
        },
        "id": "U3FSW07pCQyZ",
        "outputId": "e161c940-c575-4197-e3ae-23ab5679e49c"
      },
      "execution_count": null,
      "outputs": [
        {
          "output_type": "stream",
          "name": "stdout",
          "text": [
            "SQL\n"
          ]
        }
      ]
    },
    {
      "cell_type": "markdown",
      "source": [
        "To change the value of a global variable inside a function, refer to the variable by using the global keyword"
      ],
      "metadata": {
        "id": "buMzv7WoCnks"
      }
    },
    {
      "cell_type": "code",
      "source": [
        "a = ' python'\n",
        "def python():\n",
        "  global a\n",
        "  a='SQL'\n",
        "python()\n",
        "print(a)\n"
      ],
      "metadata": {
        "colab": {
          "base_uri": "https://localhost:8080/"
        },
        "id": "Vqa68r9hCtiL",
        "outputId": "0b86556f-4ebe-4889-9f50-6249f85fb406"
      },
      "execution_count": null,
      "outputs": [
        {
          "output_type": "stream",
          "name": "stdout",
          "text": [
            "SQL\n"
          ]
        }
      ]
    },
    {
      "cell_type": "markdown",
      "source": [
        "#Lambda\n",
        "A lambda function can take any number of arguments, but can only have one expression."
      ],
      "metadata": {
        "id": "gDeWHYphT-AO"
      }
    },
    {
      "cell_type": "code",
      "source": [
        "a = lambda b: b+5\n",
        "print(a(5))"
      ],
      "metadata": {
        "id": "a_XPFWoF9x3X",
        "colab": {
          "base_uri": "https://localhost:8080/"
        },
        "outputId": "ae140167-4ec7-4bcf-de30-fd446623e9cf"
      },
      "execution_count": 11,
      "outputs": [
        {
          "output_type": "stream",
          "name": "stdout",
          "text": [
            "10\n"
          ]
        }
      ]
    },
    {
      "cell_type": "code",
      "source": [
        "a = lambda b,c: b*c\n",
        "print(a(4,2))"
      ],
      "metadata": {
        "colab": {
          "base_uri": "https://localhost:8080/"
        },
        "id": "6RrlJalDRCBF",
        "outputId": "5f833468-4e6d-4581-bef2-7ae2297ffa67"
      },
      "execution_count": 12,
      "outputs": [
        {
          "output_type": "stream",
          "name": "stdout",
          "text": [
            "8\n"
          ]
        }
      ]
    }
  ]
}