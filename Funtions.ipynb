{
  "nbformat": 4,
  "nbformat_minor": 0,
  "metadata": {
    "colab": {
      "provenance": [],
      "authorship_tag": "ABX9TyPsgGQakoW71ZdS6Xn90kG4",
      "include_colab_link": true
    },
    "kernelspec": {
      "name": "python3",
      "display_name": "Python 3"
    },
    "language_info": {
      "name": "python"
    }
  },
  "cells": [
    {
      "cell_type": "markdown",
      "metadata": {
        "id": "view-in-github",
        "colab_type": "text"
      },
      "source": [
        "<a href=\"https://colab.research.google.com/github/Abhinayarao/Python/blob/main/Funtions.ipynb\" target=\"_parent\"><img src=\"https://colab.research.google.com/assets/colab-badge.svg\" alt=\"Open In Colab\"/></a>"
      ]
    },
    {
      "cell_type": "markdown",
      "source": [
        "A function is a block of code which only runs when it is called.\n",
        "\n",
        "You can pass data, known as parameters, into a function.\n",
        "\n",
        "A function can return data as a result."
      ],
      "metadata": {
        "id": "iaWTY2XKcIRA"
      }
    },
    {
      "cell_type": "code",
      "source": [
        "#A function is defined using the def keyword\n",
        "def python():\n",
        "  print('Hello World!!')\n",
        "python()"
      ],
      "metadata": {
        "colab": {
          "base_uri": "https://localhost:8080/"
        },
        "id": "0bQAupNrcPy-",
        "outputId": "0f723cc0-308d-4c20-f2d7-ebd57903cb30"
      },
      "execution_count": 6,
      "outputs": [
        {
          "output_type": "stream",
          "name": "stdout",
          "text": [
            "Hello World!!\n"
          ]
        }
      ]
    },
    {
      "cell_type": "markdown",
      "source": [
        "If your function expects 2 arguments, you have to call the function with 2 arguments, not more, and not less."
      ],
      "metadata": {
        "id": "JF-r9_3wb85_"
      }
    },
    {
      "cell_type": "code",
      "source": [
        "def python(name, version):\n",
        "  print('SQL' + ' Version ' +'3')\n",
        "python('SQL', '3')"
      ],
      "metadata": {
        "colab": {
          "base_uri": "https://localhost:8080/"
        },
        "id": "py7rQtOcbDiI",
        "outputId": "575ffd2d-b980-4c47-e7df-acb743ed4eee"
      },
      "execution_count": 19,
      "outputs": [
        {
          "output_type": "stream",
          "name": "stdout",
          "text": [
            "SQL Version 3\n"
          ]
        }
      ]
    },
    {
      "cell_type": "code",
      "source": [
        "def var(a):\n",
        "  print(a)\n",
        "var(9)"
      ],
      "metadata": {
        "colab": {
          "base_uri": "https://localhost:8080/"
        },
        "id": "vlDxGj1aeo26",
        "outputId": "47f83e72-8aae-4031-fa79-d8f89da43327"
      },
      "execution_count": 15,
      "outputs": [
        {
          "output_type": "stream",
          "name": "stdout",
          "text": [
            "9\n"
          ]
        }
      ]
    },
    {
      "cell_type": "code",
      "source": [
        "def var(a,b):\n",
        "  print(a+b)\n",
        "var(4, 3)"
      ],
      "metadata": {
        "colab": {
          "base_uri": "https://localhost:8080/"
        },
        "id": "7HleZixJfD9T",
        "outputId": "94ce8590-c7d3-4546-a180-b9b907786731"
      },
      "execution_count": 17,
      "outputs": [
        {
          "output_type": "stream",
          "name": "stdout",
          "text": [
            "7\n"
          ]
        }
      ]
    },
    {
      "cell_type": "code",
      "source": [
        "def cat(a,b,c):\n",
        "  d =None\n",
        "  if c == '+':\n",
        "    d = a+b\n",
        "  elif c == '-':\n",
        "    d = a-b\n",
        "  elif c == '*':\n",
        "    d = a*b\n",
        "  elif c == '%':\n",
        "    d = a%b\n",
        "  else:\n",
        "    print('Invalid Operator')\n",
        "  return(d)\n",
        "a = cat(8,2,'k')"
      ],
      "metadata": {
        "colab": {
          "base_uri": "https://localhost:8080/"
        },
        "id": "VV9NVaZJnhdB",
        "outputId": "7153c5e1-5441-49c6-d9be-87e8e07c7dd2"
      },
      "execution_count": 20,
      "outputs": [
        {
          "output_type": "stream",
          "name": "stdout",
          "text": [
            "Invalid Operator\n"
          ]
        }
      ]
    },
    {
      "cell_type": "code",
      "source": [
        "print(a)"
      ],
      "metadata": {
        "colab": {
          "base_uri": "https://localhost:8080/"
        },
        "id": "_zZoJD8D8eSA",
        "outputId": "1270c512-bef2-4a25-8e50-44ea2dc21240"
      },
      "execution_count": 22,
      "outputs": [
        {
          "output_type": "stream",
          "name": "stdout",
          "text": [
            "None\n"
          ]
        }
      ]
    },
    {
      "cell_type": "code",
      "source": [
        "def sum(a,b):\n",
        "  d = a+b\n",
        "  return(d)\n",
        "sum(4,2)"
      ],
      "metadata": {
        "colab": {
          "base_uri": "https://localhost:8080/"
        },
        "id": "6BJgdWx275tG",
        "outputId": "fd0c54a2-9707-4253-de80-aa86eb5975c8"
      },
      "execution_count": 36,
      "outputs": [
        {
          "output_type": "execute_result",
          "data": {
            "text/plain": [
              "6"
            ]
          },
          "metadata": {},
          "execution_count": 36
        }
      ]
    },
    {
      "cell_type": "code",
      "source": [
        "def sub(a,b):\n",
        "  d = a-b\n",
        "  return(d)\n",
        "sub(6,2)\n"
      ],
      "metadata": {
        "colab": {
          "base_uri": "https://localhost:8080/"
        },
        "id": "25QUyss7-hA2",
        "outputId": "14ea89b8-e8de-4366-f7b2-25e4d4b94f41"
      },
      "execution_count": 35,
      "outputs": [
        {
          "output_type": "execute_result",
          "data": {
            "text/plain": [
              "4"
            ]
          },
          "metadata": {},
          "execution_count": 35
        }
      ]
    },
    {
      "cell_type": "code",
      "source": [
        "def mul(a,b):\n",
        "  d = a*b\n",
        "  return(d)\n",
        "mul(2,3)"
      ],
      "metadata": {
        "colab": {
          "base_uri": "https://localhost:8080/"
        },
        "id": "qfnH1kp4_AuL",
        "outputId": "1903ede1-d918-413a-e435-92c1da23eec5"
      },
      "execution_count": 37,
      "outputs": [
        {
          "output_type": "execute_result",
          "data": {
            "text/plain": [
              "6"
            ]
          },
          "metadata": {},
          "execution_count": 37
        }
      ]
    },
    {
      "cell_type": "code",
      "source": [
        "def div(a,b):\n",
        "  d = a/b\n",
        "  return(d)\n",
        "div(4,2)"
      ],
      "metadata": {
        "colab": {
          "base_uri": "https://localhost:8080/"
        },
        "id": "cQhRfhug_4dD",
        "outputId": "f26f9e07-1dd1-45dd-f13c-bb0cb32adb85"
      },
      "execution_count": 38,
      "outputs": [
        {
          "output_type": "execute_result",
          "data": {
            "text/plain": [
              "2.0"
            ]
          },
          "metadata": {},
          "execution_count": 38
        }
      ]
    },
    {
      "cell_type": "code",
      "source": [
        "def mod(a,b):\n",
        "  d = a%b\n",
        "  return(d)\n",
        "mod(8,2)"
      ],
      "metadata": {
        "colab": {
          "base_uri": "https://localhost:8080/"
        },
        "id": "xxa5FdXwAE76",
        "outputId": "3774c70b-0324-4a23-9203-de74ee3c187b"
      },
      "execution_count": 39,
      "outputs": [
        {
          "output_type": "execute_result",
          "data": {
            "text/plain": [
              "0"
            ]
          },
          "metadata": {},
          "execution_count": 39
        }
      ]
    },
    {
      "cell_type": "code",
      "source": [
        "def calculator(a,b,c):\n",
        "  if c == '+':\n",
        "    d = a+b\n",
        "    return(d)\n",
        "  elif c == '-':\n",
        "    d = a-b\n",
        "    return(d)\n",
        "  elif c == '*':\n",
        "    d = a*b\n",
        "    return(d)\n",
        "  elif c == '/':\n",
        "    d = a/b\n",
        "    return(d)\n",
        "  elif c == '%':\n",
        "    d = a%b\n",
        "    return(d)\n",
        "  else:\n",
        "    print('Invalid Operator')\n",
        "calculator(8,2,'/')"
      ],
      "metadata": {
        "colab": {
          "base_uri": "https://localhost:8080/"
        },
        "id": "xbJeg6ZbCvq0",
        "outputId": "fa2d2289-2ddd-4635-cbe5-6b8de40b0124"
      },
      "execution_count": 11,
      "outputs": [
        {
          "output_type": "execute_result",
          "data": {
            "text/plain": [
              "4.0"
            ]
          },
          "metadata": {},
          "execution_count": 11
        }
      ]
    },
    {
      "cell_type": "code",
      "source": [
        "def python(*version):\n",
        "  print('Python ' + version[2])\n",
        "python('version 1', 'version 2', 'version 3')"
      ],
      "metadata": {
        "colab": {
          "base_uri": "https://localhost:8080/"
        },
        "id": "i_ilEN1nEQd9",
        "outputId": "828f8505-3072-4ec3-cc96-1951636f815a"
      },
      "execution_count": 4,
      "outputs": [
        {
          "output_type": "stream",
          "name": "stdout",
          "text": [
            "Python version 3\n"
          ]
        }
      ]
    },
    {
      "cell_type": "markdown",
      "source": [
        "You can also send arguments with the key = value syntax."
      ],
      "metadata": {
        "id": "kKcWBidh-6cH"
      }
    },
    {
      "cell_type": "code",
      "source": [
        "def python(c,b,a):\n",
        "  print('Python version ' + c)\n",
        "python(c='3', b='2', a='1')"
      ],
      "metadata": {
        "colab": {
          "base_uri": "https://localhost:8080/"
        },
        "id": "1WydyQ8Y-dBD",
        "outputId": "9c95132e-682e-48e2-d15d-159034a769a1"
      },
      "execution_count": 5,
      "outputs": [
        {
          "output_type": "stream",
          "name": "stdout",
          "text": [
            "Python version 3\n"
          ]
        }
      ]
    },
    {
      "cell_type": "markdown",
      "source": [],
      "metadata": {
        "id": "f4Wd3d3mE0pA"
      }
    }
  ]
}