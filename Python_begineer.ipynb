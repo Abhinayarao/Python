{
  "nbformat": 4,
  "nbformat_minor": 0,
  "metadata": {
    "colab": {
      "provenance": [],
      "authorship_tag": "ABX9TyMf2v/zcsOxLr9YusQvJCJp",
      "include_colab_link": true
    },
    "kernelspec": {
      "name": "python3",
      "display_name": "Python 3"
    },
    "language_info": {
      "name": "python"
    }
  },
  "cells": [
    {
      "cell_type": "markdown",
      "metadata": {
        "id": "view-in-github",
        "colab_type": "text"
      },
      "source": [
        "<a href=\"https://colab.research.google.com/github/Abhinayarao/Python/blob/main/Python_begineer.ipynb\" target=\"_parent\"><img src=\"https://colab.research.google.com/assets/colab-badge.svg\" alt=\"Open In Colab\"/></a>"
      ]
    },
    {
      "cell_type": "markdown",
      "source": [
        "#Module:1"
      ],
      "metadata": {
        "id": "H-QaNKjSGI3E"
      }
    },
    {
      "cell_type": "code",
      "source": [
        "print(\"Hello Python\")"
      ],
      "metadata": {
        "colab": {
          "base_uri": "https://localhost:8080/"
        },
        "id": "opL97i0gQKCe",
        "outputId": "063ee4da-9e7a-46b3-884a-ab09bbba27e8"
      },
      "execution_count": 1,
      "outputs": [
        {
          "output_type": "stream",
          "name": "stdout",
          "text": [
            "Hello Python\n"
          ]
        }
      ]
    },
    {
      "cell_type": "code",
      "source": [
        "print(\"Hello \\nWorld!\")"
      ],
      "metadata": {
        "colab": {
          "base_uri": "https://localhost:8080/"
        },
        "id": "8iC1Q4budsLp",
        "outputId": "c812c2bc-bd43-42f9-c8ca-c4bde6f5dd5a"
      },
      "execution_count": 6,
      "outputs": [
        {
          "output_type": "stream",
          "name": "stdout",
          "text": [
            "Hello \n",
            "World!\n"
          ]
        }
      ]
    },
    {
      "cell_type": "markdown",
      "source": [
        "10 = int,\n",
        "2.23 = float,\n",
        "\"Hello\" = str"
      ],
      "metadata": {
        "id": "r5EvBY3KQq0X"
      }
    },
    {
      "cell_type": "markdown",
      "source": [
        "Typecasting"
      ],
      "metadata": {
        "id": "f7w0LBhXfX6w"
      }
    },
    {
      "cell_type": "code",
      "source": [
        "int(2.2)"
      ],
      "metadata": {
        "colab": {
          "base_uri": "https://localhost:8080/"
        },
        "id": "5rLW1_HxfHo_",
        "outputId": "a45c77c1-5fd3-4790-f24f-f049721457cf"
      },
      "execution_count": 7,
      "outputs": [
        {
          "output_type": "execute_result",
          "data": {
            "text/plain": [
              "2"
            ]
          },
          "metadata": {},
          "execution_count": 7
        }
      ]
    },
    {
      "cell_type": "markdown",
      "source": [
        "Conversion of float to int may loose some information"
      ],
      "metadata": {
        "id": "qkk62ro8fd-C"
      }
    },
    {
      "cell_type": "code",
      "source": [
        "float(1)"
      ],
      "metadata": {
        "colab": {
          "base_uri": "https://localhost:8080/"
        },
        "id": "skncF007fSdo",
        "outputId": "e0364d31-98c9-455b-a93e-1be056807b83"
      },
      "execution_count": 9,
      "outputs": [
        {
          "output_type": "execute_result",
          "data": {
            "text/plain": [
              "1.0"
            ]
          },
          "metadata": {},
          "execution_count": 9
        }
      ]
    },
    {
      "cell_type": "markdown",
      "source": [
        "bool(1) = True, bool(0) = False"
      ],
      "metadata": {
        "id": "u8l4Hrgpf8bL"
      }
    },
    {
      "cell_type": "code",
      "execution_count": null,
      "metadata": {
        "id": "tfhnKUfE8q43"
      },
      "outputs": [],
      "source": [
        "A=(0,1,2,3)"
      ]
    },
    {
      "cell_type": "markdown",
      "source": [
        "Numbers[::2] means start at index 0 and take every second element."
      ],
      "metadata": {
        "id": "dUPKd_Kql4gc"
      }
    },
    {
      "cell_type": "code",
      "source": [
        "Numbers=['01234567','987654','12345678','654321']\n",
        "Numbers[::2]"
      ],
      "metadata": {
        "colab": {
          "base_uri": "https://localhost:8080/"
        },
        "id": "Td-SsO-UhDf1",
        "outputId": "ae5c4b3b-7201-441a-b4ad-1806c79ca141"
      },
      "execution_count": 36,
      "outputs": [
        {
          "output_type": "execute_result",
          "data": {
            "text/plain": [
              "['01234567', '12345678']"
            ]
          },
          "metadata": {},
          "execution_count": 36
        }
      ]
    },
    {
      "cell_type": "code",
      "source": [
        "var = '01234567'\n",
        "print(var[::2])"
      ],
      "metadata": {
        "colab": {
          "base_uri": "https://localhost:8080/"
        },
        "id": "DGxgd7cLlpCY",
        "outputId": "d4f09532-cae4-47b4-c780-430df8720902"
      },
      "execution_count": 32,
      "outputs": [
        {
          "output_type": "stream",
          "name": "stdout",
          "text": [
            "0246\n"
          ]
        }
      ]
    },
    {
      "cell_type": "markdown",
      "source": [
        "List slicing not string slicing"
      ],
      "metadata": {
        "id": "e7TOJR4QhD2e"
      }
    },
    {
      "cell_type": "code",
      "source": [
        "\"654321\".find('2')"
      ],
      "metadata": {
        "colab": {
          "base_uri": "https://localhost:8080/"
        },
        "id": "w9ytXw_nhEPx",
        "outputId": "5537a390-c085-48a3-94b4-d43a02796d4b"
      },
      "execution_count": 24,
      "outputs": [
        {
          "output_type": "execute_result",
          "data": {
            "text/plain": [
              "4"
            ]
          },
          "metadata": {},
          "execution_count": 24
        }
      ]
    },
    {
      "cell_type": "code",
      "source": [
        "\"Hello\".find('1')"
      ],
      "metadata": {
        "colab": {
          "base_uri": "https://localhost:8080/"
        },
        "id": "AJMRq8csjT8k",
        "outputId": "981fbc85-22dc-4b76-f09a-4fcbc7d6baa9"
      },
      "execution_count": 23,
      "outputs": [
        {
          "output_type": "execute_result",
          "data": {
            "text/plain": [
              "-1"
            ]
          },
          "metadata": {},
          "execution_count": 23
        }
      ]
    },
    {
      "cell_type": "markdown",
      "source": [
        "Since '1' (one) is not in the string \"Hello\", the result is -1."
      ],
      "metadata": {
        "id": "Nn-zisCahEg2"
      }
    },
    {
      "cell_type": "code",
      "source": [
        "3+2*3/3"
      ],
      "metadata": {
        "colab": {
          "base_uri": "https://localhost:8080/"
        },
        "id": "8WnJ-ShQkXXn",
        "outputId": "46cb39b1-3816-463f-9c4a-e17719deaf98"
      },
      "execution_count": 30,
      "outputs": [
        {
          "output_type": "execute_result",
          "data": {
            "text/plain": [
              "5.0"
            ]
          },
          "metadata": {},
          "execution_count": 30
        }
      ]
    },
    {
      "cell_type": "markdown",
      "source": [
        "name[0:2] means slice the string from index 0 up to index 2 (but not including index 2)"
      ],
      "metadata": {
        "id": "0vm7nzwulV-O"
      }
    },
    {
      "cell_type": "code",
      "source": [
        "name = 'Lizz'\n",
        "print(name[0:2])"
      ],
      "metadata": {
        "colab": {
          "base_uri": "https://localhost:8080/"
        },
        "id": "_BiyPySrlFtd",
        "outputId": "0922d417-497d-4bef-c3cf-6770061d6d31"
      },
      "execution_count": 31,
      "outputs": [
        {
          "output_type": "stream",
          "name": "stdout",
          "text": [
            "Li\n"
          ]
        }
      ]
    },
    {
      "cell_type": "code",
      "source": [
        "'A' + 'B'"
      ],
      "metadata": {
        "colab": {
          "base_uri": "https://localhost:8080/",
          "height": 36
        },
        "id": "R2bMl70_ovs3",
        "outputId": "08769601-6efd-409a-acc1-dc875463a80d"
      },
      "execution_count": 38,
      "outputs": [
        {
          "output_type": "execute_result",
          "data": {
            "text/plain": [
              "'AB'"
            ],
            "application/vnd.google.colaboratory.intrinsic+json": {
              "type": "string"
            }
          },
          "metadata": {},
          "execution_count": 38
        }
      ]
    },
    {
      "cell_type": "code",
      "source": [
        "var = [1, 2, 3, 4]\n",
        "print(sum(var))"
      ],
      "metadata": {
        "colab": {
          "base_uri": "https://localhost:8080/"
        },
        "id": "nWlghq_oo4A4",
        "outputId": "fc6fd41e-53bb-4473-83d9-bdbd06731019"
      },
      "execution_count": 44,
      "outputs": [
        {
          "output_type": "stream",
          "name": "stdout",
          "text": [
            "10\n"
          ]
        }
      ]
    },
    {
      "cell_type": "markdown",
      "source": [
        "#Module: 2"
      ],
      "metadata": {
        "id": "ktZJrn-RlUSl"
      }
    },
    {
      "cell_type": "markdown",
      "source": [
        "A is tuple with numbers 0,1,2,3\n",
        "\n",
        "*  Tuples are immutable (which cannot change)\n",
        "\n",
        "\n",
        "*   Lists are mutable(which can change)\n",
        "\n"
      ],
      "metadata": {
        "id": "IGheI3_-QAYV"
      }
    },
    {
      "cell_type": "code",
      "source": [
        "A = (0,3,5,8)"
      ],
      "metadata": {
        "id": "asEkr4yNqBL7"
      },
      "execution_count": 47,
      "outputs": []
    },
    {
      "cell_type": "code",
      "source": [
        "A[3]"
      ],
      "metadata": {
        "colab": {
          "base_uri": "https://localhost:8080/"
        },
        "id": "MMwJ5Jyc8_Z3",
        "outputId": "ea119037-5b77-4966-a509-9939472e2263"
      },
      "execution_count": 51,
      "outputs": [
        {
          "output_type": "execute_result",
          "data": {
            "text/plain": [
              "8"
            ]
          },
          "metadata": {},
          "execution_count": 51
        }
      ]
    },
    {
      "cell_type": "markdown",
      "source": [
        "Indexing starts from 0.\n",
        "\n",
        "A[3] gives the element at index 2, which is '8'."
      ],
      "metadata": {
        "id": "NqV3CYqdqtZa"
      }
    },
    {
      "cell_type": "code",
      "source": [
        "A[-1]"
      ],
      "metadata": {
        "colab": {
          "base_uri": "https://localhost:8080/"
        },
        "id": "_mvlZptO9OOS",
        "outputId": "f1c3bfd7-a6f1-4e47-b8e4-5cd6360325be"
      },
      "execution_count": 49,
      "outputs": [
        {
          "output_type": "execute_result",
          "data": {
            "text/plain": [
              "8"
            ]
          },
          "metadata": {},
          "execution_count": 49
        }
      ]
    },
    {
      "cell_type": "markdown",
      "source": [
        "A[-1] refers to the last element of the tuple"
      ],
      "metadata": {
        "id": "RDYxJ-MRrHWP"
      }
    },
    {
      "cell_type": "code",
      "source": [
        "B=['a', 'b', 'c']"
      ],
      "metadata": {
        "id": "uyyBCkuy9XNz"
      },
      "execution_count": null,
      "outputs": []
    },
    {
      "cell_type": "code",
      "source": [
        "B[1:-1]"
      ],
      "metadata": {
        "colab": {
          "base_uri": "https://localhost:8080/"
        },
        "id": "kgWdinVi9cVm",
        "outputId": "d3ad1c69-b99d-4341-fdec-19b85072122e"
      },
      "execution_count": null,
      "outputs": [
        {
          "output_type": "execute_result",
          "data": {
            "text/plain": [
              "['b']"
            ]
          },
          "metadata": {},
          "execution_count": 10
        }
      ]
    },
    {
      "cell_type": "markdown",
      "source": [
        "This slices the list starting at index 1 up to (but not including) index -1."
      ],
      "metadata": {
        "id": "B_fHPXcGrZnw"
      }
    },
    {
      "cell_type": "code",
      "source": [
        "S={\"A\", \"B\",\"C\"}\n",
        "U={\"A\",\"E\", \"C\"}\n",
        "S and U"
      ],
      "metadata": {
        "colab": {
          "base_uri": "https://localhost:8080/"
        },
        "id": "_aRjeNvS9o6n",
        "outputId": "c2030c6e-19ae-4779-c260-a1f5bf1f9623"
      },
      "execution_count": null,
      "outputs": [
        {
          "output_type": "execute_result",
          "data": {
            "text/plain": [
              "{'A', 'C', 'E'}"
            ]
          },
          "metadata": {},
          "execution_count": 13
        }
      ]
    },
    {
      "cell_type": "markdown",
      "source": [
        "and operator does not perform a set operation like intersection.  Instead, it follows truthy evaluation logic:\n",
        "\n"
      ],
      "metadata": {
        "id": "6IME9ARstMhZ"
      }
    },
    {
      "cell_type": "markdown",
      "source": [
        "In a logical and expression, It returns the first falsy operand, if any.\n",
        "Otherwise, it returns the last operand."
      ],
      "metadata": {
        "id": "3c-gAFQWtdq_"
      }
    },
    {
      "cell_type": "code",
      "source": [
        "S={\"A\", \"B\",\"C\"}\n",
        "U={\"A\",\"E\", \"C\"}\n",
        "S & U"
      ],
      "metadata": {
        "colab": {
          "base_uri": "https://localhost:8080/"
        },
        "id": "w0D45HEx-obj",
        "outputId": "5e92094d-804d-4b53-b11e-1489fcd9e3f7"
      },
      "execution_count": null,
      "outputs": [
        {
          "output_type": "execute_result",
          "data": {
            "text/plain": [
              "{'A', 'C'}"
            ]
          },
          "metadata": {},
          "execution_count": 14
        }
      ]
    },
    {
      "cell_type": "markdown",
      "source": [
        "The & operator performs a set intersection, It returns a new set containing elements that are common to both sets S and U."
      ],
      "metadata": {
        "id": "hGw9RYDAtb8D"
      }
    },
    {
      "cell_type": "code",
      "source": [
        "D={'a':1, 'b':2, 'c':3}"
      ],
      "metadata": {
        "id": "0BlpAHBC_jhQ"
      },
      "execution_count": null,
      "outputs": []
    },
    {
      "cell_type": "code",
      "source": [
        "D.values()"
      ],
      "metadata": {
        "colab": {
          "base_uri": "https://localhost:8080/"
        },
        "id": "pFl93meL_3nh",
        "outputId": "7513dc17-62b2-4c37-9234-dfca5f7ced69"
      },
      "execution_count": null,
      "outputs": [
        {
          "output_type": "execute_result",
          "data": {
            "text/plain": [
              "dict_values([1, 2, 3])"
            ]
          },
          "metadata": {},
          "execution_count": 17
        }
      ]
    },
    {
      "cell_type": "markdown",
      "source": [
        "D.values() returns that displays a list of all the values in the dictionary."
      ],
      "metadata": {
        "id": "-80Aspn9uGVb"
      }
    },
    {
      "cell_type": "code",
      "source": [
        "D.keys()"
      ],
      "metadata": {
        "colab": {
          "base_uri": "https://localhost:8080/"
        },
        "id": "hUbjLvp6AC5M",
        "outputId": "4778123f-231e-4d6b-d0b4-567c8dff6afa"
      },
      "execution_count": null,
      "outputs": [
        {
          "output_type": "execute_result",
          "data": {
            "text/plain": [
              "dict_keys(['a', 'b', 'c'])"
            ]
          },
          "metadata": {},
          "execution_count": 18
        }
      ]
    },
    {
      "cell_type": "markdown",
      "source": [
        "D.keys() returns which shows all the keys in the dictionary."
      ],
      "metadata": {
        "id": "DNqE3OFFuVVR"
      }
    },
    {
      "cell_type": "code",
      "source": [
        "D['b']"
      ],
      "metadata": {
        "colab": {
          "base_uri": "https://localhost:8080/"
        },
        "id": "V_cXmbK_AIe7",
        "outputId": "c021e74b-969d-4453-f53f-2e9e9a2e1fab"
      },
      "execution_count": null,
      "outputs": [
        {
          "output_type": "execute_result",
          "data": {
            "text/plain": [
              "2"
            ]
          },
          "metadata": {},
          "execution_count": 24
        }
      ]
    },
    {
      "cell_type": "markdown",
      "source": [
        "D['b'] gives the value associated with the key 'b' in the dictionary D."
      ],
      "metadata": {
        "id": "dZOwJKOEuoPF"
      }
    },
    {
      "cell_type": "code",
      "source": [
        "A=('a', 'b', 'c')"
      ],
      "metadata": {
        "id": "FQmVgAzvAnYs"
      },
      "execution_count": null,
      "outputs": []
    },
    {
      "cell_type": "code",
      "source": [
        "A[0]"
      ],
      "metadata": {
        "colab": {
          "base_uri": "https://localhost:8080/",
          "height": 36
        },
        "id": "RFT9xeNXArjW",
        "outputId": "d1e4cd85-a77a-4dbf-bdba-1eb138262070"
      },
      "execution_count": null,
      "outputs": [
        {
          "output_type": "execute_result",
          "data": {
            "text/plain": [
              "'a'"
            ],
            "application/vnd.google.colaboratory.intrinsic+json": {
              "type": "string"
            }
          },
          "metadata": {},
          "execution_count": 26
        }
      ]
    },
    {
      "cell_type": "code",
      "source": [
        "Dict={\"a\":1, \"b\":\"2\", 'c':[3,3,3], 'd':(4,4,4), 'e':5, 'f':6}"
      ],
      "metadata": {
        "id": "SQfMiv1TAvm6"
      },
      "execution_count": null,
      "outputs": []
    },
    {
      "cell_type": "code",
      "source": [
        "Dict['d']"
      ],
      "metadata": {
        "colab": {
          "base_uri": "https://localhost:8080/"
        },
        "id": "YX8JkqB2BYgB",
        "outputId": "2c7b661c-0f7d-41a4-8f20-89a84b48d7e0"
      },
      "execution_count": null,
      "outputs": [
        {
          "output_type": "execute_result",
          "data": {
            "text/plain": [
              "(4, 4, 4)"
            ]
          },
          "metadata": {},
          "execution_count": 32
        }
      ]
    },
    {
      "cell_type": "markdown",
      "source": [
        "#Module 3"
      ],
      "metadata": {
        "id": "XPuW-o-QudmI"
      }
    },
    {
      "cell_type": "code",
      "source": [
        "i=3\n",
        "i!=2"
      ],
      "metadata": {
        "colab": {
          "base_uri": "https://localhost:8080/"
        },
        "id": "KZoPgjZLylYY",
        "outputId": "b35fc078-bd68-489e-8d13-3028aaad3bc8"
      },
      "execution_count": 15,
      "outputs": [
        {
          "output_type": "execute_result",
          "data": {
            "text/plain": [
              "True"
            ]
          },
          "metadata": {},
          "execution_count": 15
        }
      ]
    },
    {
      "cell_type": "code",
      "source": [
        "#Equality sign to compare the strings\n",
        "'Abhi'!='Nikitha'"
      ],
      "metadata": {
        "colab": {
          "base_uri": "https://localhost:8080/"
        },
        "id": "BPCJdoMmy1N7",
        "outputId": "66bf2b4e-a38a-436e-bd5d-ea604a58cc5d"
      },
      "execution_count": 17,
      "outputs": [
        {
          "output_type": "execute_result",
          "data": {
            "text/plain": [
              "True"
            ]
          },
          "metadata": {},
          "execution_count": 17
        }
      ]
    },
    {
      "cell_type": "code",
      "source": [
        "x='1'\n",
        "if(x!='0'):\n",
        "  print('This is a')\n",
        "else:\n",
        "  print('This is not a')"
      ],
      "metadata": {
        "colab": {
          "base_uri": "https://localhost:8080/"
        },
        "id": "DYTuanJ-ugb7",
        "outputId": "47503d72-da0d-47f6-d8ab-4a1e46c51792"
      },
      "execution_count": 6,
      "outputs": [
        {
          "output_type": "stream",
          "name": "stdout",
          "text": [
            "This is a\n"
          ]
        }
      ]
    },
    {
      "cell_type": "code",
      "source": [
        "y=111\n",
        "x=1\n",
        "x>0 or y<10"
      ],
      "metadata": {
        "colab": {
          "base_uri": "https://localhost:8080/"
        },
        "id": "jV7VThoEw8QX",
        "outputId": "e2649646-480f-468d-bf53-5a060263fb4a"
      },
      "execution_count": 11,
      "outputs": [
        {
          "output_type": "execute_result",
          "data": {
            "text/plain": [
              "True"
            ]
          },
          "metadata": {},
          "execution_count": 11
        }
      ]
    },
    {
      "cell_type": "code",
      "source": [
        "#If else condition\n",
        "value = 10\n",
        "if(value == 20):\n",
        "  print('Expression is true')\n",
        "else:\n",
        "  print('Expression is false')\n",
        "print('Move on')"
      ],
      "metadata": {
        "colab": {
          "base_uri": "https://localhost:8080/"
        },
        "id": "xaycH_JQxgvP",
        "outputId": "a41aab7e-ae29-4ef9-fc95-46b45ff061d5"
      },
      "execution_count": 24,
      "outputs": [
        {
          "output_type": "stream",
          "name": "stdout",
          "text": [
            "Expression is false\n",
            "Move on\n"
          ]
        }
      ]
    },
    {
      "cell_type": "code",
      "source": [
        "#Elif condition\n"
      ],
      "metadata": {
        "id": "BIILZ85-1hv_"
      },
      "execution_count": null,
      "outputs": []
    }
  ]
}