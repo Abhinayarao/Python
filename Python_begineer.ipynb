{
  "nbformat": 4,
  "nbformat_minor": 0,
  "metadata": {
    "colab": {
      "provenance": [],
      "authorship_tag": "ABX9TyPQbePFOmwwaBePqc79jhlE",
      "include_colab_link": true
    },
    "kernelspec": {
      "name": "python3",
      "display_name": "Python 3"
    },
    "language_info": {
      "name": "python"
    }
  },
  "cells": [
    {
      "cell_type": "markdown",
      "metadata": {
        "id": "view-in-github",
        "colab_type": "text"
      },
      "source": [
        "<a href=\"https://colab.research.google.com/github/Abhinayarao/Python/blob/main/Python_begineer.ipynb\" target=\"_parent\"><img src=\"https://colab.research.google.com/assets/colab-badge.svg\" alt=\"Open In Colab\"/></a>"
      ]
    },
    {
      "cell_type": "markdown",
      "source": [
        "#Module:1"
      ],
      "metadata": {
        "id": "H-QaNKjSGI3E"
      }
    },
    {
      "cell_type": "code",
      "source": [
        "print(\"Hello Python\")"
      ],
      "metadata": {
        "colab": {
          "base_uri": "https://localhost:8080/"
        },
        "id": "opL97i0gQKCe",
        "outputId": "063ee4da-9e7a-46b3-884a-ab09bbba27e8"
      },
      "execution_count": 1,
      "outputs": [
        {
          "output_type": "stream",
          "name": "stdout",
          "text": [
            "Hello Python\n"
          ]
        }
      ]
    },
    {
      "cell_type": "code",
      "source": [
        "print(\"Hello \\nWorld!\")"
      ],
      "metadata": {
        "colab": {
          "base_uri": "https://localhost:8080/"
        },
        "id": "8iC1Q4budsLp",
        "outputId": "c812c2bc-bd43-42f9-c8ca-c4bde6f5dd5a"
      },
      "execution_count": 6,
      "outputs": [
        {
          "output_type": "stream",
          "name": "stdout",
          "text": [
            "Hello \n",
            "World!\n"
          ]
        }
      ]
    },
    {
      "cell_type": "markdown",
      "source": [
        "10 = int,\n",
        "2.23 = float,\n",
        "\"Hello\" = str"
      ],
      "metadata": {
        "id": "r5EvBY3KQq0X"
      }
    },
    {
      "cell_type": "markdown",
      "source": [
        "Typecasting"
      ],
      "metadata": {
        "id": "f7w0LBhXfX6w"
      }
    },
    {
      "cell_type": "code",
      "source": [
        "int(2.2)"
      ],
      "metadata": {
        "colab": {
          "base_uri": "https://localhost:8080/"
        },
        "id": "5rLW1_HxfHo_",
        "outputId": "a45c77c1-5fd3-4790-f24f-f049721457cf"
      },
      "execution_count": 7,
      "outputs": [
        {
          "output_type": "execute_result",
          "data": {
            "text/plain": [
              "2"
            ]
          },
          "metadata": {},
          "execution_count": 7
        }
      ]
    },
    {
      "cell_type": "markdown",
      "source": [
        "Conversion of float to int may loose some information"
      ],
      "metadata": {
        "id": "qkk62ro8fd-C"
      }
    },
    {
      "cell_type": "code",
      "source": [
        "float(1)"
      ],
      "metadata": {
        "colab": {
          "base_uri": "https://localhost:8080/"
        },
        "id": "skncF007fSdo",
        "outputId": "e0364d31-98c9-455b-a93e-1be056807b83"
      },
      "execution_count": 9,
      "outputs": [
        {
          "output_type": "execute_result",
          "data": {
            "text/plain": [
              "1.0"
            ]
          },
          "metadata": {},
          "execution_count": 9
        }
      ]
    },
    {
      "cell_type": "markdown",
      "source": [
        "bool(1) = True, bool(0) = False"
      ],
      "metadata": {
        "id": "u8l4Hrgpf8bL"
      }
    },
    {
      "cell_type": "code",
      "execution_count": null,
      "metadata": {
        "id": "tfhnKUfE8q43"
      },
      "outputs": [],
      "source": [
        "A=(0,1,2,3)"
      ]
    },
    {
      "cell_type": "markdown",
      "source": [
        "Numbers[::2] means start at index 0 and take every second element."
      ],
      "metadata": {
        "id": "dUPKd_Kql4gc"
      }
    },
    {
      "cell_type": "code",
      "source": [
        "Numbers=['01234567','987654','12345678','654321']\n",
        "Numbers[::2]"
      ],
      "metadata": {
        "colab": {
          "base_uri": "https://localhost:8080/"
        },
        "id": "Td-SsO-UhDf1",
        "outputId": "ae5c4b3b-7201-441a-b4ad-1806c79ca141"
      },
      "execution_count": 36,
      "outputs": [
        {
          "output_type": "execute_result",
          "data": {
            "text/plain": [
              "['01234567', '12345678']"
            ]
          },
          "metadata": {},
          "execution_count": 36
        }
      ]
    },
    {
      "cell_type": "code",
      "source": [
        "var = '01234567'\n",
        "print(var[::2])"
      ],
      "metadata": {
        "colab": {
          "base_uri": "https://localhost:8080/"
        },
        "id": "DGxgd7cLlpCY",
        "outputId": "d4f09532-cae4-47b4-c780-430df8720902"
      },
      "execution_count": 32,
      "outputs": [
        {
          "output_type": "stream",
          "name": "stdout",
          "text": [
            "0246\n"
          ]
        }
      ]
    },
    {
      "cell_type": "markdown",
      "source": [
        "List slicing not string slicing"
      ],
      "metadata": {
        "id": "e7TOJR4QhD2e"
      }
    },
    {
      "cell_type": "code",
      "source": [
        "\"654321\".find('2')"
      ],
      "metadata": {
        "colab": {
          "base_uri": "https://localhost:8080/"
        },
        "id": "w9ytXw_nhEPx",
        "outputId": "5537a390-c085-48a3-94b4-d43a02796d4b"
      },
      "execution_count": 24,
      "outputs": [
        {
          "output_type": "execute_result",
          "data": {
            "text/plain": [
              "4"
            ]
          },
          "metadata": {},
          "execution_count": 24
        }
      ]
    },
    {
      "cell_type": "code",
      "source": [
        "\"Hello\".find('1')"
      ],
      "metadata": {
        "colab": {
          "base_uri": "https://localhost:8080/"
        },
        "id": "AJMRq8csjT8k",
        "outputId": "981fbc85-22dc-4b76-f09a-4fcbc7d6baa9"
      },
      "execution_count": 23,
      "outputs": [
        {
          "output_type": "execute_result",
          "data": {
            "text/plain": [
              "-1"
            ]
          },
          "metadata": {},
          "execution_count": 23
        }
      ]
    },
    {
      "cell_type": "markdown",
      "source": [
        "Since '1' (one) is not in the string \"Hello\", the result is -1."
      ],
      "metadata": {
        "id": "Nn-zisCahEg2"
      }
    },
    {
      "cell_type": "code",
      "source": [
        "3+2*3/3"
      ],
      "metadata": {
        "colab": {
          "base_uri": "https://localhost:8080/"
        },
        "id": "8WnJ-ShQkXXn",
        "outputId": "46cb39b1-3816-463f-9c4a-e17719deaf98"
      },
      "execution_count": 30,
      "outputs": [
        {
          "output_type": "execute_result",
          "data": {
            "text/plain": [
              "5.0"
            ]
          },
          "metadata": {},
          "execution_count": 30
        }
      ]
    },
    {
      "cell_type": "markdown",
      "source": [
        "name[0:2] means slice the string from index 0 up to index 2 (but not including index 2)"
      ],
      "metadata": {
        "id": "0vm7nzwulV-O"
      }
    },
    {
      "cell_type": "code",
      "source": [
        "name = 'Lizz'\n",
        "print(name[0:2])"
      ],
      "metadata": {
        "colab": {
          "base_uri": "https://localhost:8080/"
        },
        "id": "_BiyPySrlFtd",
        "outputId": "0922d417-497d-4bef-c3cf-6770061d6d31"
      },
      "execution_count": 31,
      "outputs": [
        {
          "output_type": "stream",
          "name": "stdout",
          "text": [
            "Li\n"
          ]
        }
      ]
    },
    {
      "cell_type": "code",
      "source": [
        "'A' + 'B'"
      ],
      "metadata": {
        "colab": {
          "base_uri": "https://localhost:8080/",
          "height": 36
        },
        "id": "R2bMl70_ovs3",
        "outputId": "08769601-6efd-409a-acc1-dc875463a80d"
      },
      "execution_count": 38,
      "outputs": [
        {
          "output_type": "execute_result",
          "data": {
            "text/plain": [
              "'AB'"
            ],
            "application/vnd.google.colaboratory.intrinsic+json": {
              "type": "string"
            }
          },
          "metadata": {},
          "execution_count": 38
        }
      ]
    },
    {
      "cell_type": "code",
      "source": [
        "var = [1, 2, 3, 4]\n",
        "print(sum(var))"
      ],
      "metadata": {
        "colab": {
          "base_uri": "https://localhost:8080/"
        },
        "id": "nWlghq_oo4A4",
        "outputId": "fc6fd41e-53bb-4473-83d9-bdbd06731019"
      },
      "execution_count": 44,
      "outputs": [
        {
          "output_type": "stream",
          "name": "stdout",
          "text": [
            "10\n"
          ]
        }
      ]
    },
    {
      "cell_type": "markdown",
      "source": [
        "#Module: 2"
      ],
      "metadata": {
        "id": "ktZJrn-RlUSl"
      }
    },
    {
      "cell_type": "markdown",
      "source": [
        "A is tuple with numbers 0,1,2,3\n",
        "\n",
        "*  Tuples are immutable (which cannot change)\n",
        "\n",
        "\n",
        "*   Lists are mutable(which can change)\n",
        "\n"
      ],
      "metadata": {
        "id": "IGheI3_-QAYV"
      }
    },
    {
      "cell_type": "code",
      "source": [
        "A = (0,3,5,8)"
      ],
      "metadata": {
        "id": "asEkr4yNqBL7"
      },
      "execution_count": 47,
      "outputs": []
    },
    {
      "cell_type": "code",
      "source": [
        "A[3]"
      ],
      "metadata": {
        "colab": {
          "base_uri": "https://localhost:8080/"
        },
        "id": "MMwJ5Jyc8_Z3",
        "outputId": "ea119037-5b77-4966-a509-9939472e2263"
      },
      "execution_count": 51,
      "outputs": [
        {
          "output_type": "execute_result",
          "data": {
            "text/plain": [
              "8"
            ]
          },
          "metadata": {},
          "execution_count": 51
        }
      ]
    },
    {
      "cell_type": "markdown",
      "source": [
        "Indexing starts from 0.\n",
        "\n",
        "A[3] gives the element at index 2, which is '8'."
      ],
      "metadata": {
        "id": "NqV3CYqdqtZa"
      }
    },
    {
      "cell_type": "code",
      "source": [
        "A[-1]"
      ],
      "metadata": {
        "colab": {
          "base_uri": "https://localhost:8080/"
        },
        "id": "_mvlZptO9OOS",
        "outputId": "f1c3bfd7-a6f1-4e47-b8e4-5cd6360325be"
      },
      "execution_count": 49,
      "outputs": [
        {
          "output_type": "execute_result",
          "data": {
            "text/plain": [
              "8"
            ]
          },
          "metadata": {},
          "execution_count": 49
        }
      ]
    },
    {
      "cell_type": "markdown",
      "source": [
        "A[-1] refers to the last element of the tuple"
      ],
      "metadata": {
        "id": "RDYxJ-MRrHWP"
      }
    },
    {
      "cell_type": "code",
      "source": [
        "B=['a', 'b', 'c']"
      ],
      "metadata": {
        "id": "uyyBCkuy9XNz"
      },
      "execution_count": null,
      "outputs": []
    },
    {
      "cell_type": "code",
      "source": [
        "B[1:-1]"
      ],
      "metadata": {
        "colab": {
          "base_uri": "https://localhost:8080/"
        },
        "id": "kgWdinVi9cVm",
        "outputId": "d3ad1c69-b99d-4341-fdec-19b85072122e"
      },
      "execution_count": null,
      "outputs": [
        {
          "output_type": "execute_result",
          "data": {
            "text/plain": [
              "['b']"
            ]
          },
          "metadata": {},
          "execution_count": 10
        }
      ]
    },
    {
      "cell_type": "markdown",
      "source": [
        "This slices the list starting at index 1 up to (but not including) index -1."
      ],
      "metadata": {
        "id": "B_fHPXcGrZnw"
      }
    },
    {
      "cell_type": "code",
      "source": [
        "S={\"A\", \"B\",\"C\"}\n",
        "U={\"A\",\"E\", \"C\"}\n",
        "S and U"
      ],
      "metadata": {
        "colab": {
          "base_uri": "https://localhost:8080/"
        },
        "id": "_aRjeNvS9o6n",
        "outputId": "c2030c6e-19ae-4779-c260-a1f5bf1f9623"
      },
      "execution_count": null,
      "outputs": [
        {
          "output_type": "execute_result",
          "data": {
            "text/plain": [
              "{'A', 'C', 'E'}"
            ]
          },
          "metadata": {},
          "execution_count": 13
        }
      ]
    },
    {
      "cell_type": "markdown",
      "source": [
        "and operator does not perform a set operation like intersection.  Instead, it follows truthy evaluation logic:\n",
        "\n"
      ],
      "metadata": {
        "id": "6IME9ARstMhZ"
      }
    },
    {
      "cell_type": "markdown",
      "source": [
        "In a logical and expression, It returns the first falsy operand, if any.\n",
        "Otherwise, it returns the last operand."
      ],
      "metadata": {
        "id": "3c-gAFQWtdq_"
      }
    },
    {
      "cell_type": "code",
      "source": [
        "S={\"A\", \"B\",\"C\"}\n",
        "U={\"A\",\"E\", \"C\"}\n",
        "S & U"
      ],
      "metadata": {
        "colab": {
          "base_uri": "https://localhost:8080/"
        },
        "id": "w0D45HEx-obj",
        "outputId": "5e92094d-804d-4b53-b11e-1489fcd9e3f7"
      },
      "execution_count": null,
      "outputs": [
        {
          "output_type": "execute_result",
          "data": {
            "text/plain": [
              "{'A', 'C'}"
            ]
          },
          "metadata": {},
          "execution_count": 14
        }
      ]
    },
    {
      "cell_type": "markdown",
      "source": [
        "The & operator performs a set intersection, It returns a new set containing elements that are common to both sets S and U."
      ],
      "metadata": {
        "id": "hGw9RYDAtb8D"
      }
    },
    {
      "cell_type": "code",
      "source": [
        "D={'a':1, 'b':2, 'c':3}"
      ],
      "metadata": {
        "id": "0BlpAHBC_jhQ"
      },
      "execution_count": null,
      "outputs": []
    },
    {
      "cell_type": "code",
      "source": [
        "D.values()"
      ],
      "metadata": {
        "colab": {
          "base_uri": "https://localhost:8080/"
        },
        "id": "pFl93meL_3nh",
        "outputId": "7513dc17-62b2-4c37-9234-dfca5f7ced69"
      },
      "execution_count": null,
      "outputs": [
        {
          "output_type": "execute_result",
          "data": {
            "text/plain": [
              "dict_values([1, 2, 3])"
            ]
          },
          "metadata": {},
          "execution_count": 17
        }
      ]
    },
    {
      "cell_type": "markdown",
      "source": [
        "D.values() returns that displays a list of all the values in the dictionary."
      ],
      "metadata": {
        "id": "-80Aspn9uGVb"
      }
    },
    {
      "cell_type": "code",
      "source": [
        "D.keys()"
      ],
      "metadata": {
        "colab": {
          "base_uri": "https://localhost:8080/"
        },
        "id": "hUbjLvp6AC5M",
        "outputId": "4778123f-231e-4d6b-d0b4-567c8dff6afa"
      },
      "execution_count": null,
      "outputs": [
        {
          "output_type": "execute_result",
          "data": {
            "text/plain": [
              "dict_keys(['a', 'b', 'c'])"
            ]
          },
          "metadata": {},
          "execution_count": 18
        }
      ]
    },
    {
      "cell_type": "markdown",
      "source": [
        "D.keys() returns which shows all the keys in the dictionary."
      ],
      "metadata": {
        "id": "DNqE3OFFuVVR"
      }
    },
    {
      "cell_type": "code",
      "source": [
        "D['b']"
      ],
      "metadata": {
        "colab": {
          "base_uri": "https://localhost:8080/"
        },
        "id": "V_cXmbK_AIe7",
        "outputId": "c021e74b-969d-4453-f53f-2e9e9a2e1fab"
      },
      "execution_count": null,
      "outputs": [
        {
          "output_type": "execute_result",
          "data": {
            "text/plain": [
              "2"
            ]
          },
          "metadata": {},
          "execution_count": 24
        }
      ]
    },
    {
      "cell_type": "markdown",
      "source": [
        "D['b'] gives the value associated with the key 'b' in the dictionary D."
      ],
      "metadata": {
        "id": "dZOwJKOEuoPF"
      }
    },
    {
      "cell_type": "code",
      "source": [
        "A=('a', 'b', 'c')"
      ],
      "metadata": {
        "id": "FQmVgAzvAnYs"
      },
      "execution_count": null,
      "outputs": []
    },
    {
      "cell_type": "code",
      "source": [
        "A[0]"
      ],
      "metadata": {
        "colab": {
          "base_uri": "https://localhost:8080/",
          "height": 36
        },
        "id": "RFT9xeNXArjW",
        "outputId": "d1e4cd85-a77a-4dbf-bdba-1eb138262070"
      },
      "execution_count": null,
      "outputs": [
        {
          "output_type": "execute_result",
          "data": {
            "text/plain": [
              "'a'"
            ],
            "application/vnd.google.colaboratory.intrinsic+json": {
              "type": "string"
            }
          },
          "metadata": {},
          "execution_count": 26
        }
      ]
    },
    {
      "cell_type": "code",
      "source": [
        "Dict={\"a\":1, \"b\":\"2\", 'c':[3,3,3], 'd':(4,4,4), 'e':5, 'f':6}"
      ],
      "metadata": {
        "id": "SQfMiv1TAvm6"
      },
      "execution_count": null,
      "outputs": []
    },
    {
      "cell_type": "code",
      "source": [
        "Dict['d']"
      ],
      "metadata": {
        "colab": {
          "base_uri": "https://localhost:8080/"
        },
        "id": "YX8JkqB2BYgB",
        "outputId": "2c7b661c-0f7d-41a4-8f20-89a84b48d7e0"
      },
      "execution_count": null,
      "outputs": [
        {
          "output_type": "execute_result",
          "data": {
            "text/plain": [
              "(4, 4, 4)"
            ]
          },
          "metadata": {},
          "execution_count": 32
        }
      ]
    },
    {
      "cell_type": "markdown",
      "source": [
        "#Module 3"
      ],
      "metadata": {
        "id": "XPuW-o-QudmI"
      }
    },
    {
      "cell_type": "code",
      "source": [
        "i=3\n",
        "i!=2"
      ],
      "metadata": {
        "colab": {
          "base_uri": "https://localhost:8080/"
        },
        "id": "KZoPgjZLylYY",
        "outputId": "b35fc078-bd68-489e-8d13-3028aaad3bc8"
      },
      "execution_count": 15,
      "outputs": [
        {
          "output_type": "execute_result",
          "data": {
            "text/plain": [
              "True"
            ]
          },
          "metadata": {},
          "execution_count": 15
        }
      ]
    },
    {
      "cell_type": "code",
      "source": [
        "#Equality sign to compare the strings\n",
        "'Abhi'!='Nikitha'"
      ],
      "metadata": {
        "colab": {
          "base_uri": "https://localhost:8080/"
        },
        "id": "BPCJdoMmy1N7",
        "outputId": "66bf2b4e-a38a-436e-bd5d-ea604a58cc5d"
      },
      "execution_count": 17,
      "outputs": [
        {
          "output_type": "execute_result",
          "data": {
            "text/plain": [
              "True"
            ]
          },
          "metadata": {},
          "execution_count": 17
        }
      ]
    },
    {
      "cell_type": "code",
      "source": [
        "x='1'\n",
        "if(x!='0'):\n",
        "  print('This is a')\n",
        "else:\n",
        "  print('This is not a')"
      ],
      "metadata": {
        "colab": {
          "base_uri": "https://localhost:8080/"
        },
        "id": "DYTuanJ-ugb7",
        "outputId": "47503d72-da0d-47f6-d8ab-4a1e46c51792"
      },
      "execution_count": 6,
      "outputs": [
        {
          "output_type": "stream",
          "name": "stdout",
          "text": [
            "This is a\n"
          ]
        }
      ]
    },
    {
      "cell_type": "code",
      "source": [
        "y=111\n",
        "x=1\n",
        "x>0 or y<10"
      ],
      "metadata": {
        "colab": {
          "base_uri": "https://localhost:8080/"
        },
        "id": "jV7VThoEw8QX",
        "outputId": "e2649646-480f-468d-bf53-5a060263fb4a"
      },
      "execution_count": 11,
      "outputs": [
        {
          "output_type": "execute_result",
          "data": {
            "text/plain": [
              "True"
            ]
          },
          "metadata": {},
          "execution_count": 11
        }
      ]
    },
    {
      "cell_type": "code",
      "source": [
        "#If else condition\n",
        "value = 10\n",
        "if(value == 20):\n",
        "  print('Expression is true')\n",
        "else:\n",
        "  print('Expression is false')\n",
        "print('Move on')"
      ],
      "metadata": {
        "colab": {
          "base_uri": "https://localhost:8080/"
        },
        "id": "xaycH_JQxgvP",
        "outputId": "a41aab7e-ae29-4ef9-fc95-46b45ff061d5"
      },
      "execution_count": 24,
      "outputs": [
        {
          "output_type": "stream",
          "name": "stdout",
          "text": [
            "Expression is false\n",
            "Move on\n"
          ]
        }
      ]
    },
    {
      "cell_type": "code",
      "source": [
        "#Elif condition\n",
        "age = 18\n",
        "if(age>18):\n",
        "  print('You can enter')\n",
        "elif(age==18):\n",
        "  print('You can enter but no alcohol')\n",
        "else:\n",
        "  print('You can not enter')"
      ],
      "metadata": {
        "colab": {
          "base_uri": "https://localhost:8080/"
        },
        "id": "BIILZ85-1hv_",
        "outputId": "474dd925-5a74-4c1b-d1d0-3deb7cc21249"
      },
      "execution_count": 2,
      "outputs": [
        {
          "output_type": "stream",
          "name": "stdout",
          "text": [
            "You can enter but no alcohol\n"
          ]
        }
      ]
    },
    {
      "cell_type": "markdown",
      "source": [
        "Logical operators\n",
        "\n",
        "*   And\n",
        "*   Or\n",
        "*   Not"
      ],
      "metadata": {
        "id": "eZYIiRHlH0FO"
      }
    },
    {
      "cell_type": "code",
      "source": [
        "#Condition statement\n",
        "movie_year=1986\n",
        "if(movie_year>1983):\n",
        "  print('This movie is greater than 1983')\n",
        "print('Do something')"
      ],
      "metadata": {
        "colab": {
          "base_uri": "https://localhost:8080/"
        },
        "id": "su9tgYqeGUxJ",
        "outputId": "1b67c18a-2356-416e-ea79-b9e683feb4ed"
      },
      "execution_count": 4,
      "outputs": [
        {
          "output_type": "stream",
          "name": "stdout",
          "text": [
            "This movie is greater than 1983\n",
            "Do something\n"
          ]
        }
      ]
    },
    {
      "cell_type": "markdown",
      "source": [
        "    A  B  A&B\n",
        "*   T  T  T\n",
        "*   T  F  F\n",
        "*   F  T  F\n",
        "*   F  F  F"
      ],
      "metadata": {
        "id": "kIT47hStITAx"
      }
    },
    {
      "cell_type": "code",
      "source": [
        "movie_year=1975\n",
        "if(movie_year>1983) and (movie_year<1990):\n",
        "  print('This movie is greater than 1983')\n",
        "else:\n",
        "  print('This movie is not greater than 1983')\n",
        "print('Do something')"
      ],
      "metadata": {
        "colab": {
          "base_uri": "https://localhost:8080/"
        },
        "id": "fCt-ANh7HcON",
        "outputId": "3700396b-0499-470f-c698-0fbdbcee1d5b"
      },
      "execution_count": 5,
      "outputs": [
        {
          "output_type": "stream",
          "name": "stdout",
          "text": [
            "This movie is not greater than 1983\n",
            "Do something\n"
          ]
        }
      ]
    },
    {
      "cell_type": "markdown",
      "source": [
        "    A  B  A or B\n",
        "\n",
        "*   T T T\n",
        "*   T F T\n",
        "*   F F F\n",
        "*   F T T"
      ],
      "metadata": {
        "id": "emnaK-lpHyNv"
      }
    },
    {
      "cell_type": "code",
      "source": [
        "#Write a Python program to check if a player has less than 10 achievements and does not play Soccer. Print their details if they meet the criteria.\n",
        "players = [\n",
        "    (\"Serena Williams\", \"Tennis\", \"23 Grand Slams\"),\n",
        "    (\"Lionel Messi\", \"Soccer\", \"7 Ballon d'Ors\"),\n",
        "    (\"Michael Phelps\", \"Swimming\", \"23 Gold Medals\"),\n",
        "    (\"Usain Bolt\", \"Athletics\", \"8 Gold Medals\"),\n",
        "    (\"Roger Federer\", \"Tennis\", \"20 Grand Slams\"),\n",
        "    (\"Cristiano Ronaldo\", \"Soccer\", \"5 Ballon d'Ors\")\n",
        "]\n",
        "for name, sport, achievement in players:\n",
        "    number=int(achievement.split()[0])\n",
        "    if(number<10) and (number != 'Soccer'):\n",
        "        print(name,',', sport, ',', achievement)"
      ],
      "metadata": {
        "colab": {
          "base_uri": "https://localhost:8080/"
        },
        "id": "e_MwhRzbPjmC",
        "outputId": "0f298216-4831-40fc-cff4-e7975f9cd01a"
      },
      "execution_count": 6,
      "outputs": [
        {
          "output_type": "stream",
          "name": "stdout",
          "text": [
            "Lionel Messi , Soccer , 7 Ballon d'Ors\n",
            "Usain Bolt , Athletics , 8 Gold Medals\n",
            "Cristiano Ronaldo , Soccer , 5 Ballon d'Ors\n"
          ]
        }
      ]
    },
    {
      "cell_type": "code",
      "source": [
        "#Write a Python program to check if a player belongs to the sport Tennis or has exactly 20 achievements. If the condition is true, print a success message.\n",
        "for name, sport, achievement in players:\n",
        "    number = int(achievement.split()[0])\n",
        "    if sport == \"Tennis\" or number == 20:\n",
        "        print(f\"Success: {name} meets the condition.\")"
      ],
      "metadata": {
        "colab": {
          "base_uri": "https://localhost:8080/"
        },
        "id": "MGvgOwX7PpMX",
        "outputId": "7ed9fad3-57d2-409d-dc47-2e5d34db3c49"
      },
      "execution_count": 7,
      "outputs": [
        {
          "output_type": "stream",
          "name": "stdout",
          "text": [
            "Success: Serena Williams meets the condition.\n",
            "Success: Roger Federer meets the condition.\n"
          ]
        }
      ]
    },
    {
      "cell_type": "code",
      "source": [
        "#Write a Python program to check if a player Lionel Messi has more than 10 achievements. If the condition is true, print the player's name, sport, and achievements else print does not have more than 10 achievements.\n",
        "player_achievements = 7\n",
        "if(player_achievements>10):\n",
        "    print('Lionel Messi, Soccer, 7 Ballon dOrs')\n",
        "else:\n",
        "    print('Does not have more than 10 achievements')"
      ],
      "metadata": {
        "colab": {
          "base_uri": "https://localhost:8080/"
        },
        "id": "uuabEDXYPzq6",
        "outputId": "41671608-81d8-4584-d407-5da85e5a57fb"
      },
      "execution_count": 12,
      "outputs": [
        {
          "output_type": "stream",
          "name": "stdout",
          "text": [
            "Does not have more than 10 achievements\n"
          ]
        }
      ]
    },
    {
      "cell_type": "code",
      "source": [
        "#Loops\n",
        "#Use loops to print out the elements in the list A:\n",
        "A=[3,4,5]\n",
        "for a in A:\n",
        "  print(a)"
      ],
      "metadata": {
        "colab": {
          "base_uri": "https://localhost:8080/"
        },
        "id": "h5Hm9X5MzxhO",
        "outputId": "19cef8e4-a4e5-479e-dae6-3781e689b494"
      },
      "execution_count": 1,
      "outputs": [
        {
          "output_type": "stream",
          "name": "stdout",
          "text": [
            "3\n",
            "4\n",
            "5\n"
          ]
        }
      ]
    },
    {
      "cell_type": "code",
      "source": [
        "#print out the sequence  1,2,..,10 :\n",
        "x=11\n",
        "y=1\n",
        "while(y!=x):\n",
        "  print(y)\n",
        "  y=y+1"
      ],
      "metadata": {
        "colab": {
          "base_uri": "https://localhost:8080/"
        },
        "id": "NCbyh4qZ85nH",
        "outputId": "809c2fc8-fb8d-40bb-8acb-72aa72489b5e"
      },
      "execution_count": 2,
      "outputs": [
        {
          "output_type": "stream",
          "name": "stdout",
          "text": [
            "1\n",
            "2\n",
            "3\n",
            "4\n",
            "5\n",
            "6\n",
            "7\n",
            "8\n",
            "9\n",
            "10\n"
          ]
        }
      ]
    },
    {
      "cell_type": "code",
      "source": [
        "dates = [1982,1980,1973]\n",
        "for i in range(0,3):\n",
        "  print(dates[i])"
      ],
      "metadata": {
        "colab": {
          "base_uri": "https://localhost:8080/"
        },
        "id": "bwVq0YN_9UEx",
        "outputId": "abb68d55-8372-4bc4-8217-1ccbe744b290"
      },
      "execution_count": 3,
      "outputs": [
        {
          "output_type": "stream",
          "name": "stdout",
          "text": [
            "1982\n",
            "1980\n",
            "1973\n"
          ]
        }
      ]
    },
    {
      "cell_type": "code",
      "source": [
        "a=1\n",
        "def add(b):\n",
        "  return a+b\n",
        "  c=add(10)"
      ],
      "metadata": {
        "id": "eOKlpj8B-nc6"
      },
      "execution_count": 4,
      "outputs": []
    },
    {
      "cell_type": "code",
      "source": [
        "def add(a):\n",
        "  b=1+A\n",
        "  print(a,\"If you add one\", b)\n",
        "  return(b)"
      ],
      "metadata": {
        "id": "qI5LObOIDtrb"
      },
      "execution_count": 5,
      "outputs": []
    },
    {
      "cell_type": "markdown",
      "source": [
        "If we call the function with a new input we get a new result"
      ],
      "metadata": {
        "id": "ab9sffuRE7EZ"
      }
    },
    {
      "cell_type": "code",
      "source": [
        "add(1)"
      ],
      "metadata": {
        "id": "tuL2xXUDE47s"
      },
      "execution_count": null,
      "outputs": []
    },
    {
      "cell_type": "code",
      "source": [
        "def mult(a,b):\n",
        "  c=a*b\n",
        "  return(c)\n",
        "  print('This is not printed')\n",
        "result = mult(12,2)\n",
        "print(result)"
      ],
      "metadata": {
        "colab": {
          "base_uri": "https://localhost:8080/"
        },
        "id": "S8EHYF0RE9OJ",
        "outputId": "284356a8-fa73-482a-8ce8-c48476ee1a3c"
      },
      "execution_count": 7,
      "outputs": [
        {
          "output_type": "stream",
          "name": "stdout",
          "text": [
            "24\n"
          ]
        }
      ]
    },
    {
      "cell_type": "code",
      "source": [
        "mult(2,12)"
      ],
      "metadata": {
        "colab": {
          "base_uri": "https://localhost:8080/"
        },
        "id": "k8MzqmVjGLtj",
        "outputId": "6951389b-0b44-4b4b-9e4c-1db9056649eb"
      },
      "execution_count": 9,
      "outputs": [
        {
          "output_type": "execute_result",
          "data": {
            "text/plain": [
              "24"
            ]
          },
          "metadata": {},
          "execution_count": 9
        }
      ]
    },
    {
      "cell_type": "code",
      "source": [
        "mult(2, \" python\")"
      ],
      "metadata": {
        "colab": {
          "base_uri": "https://localhost:8080/",
          "height": 36
        },
        "id": "TAabKrfRGeIK",
        "outputId": "e7ecc4f7-fc15-43bf-aa3e-c595d8213b18"
      },
      "execution_count": 12,
      "outputs": [
        {
          "output_type": "execute_result",
          "data": {
            "text/plain": [
              "' python python'"
            ],
            "application/vnd.google.colaboratory.intrinsic+json": {
              "type": "string"
            }
          },
          "metadata": {},
          "execution_count": 12
        }
      ]
    },
    {
      "cell_type": "code",
      "source": [
        "a1 = 4\n",
        "b1 = 5\n",
        "c1 = a1 + b1 + 2 * a1 * b1 - 1\n",
        "if(c1 < 0):\n",
        "    c1 = 0\n",
        "else:\n",
        "    c1 = 5\n",
        "c1"
      ],
      "metadata": {
        "colab": {
          "base_uri": "https://localhost:8080/"
        },
        "id": "tzf6nUdLGs3i",
        "outputId": "284f21f8-e8c1-447b-8db9-a630e9ec1c58"
      },
      "execution_count": 15,
      "outputs": [
        {
          "output_type": "execute_result",
          "data": {
            "text/plain": [
              "5"
            ]
          },
          "metadata": {},
          "execution_count": 15
        }
      ]
    },
    {
      "cell_type": "code",
      "source": [
        "a=2\n",
        "b=3\n",
        "def con(a, b):\n",
        "  result = (a+b)\n",
        "  print(result)\n",
        "  return result\n",
        "con(a,b)"
      ],
      "metadata": {
        "colab": {
          "base_uri": "https://localhost:8080/"
        },
        "id": "6jqoHSECLy1k",
        "outputId": "c1aed196-ca78-414e-adc4-776af798d3c4"
      },
      "execution_count": 19,
      "outputs": [
        {
          "output_type": "stream",
          "name": "stdout",
          "text": [
            "5\n"
          ]
        },
        {
          "output_type": "execute_result",
          "data": {
            "text/plain": [
              "5"
            ]
          },
          "metadata": {},
          "execution_count": 19
        }
      ]
    },
    {
      "cell_type": "code",
      "source": [
        "album_year =[1,33,45,87,90,23,56,43]\n",
        "album_year.sort()\n",
        "print(album_year)"
      ],
      "metadata": {
        "colab": {
          "base_uri": "https://localhost:8080/"
        },
        "id": "G-9Rz1wUNGUr",
        "outputId": "2490b474-7ef5-422a-c2ce-c1abdb6e2b72"
      },
      "execution_count": 26,
      "outputs": [
        {
          "output_type": "stream",
          "name": "stdout",
          "text": [
            "[1, 23, 33, 43, 45, 56, 87, 90]\n"
          ]
        }
      ]
    },
    {
      "cell_type": "code",
      "source": [
        "album_year =[1,33,45,87,90,23,56,43]\n",
        "album_year_sorted = sorted(album_year)\n",
        "print(album_year_sorted)"
      ],
      "metadata": {
        "colab": {
          "base_uri": "https://localhost:8080/"
        },
        "id": "pA1YN281RBLr",
        "outputId": "81592795-2f08-4978-a526-613c2570b460"
      },
      "execution_count": 25,
      "outputs": [
        {
          "output_type": "stream",
          "name": "stdout",
          "text": [
            "[1, 23, 33, 43, 45, 56, 87, 90]\n"
          ]
        }
      ]
    },
    {
      "cell_type": "code",
      "source": [
        "album_year =[1,33,45,87,90,23,56,43]\n",
        "album_year.sort()\n",
        "album_year.reverse()\n",
        "print(album_year)"
      ],
      "metadata": {
        "colab": {
          "base_uri": "https://localhost:8080/"
        },
        "id": "XQwmqEXSRjVJ",
        "outputId": "f7622fff-c02e-463b-af34-55f8d28c4345"
      },
      "execution_count": 30,
      "outputs": [
        {
          "output_type": "stream",
          "name": "stdout",
          "text": [
            "[90, 87, 56, 45, 43, 33, 23, 1]\n"
          ]
        }
      ]
    },
    {
      "cell_type": "code",
      "source": [
        "sum(album_year)"
      ],
      "metadata": {
        "colab": {
          "base_uri": "https://localhost:8080/"
        },
        "id": "i3QYi7IGR9WF",
        "outputId": "d3ef51dd-6acb-402b-b9a3-66c70b6bc921"
      },
      "execution_count": 31,
      "outputs": [
        {
          "output_type": "execute_result",
          "data": {
            "text/plain": [
              "378"
            ]
          },
          "metadata": {},
          "execution_count": 31
        }
      ]
    }
  ]
}